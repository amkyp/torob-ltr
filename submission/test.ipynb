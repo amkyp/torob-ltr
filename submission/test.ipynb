{
 "cells": [
  {
   "cell_type": "code",
   "execution_count": 7,
   "metadata": {},
   "outputs": [
    {
     "name": "stdout",
     "output_type": "stream",
     "text": [
      "2023-02-07 13:38:06.880\n"
     ]
    }
   ],
   "source": [
    "import datetime\n",
    "\n",
    "current_time = lambda : datetime.datetime.now().strftime(\"%Y-%m-%d %H:%M:%S.%f\")[:-3]\n",
    "\n",
    "print(current_time())"
   ]
  },
  {
   "cell_type": "code",
   "execution_count": 4,
   "metadata": {},
   "outputs": [
    {
     "name": "stdout",
     "output_type": "stream",
     "text": [
      "2023-02-07 13:37:03.158217\n"
     ]
    }
   ],
   "source": [
    "print(current_time())"
   ]
  },
  {
   "cell_type": "code",
   "execution_count": 8,
   "metadata": {},
   "outputs": [],
   "source": [
    "import torch\n",
    "import concurrent.futures\n"
   ]
  },
  {
   "cell_type": "code",
   "execution_count": 17,
   "metadata": {},
   "outputs": [
    {
     "name": "stdout",
     "output_type": "stream",
     "text": [
      "Found 1 devices\n",
      "[device(type='cuda', index=0)]\n"
     ]
    }
   ],
   "source": [
    "# show all available devices\n",
    "if torch.cuda.is_available():\n",
    "    num_devices = torch.cuda.device_count()\n",
    "    print(f\"Found {num_devices} devices\")\n",
    "    \n",
    "    D = torch.device\n",
    "    devices = [D(f\"cuda:{i}\") for i in range(num_devices)]\n",
    "\n",
    "    print(devices)\n",
    "\n",
    "# unpack devices as number of arguments\n",
    "cuda0, cuda1 = devices\n",
    "print(cuda0, cuda1)"
   ]
  },
  {
   "cell_type": "code",
   "execution_count": 15,
   "metadata": {},
   "outputs": [
    {
     "name": "stdout",
     "output_type": "stream",
     "text": [
      "cuda:0\n",
      "tensor([1, 2, 3], device='cuda:0')\n"
     ]
    }
   ],
   "source": [
    "current_time = lambda: datetime.datetime.now().strftime(\"%Y-%m-%d %H:%M:%S.%f\")[:-3]\n",
    "\n",
    "# run_tensor_on_cuda = lambda tensor, cuda_device: run_tensor_on_cuda(tensor, cuda_device)\n",
    "print(run_tensor_on_cuda(torch.tensor([1, 2, 3]), 0))"
   ]
  },
  {
   "cell_type": "code",
   "execution_count": null,
   "metadata": {},
   "outputs": [],
   "source": [
    "\n",
    "# for i in range(10):\n",
    "#     tensor = torch.rand(1000, 1000)\n",
    "#     with concurrent.futures.ThreadPoolExecutor(max_workers=1) as executor:\n",
    "#         future = executor.submit(run_tensor_on_cuda, tensor, 0)\n",
    "#         tensor = future.result()\n",
    "#     print(current_time())\n",
    "\n",
    "# # for two gpu's \n",
    "# cuda_devices = [0, 1]\n",
    "# for i in range(10):\n",
    "#     tensor = torch.rand(1000, 1000)\n",
    "#     with concurrent.futures.ThreadPoolExecutor(max_workers=2) as executor:\n",
    "#         futures = [executor.submit(run_tensor_on_cuda, tensor, cuda_device) for cuda_device in cuda_devices]\n",
    "#         tensors = [future.result() for future in futures]\n",
    "#     print(current_time())"
   ]
  },
  {
   "cell_type": "code",
   "execution_count": null,
   "metadata": {},
   "outputs": [],
   "source": [
    "from torchtext.legacy import data\n",
    "from torchtext.legacy.data import Field, LabelField, TabularDataset, BucketIterator\n",
    "\n",
    "raw_query = [\"search for laptops\", \"best camera under 500\", \"phone under 200\"]\n",
    "\n",
    "def preprocess_queries(raw_query):\n",
    "    text = Field(sequential=True)\n",
    "    text.build_vocab([data.Example.fromlist([raw_query], fields=[(\"text\", text)])])\n",
    "    queries = [text.preprocess(query) for query in raw_query]\n",
    "    queries = [text.process([query]) for query in queries]\n",
    "    return queries\n",
    "\n",
    "queries = preprocess_queries(raw_query)"
   ]
  },
  {
   "cell_type": "code",
   "execution_count": null,
   "metadata": {},
   "outputs": [],
   "source": [
    "from torchtext.legacy import data\n",
    "from torchtext.legacy.data import Field, LabelField, TabularDataset, BucketIterator\n",
    "\n",
    "raw_query = [\"search for laptops\", \"best camera under 500\", \"phone under 200\"]\n",
    "\n",
    "def preprocess_queries(raw_query):\n",
    "    text = data.Field(tokenize='spacy', lower=True)\n",
    "    fields = [('text', text)]\n",
    "    examples = [data.Example.fromlist([raw_query], fields) for raw_query in raw_query]\n",
    "    dataset = data.Dataset(examples, fields)\n",
    "    text.build_vocab(dataset)\n",
    "    return dataset"
   ]
  },
  {
   "cell_type": "code",
   "execution_count": null,
   "metadata": {},
   "outputs": [],
   "source": []
  }
 ],
 "metadata": {
  "kernelspec": {
   "display_name": "wsd_bert",
   "language": "python",
   "name": "python3"
  },
  "language_info": {
   "codemirror_mode": {
    "name": "ipython",
    "version": 3
   },
   "file_extension": ".py",
   "mimetype": "text/x-python",
   "name": "python",
   "nbconvert_exporter": "python",
   "pygments_lexer": "ipython3",
   "version": "3.10.8"
  },
  "orig_nbformat": 4,
  "vscode": {
   "interpreter": {
    "hash": "86d971a0677de8640fc9b98800254575979f325399ffb8a277fbf06e5151cf22"
   }
  }
 },
 "nbformat": 4,
 "nbformat_minor": 2
}
