{
 "cells": [
  {
   "cell_type": "code",
   "execution_count": null,
   "id": "de8bbea8",
   "metadata": {},
   "outputs": [],
   "source": [
    "!pip install --upgrade --no-cache-dir gdown\n",
    "\n",
    "!pip install -q hazm\n",
    "!pip install -q parsivar\n",
    "\n",
    "!pip install -q datasets  --no-cache-dir\n",
    "!pip install -q transformers  --no-cache-dir"
   ]
  },
  {
   "cell_type": "code",
   "execution_count": null,
   "id": "d2631621",
   "metadata": {},
   "outputs": [],
   "source": [
    "# !pip install -q \"datasets==2.10.1\" # previously 2.9.0"
   ]
  },
  {
   "cell_type": "code",
   "execution_count": 1,
   "id": "4014969b",
   "metadata": {},
   "outputs": [
    {
     "data": {
      "text/plain": [
       "'2.9.0'"
      ]
     },
     "execution_count": 1,
     "metadata": {},
     "output_type": "execute_result"
    }
   ],
   "source": [
    "import datasets\n",
    "datasets.__version__ # '2.9.0'"
   ]
  },
  {
   "cell_type": "code",
   "execution_count": 2,
   "id": "3713e3c8",
   "metadata": {},
   "outputs": [],
   "source": [
    "import csv\n",
    "import json\n",
    "import pickle\n",
    "import joblib\n",
    "import sqlite3\n",
    "\n",
    "from collections import defaultdict, Counter\n",
    "\n",
    "import hazm\n",
    "from parsivar import Normalizer\n",
    "\n",
    "import numpy as np\n",
    "import pandas as pd\n",
    "import matplotlib.pyplot as plt\n",
    "\n",
    "from tqdm import tqdm\n",
    "from tqdm.notebook import tqdm_notebook\n",
    "\n",
    "from sklearn.metrics import accuracy_score\n",
    "from sklearn.model_selection import train_test_split\n",
    "\n",
    "import torch\n",
    "from torch import nn\n",
    "\n",
    "from datasets import (\n",
    "    Dataset,\n",
    "    DatasetDict,\n",
    "    load_dataset,\n",
    "    load_metric,\n",
    "    load_from_disk,\n",
    "    concatenate_datasets,\n",
    ")\n",
    "from transformers import AutoTokenizer, AutoModel\n",
    "from transformers import AdamW"
   ]
  },
  {
   "cell_type": "markdown",
   "id": "a6b8d21b",
   "metadata": {},
   "source": [
    "## Normalizer"
   ]
  },
  {
   "cell_type": "code",
   "execution_count": 4,
   "id": "5a194b66",
   "metadata": {},
   "outputs": [],
   "source": [
    "class MyNormalizer:\n",
    "    def __init__(self):\n",
    "        self.parsivar_normalizer = Normalizer(\n",
    "            statistical_space_correction=True,\n",
    "            half_space_char=\" \",\n",
    "            pinglish_conversion_needed=True,\n",
    "        )\n",
    "        self.hazm_normalizer = hazm.Normalizer(\n",
    "            remove_extra_spaces=True,\n",
    "            persian_numbers=True,\n",
    "            persian_style=True,\n",
    "            punctuation_spacing=False,\n",
    "            remove_diacritics=True,\n",
    "            affix_spacing=False,\n",
    "            token_based=True,\n",
    "        )\n",
    "\n",
    "    def normalize(self, txt):\n",
    "        return self.hazm_normalizer.normalize(\n",
    "            self.parsivar_normalizer.normalize(\n",
    "                txt.replace(\"\\n\", \" \").replace(\"\\u200c\", \" \").lower().strip()\n",
    "            )\n",
    "        )\n"
   ]
  },
  {
   "cell_type": "code",
   "execution_count": 5,
   "id": "1cb566e6",
   "metadata": {},
   "outputs": [
    {
     "data": {
      "text/plain": [
       "'۳۴ ٫۰'"
      ]
     },
     "execution_count": 5,
     "metadata": {},
     "output_type": "execute_result"
    }
   ],
   "source": [
    "normalizer = MyNormalizer()\n",
    "normalizer.normalize(\"34.0\")"
   ]
  },
  {
   "cell_type": "markdown",
   "id": "34103aa6",
   "metadata": {},
   "source": [
    "## Load Data"
   ]
  },
  {
   "cell_type": "code",
   "execution_count": 6,
   "id": "d71cd09b",
   "metadata": {},
   "outputs": [],
   "source": [
    "class JsonFileIterator:\n",
    "    def __init__(self, path):\n",
    "        self.path = path\n",
    "        self.f = open(path, \"r\")\n",
    "        self.i = 0\n",
    "        self.length = self.counter_lines()\n",
    "\n",
    "    def __iter__(self):\n",
    "        return self\n",
    "\n",
    "    def __next__(self):\n",
    "        line = self.f.readline()\n",
    "        if not line:\n",
    "            # End of file\n",
    "            self.f.close()\n",
    "            raise StopIteration\n",
    "        self.i += 1\n",
    "        return json.loads(line)\n",
    "\n",
    "    def counter_lines(self):\n",
    "        with open(self.path, \"r\") as f1:\n",
    "            return sum(1 for _ in f1)\n",
    "\n",
    "    def __len__(self):\n",
    "        return self.length\n"
   ]
  },
  {
   "cell_type": "code",
   "execution_count": 51,
   "id": "ebf8f8f4",
   "metadata": {},
   "outputs": [],
   "source": [
    "search_data = JsonFileIterator(\"./data/torob-search-data_v1.jsonl\")"
   ]
  },
  {
   "cell_type": "code",
   "execution_count": 52,
   "id": "92924957",
   "metadata": {},
   "outputs": [],
   "source": [
    "search_df = pd.DataFrame(search_data)"
   ]
  },
  {
   "cell_type": "code",
   "execution_count": 53,
   "id": "c846b8cc",
   "metadata": {},
   "outputs": [
    {
     "data": {
      "text/plain": [
       "raw_query                                           لوستر سقفی برنز\n",
       "result            [7151290, 6462477, 7385791, 8451497, None, 269...\n",
       "clicked_result                                            [9457219]\n",
       "clicked_rank                                                   [16]\n",
       "timestamp                          2022-07-24T09:21:58.752000+00:00\n",
       "Name: 0, dtype: object"
      ]
     },
     "execution_count": 53,
     "metadata": {},
     "output_type": "execute_result"
    }
   ],
   "source": [
    "search_df.iloc[0]"
   ]
  },
  {
   "cell_type": "code",
   "execution_count": 54,
   "id": "f21da1d0",
   "metadata": {},
   "outputs": [],
   "source": [
    "correction = joblib.load(f\"spell_check-corrections.pkl\")"
   ]
  },
  {
   "cell_type": "code",
   "execution_count": 55,
   "id": "d72def13",
   "metadata": {},
   "outputs": [
    {
     "data": {
      "text/plain": [
       "1775"
      ]
     },
     "execution_count": 55,
     "metadata": {},
     "output_type": "execute_result"
    }
   ],
   "source": [
    "len(correction) #75895"
   ]
  },
  {
   "cell_type": "code",
   "execution_count": null,
   "id": "b307ac39",
   "metadata": {},
   "outputs": [],
   "source": [
    "print(\"دوچرخ\" in correction_complete)"
   ]
  },
  {
   "cell_type": "code",
   "execution_count": null,
   "id": "1f16b4bf",
   "metadata": {},
   "outputs": [],
   "source": [
    "for i, row in tqdm(temp_df.iterrows(), total=len(search_df)):\n",
    "    word = row['raw_query']\n",
    "    if word in correction_complete:\n",
    "        corrected_word = correction_complete[word]\n",
    "#         print(word)\n",
    "        search_df.at[i, 'raw_query'] = corrected_word"
   ]
  },
  {
   "cell_type": "code",
   "execution_count": 49,
   "id": "155e2428",
   "metadata": {},
   "outputs": [
    {
     "data": {
      "text/plain": [
       "(37035, 5)"
      ]
     },
     "execution_count": 49,
     "metadata": {},
     "output_type": "execute_result"
    }
   ],
   "source": [
    "# search_df[search_df[\"raw_query\"] == \"دوچرخه\"].shape (37035, 5)"
   ]
  },
  {
   "cell_type": "code",
   "execution_count": null,
   "id": "63544139",
   "metadata": {},
   "outputs": [],
   "source": [
    "queries = dict()\n",
    "for search in tqdm(search_query.to_dict('records')):\n",
    "    query = search[\"raw_query\"]\n",
    "    normalized_query = normalizer.normalize(query)\n",
    "    if normalized_query not in queries:\n",
    "        queries[normalized_query] = 1\n",
    "    else:\n",
    "        queries[normalized_query] += 1"
   ]
  },
  {
   "cell_type": "code",
   "execution_count": 46,
   "id": "bb31b3f5",
   "metadata": {},
   "outputs": [
    {
     "data": {
      "application/vnd.jupyter.widget-view+json": {
       "model_id": "10b3f61b709c405997425bbc73ab685a",
       "version_major": 2,
       "version_minor": 0
      },
      "text/plain": [
       "0it [00:00, ?it/s]"
      ]
     },
     "metadata": {},
     "output_type": "display_data"
    }
   ],
   "source": [
    "normalizer = MyNormalizer()\n",
    "queries = dict()\n",
    "\n",
    "for i, search in tqdm_notebook(search_df.iterrows(), total=len(search_df)):\n",
    "    raw_query = search[\"raw_query\"]\n",
    "    normalized_query = normalizer.normalize(raw_query)\n",
    "    if queries.get(normalized_query, -1) == -1:\n",
    "        queries[normalized_query] = 1\n",
    "    else:\n",
    "        queries[normalized_query] += 1"
   ]
  },
  {
   "cell_type": "code",
   "execution_count": null,
   "id": "985ac986",
   "metadata": {},
   "outputs": [],
   "source": [
    "queries"
   ]
  },
  {
   "cell_type": "code",
   "execution_count": 36,
   "id": "52c94be9",
   "metadata": {},
   "outputs": [],
   "source": [
    "# search_df.reset_index(inplace=True)"
   ]
  },
  {
   "cell_type": "code",
   "execution_count": 43,
   "id": "e9d454b8",
   "metadata": {},
   "outputs": [
    {
     "data": {
      "text/plain": [
       "0           لوستر سقفی برنز\n",
       "1            قسیمت هلیکوپتر\n",
       "2              سساعت هوشمند\n",
       "3               تفلشون مایع\n",
       "4                    خط زنن\n",
       "                 ...       \n",
       "2499896    مبل راحتی 9 نفره\n",
       "2499897                 اپل\n",
       "2499898           مبل چسبتر\n",
       "2499899      ششلوار مردانهه\n",
       "2499900    ساندویچ ساز میگل\n",
       "Name: raw_query, Length: 2499901, dtype: object"
      ]
     },
     "execution_count": 43,
     "metadata": {},
     "output_type": "execute_result"
    }
   ],
   "source": [
    "search_df['raw_query']"
   ]
  },
  {
   "cell_type": "code",
   "execution_count": null,
   "id": "486b179e",
   "metadata": {},
   "outputs": [],
   "source": [
    "agg_searches = defaultdict(\n",
    "    lambda: dict(\n",
    "        results = Counter(),\n",
    "        clicks = Counter(),\n",
    "    )\n",
    ")"
   ]
  },
  {
   "cell_type": "code",
   "execution_count": 30,
   "id": "f1ead737",
   "metadata": {},
   "outputs": [
    {
     "name": "stdout",
     "output_type": "stream",
     "text": [
      "Aggregating searches based on raw query...\n"
     ]
    },
    {
     "data": {
      "application/vnd.jupyter.widget-view+json": {
       "model_id": "e919c292aab64b06b0c1534f5bce40fe",
       "version_major": 2,
       "version_minor": 0
      },
      "text/plain": [
       "  0%|          | 0/2499901 [00:00<?, ?it/s]"
      ]
     },
     "metadata": {},
     "output_type": "display_data"
    }
   ],
   "source": [
    "print(\"Aggregating searches based on raw query...\")\n",
    "\n",
    "for i, search in tqdm_notebook(search_df.iterrows(), total=len(search_df)):\n",
    "    raw_query = search[\"raw_query\"]\n",
    "    normalized_query = normalizer.normalize(raw_query)\n",
    "\n",
    "    if queries[normalized_query] >= 30:\n",
    "        results = search[\"result\"][: np.max(search[\"clicked_rank\"]) + 8]\n",
    "        clicked_results = search[\"clicked_result\"]\n",
    "        agg_searches[normalized_query][\"results\"].update(results)\n",
    "        agg_searches[normalized_query][\"clicks\"].update(clicked_results)"
   ]
  },
  {
   "cell_type": "code",
   "execution_count": 31,
   "id": "02f9f339",
   "metadata": {},
   "outputs": [
    {
     "data": {
      "text/plain": [
       "10435"
      ]
     },
     "execution_count": 31,
     "metadata": {},
     "output_type": "execute_result"
    }
   ],
   "source": [
    "len(agg_searches) # 10435"
   ]
  },
  {
   "cell_type": "markdown",
   "id": "eac22a2f",
   "metadata": {},
   "source": [
    "<!--  -->"
   ]
  },
  {
   "cell_type": "code",
   "execution_count": 32,
   "id": "71d3b62c",
   "metadata": {},
   "outputs": [],
   "source": [
    "stopwords = []\n",
    "with open('stop-words.txt', encoding='utf-8' ) as f:\n",
    "    for line in f:\n",
    "        stopwords.append(normalizer.normalize(line.strip()))"
   ]
  },
  {
   "cell_type": "code",
   "execution_count": 33,
   "id": "c7ec42d5",
   "metadata": {},
   "outputs": [],
   "source": [
    "def find_new_words(titles_list, index_high_len):\n",
    "    highest_len_title_words = titles_list[index_high_len].split()\n",
    "    total_new_words = []\n",
    "    for i in range(1, len(titles_list)):\n",
    "        if i != index_high_len:\n",
    "            words = titles_list[i].split()\n",
    "            new_words = [word for word in words if word not in highest_len_title_words]\n",
    "            new_words = [word for word in new_words if word not in stopwords]\n",
    "            total_new_words += new_words\n",
    "    return list(set(total_new_words))"
   ]
  },
  {
   "cell_type": "markdown",
   "id": "83ecc6b6",
   "metadata": {},
   "source": [
    "<!--  -->"
   ]
  },
  {
   "cell_type": "code",
   "execution_count": 34,
   "id": "c25155c0",
   "metadata": {},
   "outputs": [],
   "source": [
    "agg_s = list(agg_searches.keys())"
   ]
  },
  {
   "cell_type": "code",
   "execution_count": 19,
   "id": "1a45f0d7",
   "metadata": {},
   "outputs": [],
   "source": [
    "# with open('./data/torob_list_search', 'wb') as fp:\n",
    "#     pickle.dump(agg_s, fp, protocol=pickle.HIGHEST_PROTOCOL)"
   ]
  },
  {
   "cell_type": "markdown",
   "id": "b6d167ed",
   "metadata": {},
   "source": [
    "<!--  -->"
   ]
  },
  {
   "cell_type": "code",
   "execution_count": 35,
   "id": "0913052c",
   "metadata": {},
   "outputs": [
    {
     "data": {
      "text/plain": [
       "10435"
      ]
     },
     "execution_count": 35,
     "metadata": {},
     "output_type": "execute_result"
    }
   ],
   "source": [
    "len(agg_s)"
   ]
  },
  {
   "cell_type": "code",
   "execution_count": 36,
   "id": "7c4e3049",
   "metadata": {},
   "outputs": [
    {
     "data": {
      "text/plain": [
       "10435"
      ]
     },
     "execution_count": 36,
     "metadata": {},
     "output_type": "execute_result"
    }
   ],
   "source": [
    "len(agg_searches)"
   ]
  },
  {
   "cell_type": "code",
   "execution_count": 37,
   "id": "88f107ac",
   "metadata": {},
   "outputs": [
    {
     "data": {
      "text/plain": [
       "['ساعت هوشمند',\n",
       " 'خط زن',\n",
       " 'پرده پذیرایی',\n",
       " 'ایفون ۱۳ پرو',\n",
       " 'عینک افتابی',\n",
       " 'لوازم ارایشی',\n",
       " 'ترازو',\n",
       " 'گوشیa ۳۰',\n",
       " 'گوشی ایفون ۱۲',\n",
       " 'گوشی سامسونگ']"
      ]
     },
     "execution_count": 37,
     "metadata": {},
     "output_type": "execute_result"
    }
   ],
   "source": [
    "agg_s[:10]"
   ]
  },
  {
   "cell_type": "code",
   "execution_count": null,
   "id": "eca37f87",
   "metadata": {},
   "outputs": [],
   "source": [
    "agg_searches[agg_s[0]]"
   ]
  },
  {
   "cell_type": "markdown",
   "id": "1a8ecfd5",
   "metadata": {},
   "source": [
    "<!--  -->"
   ]
  },
  {
   "cell_type": "code",
   "execution_count": 39,
   "id": "ed54eead",
   "metadata": {},
   "outputs": [],
   "source": [
    "product_info = JsonFileIterator(\"./data/products-info_v1.jsonl\")"
   ]
  },
  {
   "cell_type": "markdown",
   "id": "490aa3c9",
   "metadata": {},
   "source": [
    "<!--  -->"
   ]
  },
  {
   "cell_type": "code",
   "execution_count": 40,
   "id": "740e252d",
   "metadata": {},
   "outputs": [],
   "source": [
    "def read_json_lines(path, n_lines=None):\n",
    "    \"\"\"Creates a generator which reads and returns lines of\n",
    "    a json lines file, one line at a time, each as a dictionary.\n",
    "\n",
    "    This could be used as a memory-efficient alternative of `pandas.read_json`\n",
    "    for reading a json lines file.\n",
    "    \"\"\"\n",
    "    with open(path, 'r') as f:\n",
    "        for i, line in enumerate(f):\n",
    "            if n_lines == i:\n",
    "                break\n",
    "            yield json.loads(line)"
   ]
  },
  {
   "cell_type": "code",
   "execution_count": 41,
   "id": "01700654",
   "metadata": {},
   "outputs": [],
   "source": [
    "product = pd.DataFrame(read_json_lines('./data/products-info_v1.jsonl'))"
   ]
  },
  {
   "cell_type": "code",
   "execution_count": 42,
   "id": "b705c20a",
   "metadata": {},
   "outputs": [],
   "source": [
    "product = product.set_index(\"id\")"
   ]
  },
  {
   "cell_type": "code",
   "execution_count": 43,
   "id": "028e8cb2",
   "metadata": {},
   "outputs": [
    {
     "data": {
      "text/plain": [
       "3612277"
      ]
     },
     "execution_count": 43,
     "metadata": {},
     "output_type": "execute_result"
    }
   ],
   "source": [
    "len(product)"
   ]
  },
  {
   "cell_type": "code",
   "execution_count": 44,
   "id": "2202f6bb",
   "metadata": {},
   "outputs": [
    {
     "data": {
      "text/plain": [
       "category_name                                   میکروسکوپ\n",
       "titles           [میکروسکوپ اپتیکی سلسترون مدل 44121 CGL]\n",
       "min_price                                       1900000.0\n",
       "max_price                                       2082000.0\n",
       "avg_price                                  1928314.393939\n",
       "min_num_shops                                         1.0\n",
       "max_num_shops                                         2.0\n",
       "avg_num_shops                                    1.655303\n",
       "Name: 1867826, dtype: object"
      ]
     },
     "execution_count": 44,
     "metadata": {},
     "output_type": "execute_result"
    }
   ],
   "source": [
    "product.loc[1867826]"
   ]
  },
  {
   "cell_type": "code",
   "execution_count": 45,
   "id": "5e0847cc",
   "metadata": {},
   "outputs": [
    {
     "data": {
      "text/plain": [
       "['میکروسکوپ اپتیکی سلسترون مدل 44121 CGL']"
      ]
     },
     "execution_count": 45,
     "metadata": {},
     "output_type": "execute_result"
    }
   ],
   "source": [
    "product.loc[1867826][\"titles\"]"
   ]
  },
  {
   "cell_type": "code",
   "execution_count": null,
   "id": "6d6642d0",
   "metadata": {},
   "outputs": [],
   "source": [
    "product.loc[1867826].min_price"
   ]
  },
  {
   "cell_type": "markdown",
   "id": "3584abca",
   "metadata": {},
   "source": [
    "<!--  -->"
   ]
  },
  {
   "cell_type": "markdown",
   "id": "cd889a79",
   "metadata": {},
   "source": [
    "## Prepare data"
   ]
  },
  {
   "cell_type": "code",
   "execution_count": null,
   "id": "1085db1a",
   "metadata": {},
   "outputs": [],
   "source": [
    "with open(\"dataset_v4_2.txt\", \"w\", encoding=\"utf-8\", newline=\"\") as csvfile:\n",
    "    wrtiter = csv.writer(csvfile)\n",
    "    wrtiter.writerow(\n",
    "        [\n",
    "            \"query\",\n",
    "            \"product_id\",\n",
    "            \"p_des\",\n",
    "            \"product_title\",\n",
    "            \"category_name\",\n",
    "            \"min_num_shops\",\n",
    "            \"max_num_shops\",\n",
    "            \"avg_num_shops\",\n",
    "            \"min_price\",\n",
    "            \"max_price\",\n",
    "            \"avg_price\",\n",
    "            \"mean_min_prices\",\n",
    "            \"mean_max_prices\",\n",
    "            \"mean_avg_prices\",\n",
    "            \"std_min_prices\",\n",
    "            \"std_max_prices\",\n",
    "            \"std_avg_prices\",\n",
    "            \"num_query\",\n",
    "            \"impression\",\n",
    "            \"candidate_score1\",\n",
    "            \"candidate_score2\",\n",
    "            \"clicks\",\n",
    "            \"max_clicks\",\n",
    "            \"len_results\",\n",
    "            \"impressions\",\n",
    "            \"ctr\",\n",
    "            \"max_shop_processed\",\n",
    "            \"popularity\",\n",
    "        ]\n",
    "    )\n",
    "    # conn = sqlite3.connect(\"my_database.db\")\n",
    "    # c = conn.cursor()\n",
    "    \n",
    "    data_list = [] \n",
    "    \n",
    "    for query in tqdm_notebook(agg_s):\n",
    "        \n",
    "#         print(query)\n",
    "        results = agg_searches[query]\n",
    "\n",
    "        # print(results) #\n",
    "\n",
    "        min_prices = []\n",
    "        max_prices = []\n",
    "        avg_prices = []\n",
    "\n",
    "        for product_id, res_clicks in results[\"results\"].most_common(60):\n",
    "            if product_id != None:\n",
    "\n",
    "                result_product = product.loc[product_id]\n",
    "\n",
    "                # c.execute(\"SELECT * FROM products WHERE id = ?\", (product_id,))\n",
    "                # result_product = c.fetchone()\n",
    "\n",
    "                if result_product[2] != None:\n",
    "                    if result_product[2] != None:\n",
    "                        min_prices.append(result_product[2])\n",
    "                    if result_product[3] != None:\n",
    "                        max_prices.append(result_product[3])\n",
    "                    if result_product[4] != None:\n",
    "                        avg_prices.append(result_product[4])\n",
    "\n",
    "            mean_min_prices = np.mean(min_prices)\n",
    "            mean_max_prices = np.mean(max_prices)\n",
    "            mean_avg_prices = np.mean(avg_prices)\n",
    "\n",
    "            std_min_prices = np.std(min_prices)\n",
    "            std_max_prices = np.std(max_prices)\n",
    "            std_avg_prices = np.std(avg_prices)\n",
    "\n",
    "        for product_id, res_clicks in results[\"results\"].most_common(60):\n",
    "            if product_id != None:\n",
    "#                 print(product_id)\n",
    "                # c.execute(\"SELECT * FROM products WHERE id = ?\", (product_id,))\n",
    "                # result_product = c.fetchone()\n",
    "\n",
    "#                 print(res_clicks) # impression\n",
    "\n",
    "                result_product = product.loc[product_id]\n",
    "\n",
    "                ##################################################\n",
    "                # print(result_product)\n",
    "                ##################################################\n",
    "\n",
    "                category_name = result_product[0]\n",
    "                min_price = result_product[2]\n",
    "                max_price = result_product[3]\n",
    "                avg_price = result_product[4]\n",
    "\n",
    "                titles_list_product = product.loc[product_id][\"titles\"]\n",
    "#                 print(titles_list_product)\n",
    "\n",
    "                # titles_list_product = json.loads(result_product[2])\n",
    "\n",
    "                if len(titles_list_product) > 0:\n",
    "                    min_num_shops = result_product[5]\n",
    "                    max_num_shops = result_product[6]\n",
    "                    avg_num_shops = result_product[7]\n",
    "                    highest_len_product = max(titles_list_product, key=len)\n",
    "                    index_highest_len_product = titles_list_product.index(\n",
    "                        highest_len_product\n",
    "                    )\n",
    "                    product_title_new_words = find_new_words(\n",
    "                        titles_list_product, index_highest_len_product\n",
    "                    )\n",
    "\n",
    "                    # highest length product title\n",
    "                    product_title = highest_len_product\n",
    "\n",
    "                    p_des = \" \".join(\n",
    "                        [highest_len_product, \" \".join(product_title_new_words)]\n",
    "                    ).replace(\"\\u200c\", \" \")\n",
    "\n",
    "                    clicks = results[\"clicks\"].get(product_id, 0)\n",
    "                    max_clicks = np.max(list(results[\"clicks\"].values()))\n",
    "\n",
    "#                     print(\"clicks: \", clicks, \"max_clicks: \", max_clicks)\n",
    "#                     print(\"clicks by max clicks:\", clicks/max_clicks)\n",
    "\n",
    "                    ##### score \n",
    "                    candidate_score = results[\"clicks\"].get(product_id, 0)\n",
    "                    candidate_score1 = np.log2(candidate_score + 1)\n",
    "                    candidate_score2 = np.log2(candidate_score + 1) / np.log2(\n",
    "                        max_clicks + 1\n",
    "                    )\n",
    "\n",
    "                    # clicks, impressions, ctr, ctr_laplace_normalized, \n",
    "\n",
    "                    clicks = results[\"clicks\"].get(product_id, 0)\n",
    "# \n",
    "#                     print(\"=======================s of impre=======================\")\n",
    "#                     print(results[\"results\"].get(product_id, 0))\n",
    "#                     print(\"=======================e of impre=======================\")\n",
    "# \n",
    "                    impressions = results[\"results\"].get(product_id, 0)\n",
    "\n",
    "                    ctr = clicks / impressions\n",
    "\n",
    "#                     print(max_clicks)\n",
    "#                     ctr_laplace_normalized = (clicks + 1) / (impressions + len(results[\"results\"]))\n",
    "\n",
    "                    len_result =  len(results[\"results\"])\n",
    " \n",
    "                    # click_per_maxclick = clicks + 1 / max_clicks + 1\n",
    "                    # ctr_normalized_multiplied_clicks_normalized = ctr_laplace_normalized * click_per_maxclick\n",
    "\n",
    "                    max_shop_processed = normalizer.normalize(str(int(np.log2(int(max_num_shops) + 1))))\n",
    "                    popularity = \"popularity is \" + max_shop_processed\n",
    "\n",
    "                    wrtiter.writerow(\n",
    "                        [\n",
    "                            query,\n",
    "                            product_id,\n",
    "                            p_des,\n",
    "                            product_title,\n",
    "                            category_name,\n",
    "                            min_num_shops,\n",
    "                            max_num_shops,\n",
    "                            avg_num_shops,\n",
    "                            min_price,\n",
    "                            max_price,\n",
    "                            avg_price,\n",
    "                            mean_min_prices,\n",
    "                            mean_max_prices,\n",
    "                            mean_avg_prices,\n",
    "                            std_min_prices,\n",
    "                            std_max_prices,\n",
    "                            std_avg_prices,\n",
    "                            queries[query],\n",
    "                            res_clicks, # impression\n",
    "                            candidate_score1,\n",
    "                            candidate_score2,\n",
    "                            clicks,\n",
    "                            max_clicks,\n",
    "                            len_result, # number of product for intended query\n",
    "                            impressions, # impression\n",
    "                            ctr, # not normalized with laplacian\n",
    "                            max_shop_processed,\n",
    "                            popularity,\n",
    "                        ]\n",
    "                    )\n",
    "    # conn.close()\n",
    "\n",
    "df = pd.read_csv(\"dataset_v4_2.txt\", sep=\",\")\n",
    "df.head()"
   ]
  },
  {
   "cell_type": "code",
   "execution_count": 105,
   "id": "129a0e1a",
   "metadata": {},
   "outputs": [
    {
     "data": {
      "text/plain": [
       "query                                                       ساعت هوشمند\n",
       "product_id                                                      9391819\n",
       "p_des                 ساعت هوشمند مدل T55 WATCH به همراه  یک عدد بند...\n",
       "product_title         ساعت هوشمند مدل T55 WATCH به همراه‌ یک عدد بند...\n",
       "category_name                                      ساعت و مچ بند هوشمند\n",
       "min_num_shops                                                       3.0\n",
       "max_num_shops                                                       9.0\n",
       "avg_num_shops                                                   5.32913\n",
       "min_price                                                      245000.0\n",
       "max_price                                                      400000.0\n",
       "avg_price                                                 345821.466588\n",
       "mean_min_prices                                          1709868.338983\n",
       "mean_max_prices                                          2879725.423729\n",
       "mean_avg_prices                                          2728835.966946\n",
       "std_min_prices                                           2148839.982319\n",
       "std_max_prices                                           2916697.268452\n",
       "std_avg_prices                                            2741981.38182\n",
       "num_query                                                         10788\n",
       "impression                                                        10066\n",
       "click                                                         11.449149\n",
       "candidate_score1                                                    1.0\n",
       "candidate_score2                                                   2795\n",
       "clicks                                                             2795\n",
       "max_clicks                                                         3597\n",
       "len_results                                                       10066\n",
       "impressions                                                    0.277667\n",
       "ctr                                                                   ۳\n",
       "max_shop_processed                                      popularity is ۳\n",
       "popularity                                                          NaN\n",
       "Name: 0, dtype: object"
      ]
     },
     "execution_count": 105,
     "metadata": {},
     "output_type": "execute_result"
    }
   ],
   "source": [
    "df.iloc[0]"
   ]
  },
  {
   "cell_type": "code",
   "execution_count": 68,
   "id": "7b3db305",
   "metadata": {},
   "outputs": [
    {
     "data": {
      "text/plain": [
       "['dataset_v3_2.pkl']"
      ]
     },
     "execution_count": 68,
     "metadata": {},
     "output_type": "execute_result"
    }
   ],
   "source": [
    "joblib.dump(df, \"dataset_v4_2.pkl\") # len is 603637"
   ]
  },
  {
   "cell_type": "code",
   "execution_count": 6,
   "id": "498d188a",
   "metadata": {},
   "outputs": [],
   "source": [
    "df = joblib.load(\"dataset_v4_2.pkl\")"
   ]
  },
  {
   "cell_type": "code",
   "execution_count": 78,
   "id": "306f6c3b",
   "metadata": {},
   "outputs": [
    {
     "data": {
      "text/plain": [
       "category_name                                      کیف و کاور گوشی\n",
       "titles           [Green iPhone 13 Pro Max Hard Hibrido Shield C...\n",
       "min_price                                                 328000.0\n",
       "max_price                                                 345000.0\n",
       "avg_price                                            344958.435208\n",
       "min_num_shops                                                  4.0\n",
       "max_num_shops                                                  5.0\n",
       "avg_num_shops                                              4.97555\n",
       "Name: 7861059, dtype: object"
      ]
     },
     "execution_count": 78,
     "metadata": {},
     "output_type": "execute_result"
    }
   ],
   "source": [
    "result_product = product.loc[7861059]\n",
    "result_product"
   ]
  },
  {
   "cell_type": "code",
   "execution_count": null,
   "id": "b1905bca",
   "metadata": {},
   "outputs": [],
   "source": [
    "results = agg_searches[\"ساعت هوشمند\"]\n",
    "agg_searches[\"ساعت هوشمند\"]"
   ]
  },
  {
   "cell_type": "code",
   "execution_count": 98,
   "id": "5b70bbfa",
   "metadata": {},
   "outputs": [
    {
     "data": {
      "text/plain": [
       "10066"
      ]
     },
     "execution_count": 98,
     "metadata": {},
     "output_type": "execute_result"
    }
   ],
   "source": [
    "max(results[\"results\"].values())"
   ]
  },
  {
   "cell_type": "code",
   "execution_count": 106,
   "id": "94a3f259",
   "metadata": {},
   "outputs": [],
   "source": [
    "copy = df.copy(deep=True)\n",
    "# df.iloc[226]"
   ]
  },
  {
   "cell_type": "code",
   "execution_count": null,
   "id": "69ec42ce",
   "metadata": {},
   "outputs": [],
   "source": [
    "cols_to_shift = copy.columns[copy.columns.get_loc('click'):]"
   ]
  },
  {
   "cell_type": "code",
   "execution_count": null,
   "id": "44addbbe",
   "metadata": {},
   "outputs": [],
   "source": [
    "copy[cols_to_shift] = copy[cols_to_shift].shift(1, axis=1)"
   ]
  },
  {
   "cell_type": "code",
   "execution_count": null,
   "id": "c909e0ed",
   "metadata": {},
   "outputs": [],
   "source": [
    "copy.drop('click', axis=1, inplace=True)"
   ]
  },
  {
   "cell_type": "code",
   "execution_count": null,
   "id": "df367319",
   "metadata": {},
   "outputs": [],
   "source": [
    "copy"
   ]
  },
  {
   "cell_type": "code",
   "execution_count": null,
   "id": "16befaf4",
   "metadata": {},
   "outputs": [],
   "source": [
    "temp_df = copy.copy(deep=True)"
   ]
  },
  {
   "cell_type": "code",
   "execution_count": null,
   "id": "08143fca",
   "metadata": {},
   "outputs": [],
   "source": [
    "temp_df"
   ]
  },
  {
   "cell_type": "code",
   "execution_count": null,
   "id": "3b4cf23e",
   "metadata": {},
   "outputs": [],
   "source": [
    "cols_to_fill = ['min_price', 'max_price', 'avg_price', 'mean_min_prices', 'mean_max_prices', 'mean_avg_prices', 'std_min_prices', 'std_max_prices', 'std_avg_prices']\n",
    "for col in cols_to_fill:\n",
    "    temp_df[col] = temp_df[col].fillna(0)\n"
   ]
  },
  {
   "cell_type": "code",
   "execution_count": null,
   "id": "00218df9",
   "metadata": {},
   "outputs": [],
   "source": [
    "temp_df"
   ]
  },
  {
   "cell_type": "code",
   "execution_count": null,
   "id": "54181745",
   "metadata": {},
   "outputs": [],
   "source": [
    "temp_df[\"clicks_by_max_clicks\"] = (temp_df['clicks'] + 1) / (temp_df['max_clicks'] + 1)"
   ]
  },
  {
   "cell_type": "code",
   "execution_count": null,
   "id": "613cce23",
   "metadata": {},
   "outputs": [],
   "source": [
    "temp_df"
   ]
  },
  {
   "cell_type": "code",
   "execution_count": null,
   "id": "8f21073b",
   "metadata": {},
   "outputs": [],
   "source": [
    "temp_df[\"ctr_normalized_by_click_normalized\"] = ((temp_df['clicks'] + 1) / (temp_df['impressions'] + temp_df['len_results'])) * (temp_df['clicks_by_max_clicks'])"
   ]
  },
  {
   "cell_type": "code",
   "execution_count": null,
   "id": "4ae700d6",
   "metadata": {},
   "outputs": [],
   "source": [
    "temp_df"
   ]
  },
  {
   "cell_type": "code",
   "execution_count": null,
   "id": "babbb2a8",
   "metadata": {},
   "outputs": [],
   "source": [
    "temp_df[\"ctr_normalized\"] = ((temp_df['clicks'] + 1) / (temp_df['impressions'] + temp_df['len_results']))"
   ]
  },
  {
   "cell_type": "code",
   "execution_count": null,
   "id": "f0ac8589",
   "metadata": {},
   "outputs": [],
   "source": [
    "temp_df"
   ]
  },
  {
   "cell_type": "code",
   "execution_count": null,
   "id": "d6120ddc",
   "metadata": {},
   "outputs": [],
   "source": [
    "grouped = temp_df.set_index(\"product_id\").groupby(\"query\")"
   ]
  },
  {
   "cell_type": "code",
   "execution_count": null,
   "id": "574d405e",
   "metadata": {},
   "outputs": [],
   "source": [
    "grouped.get_group(\"دوچرخه\")"
   ]
  },
  {
   "cell_type": "code",
   "execution_count": null,
   "id": "34f2cf41",
   "metadata": {},
   "outputs": [],
   "source": [
    "# # group by \"product_id\" and \"query\" columns and calculate max of \"ctr_normalized\" for each group\n",
    "# grouped = temp_df.groupby([\"product_id\", \"query\"]).agg({\"ctr_normalized\": \"max\"})\n",
    "\n",
    "# # reset index to turn the groupby result into a DataFrame\n",
    "# grouped = grouped.reset_index()\n",
    "\n",
    "# # merge the grouped DataFrame with the original temp_df DataFrame\n",
    "# temp_df = temp_df.merge(grouped, on=[\"product_id\", \"query\"], how=\"left\")"
   ]
  },
  {
   "cell_type": "code",
   "execution_count": null,
   "id": "4cc15599",
   "metadata": {},
   "outputs": [],
   "source": [
    "grouped = temp_df.groupby(\"query\")\n",
    "max_ctr = grouped[\"ctr_normalized\"].transform(np.max)"
   ]
  },
  {
   "cell_type": "code",
   "execution_count": null,
   "id": "b2395695",
   "metadata": {},
   "outputs": [],
   "source": [
    "temp_df = temp_df.reset_index(drop=True)"
   ]
  },
  {
   "cell_type": "code",
   "execution_count": null,
   "id": "5d6f73e2",
   "metadata": {},
   "outputs": [
    {
     "data": {
      "text/html": [
       "<div>\n",
       "<style scoped>\n",
       "    .dataframe tbody tr th:only-of-type {\n",
       "        vertical-align: middle;\n",
       "    }\n",
       "\n",
       "    .dataframe tbody tr th {\n",
       "        vertical-align: top;\n",
       "    }\n",
       "\n",
       "    .dataframe thead th {\n",
       "        text-align: right;\n",
       "    }\n",
       "</style>\n",
       "<table border=\"1\" class=\"dataframe\">\n",
       "  <thead>\n",
       "    <tr style=\"text-align: right;\">\n",
       "      <th></th>\n",
       "      <th>query</th>\n",
       "      <th>product_id</th>\n",
       "      <th>p_des</th>\n",
       "      <th>product_title</th>\n",
       "      <th>category_name</th>\n",
       "      <th>min_num_shops</th>\n",
       "      <th>max_num_shops</th>\n",
       "      <th>avg_num_shops</th>\n",
       "      <th>min_price</th>\n",
       "      <th>max_price</th>\n",
       "      <th>...</th>\n",
       "      <th>max_clicks</th>\n",
       "      <th>len_results</th>\n",
       "      <th>impressions</th>\n",
       "      <th>ctr</th>\n",
       "      <th>max_shop_processed</th>\n",
       "      <th>popularity</th>\n",
       "      <th>clicks_by_max_clicks</th>\n",
       "      <th>ctr_normalized_by_click_normalized</th>\n",
       "      <th>ctr_normalized</th>\n",
       "      <th>max_ctr</th>\n",
       "    </tr>\n",
       "  </thead>\n",
       "  <tbody>\n",
       "    <tr>\n",
       "      <th>0</th>\n",
       "      <td>ساعت هوشمند</td>\n",
       "      <td>9391819</td>\n",
       "      <td>ساعت هوشمند مدل T55 WATCH به همراه  یک عدد بند...</td>\n",
       "      <td>ساعت هوشمند مدل T55 WATCH به همراه‌ یک عدد بند...</td>\n",
       "      <td>ساعت و مچ بند هوشمند</td>\n",
       "      <td>3.0</td>\n",
       "      <td>9.0</td>\n",
       "      <td>5.329130</td>\n",
       "      <td>245000.0</td>\n",
       "      <td>400000.0</td>\n",
       "      <td>...</td>\n",
       "      <td>2795</td>\n",
       "      <td>3597</td>\n",
       "      <td>10066</td>\n",
       "      <td>0.277667</td>\n",
       "      <td>۳</td>\n",
       "      <td>popularity is ۳</td>\n",
       "      <td>1.000000</td>\n",
       "      <td>0.204640</td>\n",
       "      <td>0.204640</td>\n",
       "      <td>0.204640</td>\n",
       "    </tr>\n",
       "    <tr>\n",
       "      <th>1</th>\n",
       "      <td>ساعت هوشمند</td>\n",
       "      <td>8563833</td>\n",
       "      <td>ساعت هوشمند شیائومی هایلو مدل Haylou LS02 Glob...</td>\n",
       "      <td>ساعت هوشمند شیائومی هایلو مدل Haylou LS02 Glob...</td>\n",
       "      <td>ساعت و مچ بند هوشمند</td>\n",
       "      <td>107.0</td>\n",
       "      <td>136.0</td>\n",
       "      <td>122.587388</td>\n",
       "      <td>527000.0</td>\n",
       "      <td>555000.0</td>\n",
       "      <td>...</td>\n",
       "      <td>2795</td>\n",
       "      <td>3597</td>\n",
       "      <td>9985</td>\n",
       "      <td>0.121582</td>\n",
       "      <td>۷</td>\n",
       "      <td>popularity is ۷</td>\n",
       "      <td>0.434549</td>\n",
       "      <td>0.038873</td>\n",
       "      <td>0.089457</td>\n",
       "      <td>0.204640</td>\n",
       "    </tr>\n",
       "    <tr>\n",
       "      <th>2</th>\n",
       "      <td>ساعت هوشمند</td>\n",
       "      <td>2459592</td>\n",
       "      <td>ساعت هوشمند شیائومی مدل Mibro Lite XPAW004 ا X...</td>\n",
       "      <td>ساعت هوشمند شیائومی مدل Mibro Lite XPAW004 ا X...</td>\n",
       "      <td>ساعت و مچ بند هوشمند</td>\n",
       "      <td>114.0</td>\n",
       "      <td>141.0</td>\n",
       "      <td>127.041878</td>\n",
       "      <td>145000.0</td>\n",
       "      <td>930000.0</td>\n",
       "      <td>...</td>\n",
       "      <td>2795</td>\n",
       "      <td>3597</td>\n",
       "      <td>9946</td>\n",
       "      <td>0.229841</td>\n",
       "      <td>۷</td>\n",
       "      <td>popularity is ۷</td>\n",
       "      <td>0.817954</td>\n",
       "      <td>0.138128</td>\n",
       "      <td>0.168870</td>\n",
       "      <td>0.204640</td>\n",
       "    </tr>\n",
       "    <tr>\n",
       "      <th>3</th>\n",
       "      <td>ساعت هوشمند</td>\n",
       "      <td>7824893</td>\n",
       "      <td>سیلیکون Mi Smart Band 6 - 1.56 اینچ با صفحه نم...</td>\n",
       "      <td>سیلیکون Mi Smart Band 6 - 1.56 اینچ با صفحه نم...</td>\n",
       "      <td>ساعت و مچ بند هوشمند</td>\n",
       "      <td>149.0</td>\n",
       "      <td>178.0</td>\n",
       "      <td>163.859612</td>\n",
       "      <td>426000.0</td>\n",
       "      <td>859000.0</td>\n",
       "      <td>...</td>\n",
       "      <td>2795</td>\n",
       "      <td>3597</td>\n",
       "      <td>9946</td>\n",
       "      <td>0.094209</td>\n",
       "      <td>۷</td>\n",
       "      <td>popularity is ۷</td>\n",
       "      <td>0.335479</td>\n",
       "      <td>0.023236</td>\n",
       "      <td>0.069261</td>\n",
       "      <td>0.204640</td>\n",
       "    </tr>\n",
       "    <tr>\n",
       "      <th>4</th>\n",
       "      <td>ساعت هوشمند</td>\n",
       "      <td>9901900</td>\n",
       "      <td>ساعت هوشمند شیائومی مدل Mibro X1 – نسخه گلوبال...</td>\n",
       "      <td>ساعت هوشمند شیائومی مدل Mibro X1 – نسخه گلوبال...</td>\n",
       "      <td>ساعت و مچ بند هوشمند</td>\n",
       "      <td>71.0</td>\n",
       "      <td>96.0</td>\n",
       "      <td>83.494704</td>\n",
       "      <td>969000.0</td>\n",
       "      <td>1125000.0</td>\n",
       "      <td>...</td>\n",
       "      <td>2795</td>\n",
       "      <td>3597</td>\n",
       "      <td>9944</td>\n",
       "      <td>0.069489</td>\n",
       "      <td>۶</td>\n",
       "      <td>popularity is ۶</td>\n",
       "      <td>0.247496</td>\n",
       "      <td>0.012648</td>\n",
       "      <td>0.051104</td>\n",
       "      <td>0.204640</td>\n",
       "    </tr>\n",
       "    <tr>\n",
       "      <th>...</th>\n",
       "      <td>...</td>\n",
       "      <td>...</td>\n",
       "      <td>...</td>\n",
       "      <td>...</td>\n",
       "      <td>...</td>\n",
       "      <td>...</td>\n",
       "      <td>...</td>\n",
       "      <td>...</td>\n",
       "      <td>...</td>\n",
       "      <td>...</td>\n",
       "      <td>...</td>\n",
       "      <td>...</td>\n",
       "      <td>...</td>\n",
       "      <td>...</td>\n",
       "      <td>...</td>\n",
       "      <td>...</td>\n",
       "      <td>...</td>\n",
       "      <td>...</td>\n",
       "      <td>...</td>\n",
       "      <td>...</td>\n",
       "      <td>...</td>\n",
       "    </tr>\n",
       "    <tr>\n",
       "      <th>603632</th>\n",
       "      <td>galaxy watch ۵ پرو</td>\n",
       "      <td>4191284</td>\n",
       "      <td>ساعت هوشمند سامسونگ Samsung Galaxy Watch5 40mm...</td>\n",
       "      <td>ساعت هوشمند سامسونگ Samsung Galaxy Watch5 40mm...</td>\n",
       "      <td>ساعت و مچ بند هوشمند</td>\n",
       "      <td>0.0</td>\n",
       "      <td>31.0</td>\n",
       "      <td>19.313275</td>\n",
       "      <td>6745000.0</td>\n",
       "      <td>9700000.0</td>\n",
       "      <td>...</td>\n",
       "      <td>42</td>\n",
       "      <td>27</td>\n",
       "      <td>1</td>\n",
       "      <td>1.000000</td>\n",
       "      <td>۵</td>\n",
       "      <td>popularity is ۵</td>\n",
       "      <td>0.046512</td>\n",
       "      <td>0.003322</td>\n",
       "      <td>0.071429</td>\n",
       "      <td>0.175439</td>\n",
       "    </tr>\n",
       "    <tr>\n",
       "      <th>603633</th>\n",
       "      <td>galaxy watch ۵ پرو</td>\n",
       "      <td>2073176</td>\n",
       "      <td>ساعت هوشمند سامسونگ مدل Galaxy Watch 5 Pro</td>\n",
       "      <td>ساعت هوشمند سامسونگ مدل Galaxy Watch 5 Pro</td>\n",
       "      <td>ساعت و مچ بند هوشمند</td>\n",
       "      <td>0.0</td>\n",
       "      <td>0.0</td>\n",
       "      <td>0.000000</td>\n",
       "      <td>0.0</td>\n",
       "      <td>0.0</td>\n",
       "      <td>...</td>\n",
       "      <td>42</td>\n",
       "      <td>27</td>\n",
       "      <td>1</td>\n",
       "      <td>0.000000</td>\n",
       "      <td>۰</td>\n",
       "      <td>popularity is ۰</td>\n",
       "      <td>0.023256</td>\n",
       "      <td>0.000831</td>\n",
       "      <td>0.035714</td>\n",
       "      <td>0.175439</td>\n",
       "    </tr>\n",
       "    <tr>\n",
       "      <th>603634</th>\n",
       "      <td>galaxy watch ۵ پرو</td>\n",
       "      <td>6471449</td>\n",
       "      <td>ساعت هوشمند سامسونگ Galaxy Watch5 Pro 45mm مدل...</td>\n",
       "      <td>ساعت هوشمند سامسونگ Galaxy Watch5 Pro 45mm مدل...</td>\n",
       "      <td>ساعت و مچ بند هوشمند</td>\n",
       "      <td>0.0</td>\n",
       "      <td>0.0</td>\n",
       "      <td>0.000000</td>\n",
       "      <td>0.0</td>\n",
       "      <td>0.0</td>\n",
       "      <td>...</td>\n",
       "      <td>42</td>\n",
       "      <td>27</td>\n",
       "      <td>1</td>\n",
       "      <td>0.000000</td>\n",
       "      <td>۰</td>\n",
       "      <td>popularity is ۰</td>\n",
       "      <td>0.023256</td>\n",
       "      <td>0.000831</td>\n",
       "      <td>0.035714</td>\n",
       "      <td>0.175439</td>\n",
       "    </tr>\n",
       "    <tr>\n",
       "      <th>603635</th>\n",
       "      <td>galaxy watch ۵ پرو</td>\n",
       "      <td>7175758</td>\n",
       "      <td>ساعت هوشمند گلکسی سامسونگ Samsung Galaxy Watch...</td>\n",
       "      <td>ساعت هوشمند گلکسی سامسونگ Samsung Galaxy Watch...</td>\n",
       "      <td>ساعت و مچ بند هوشمند</td>\n",
       "      <td>1.0</td>\n",
       "      <td>17.0</td>\n",
       "      <td>11.175274</td>\n",
       "      <td>3282200.0</td>\n",
       "      <td>4900000.0</td>\n",
       "      <td>...</td>\n",
       "      <td>42</td>\n",
       "      <td>27</td>\n",
       "      <td>1</td>\n",
       "      <td>0.000000</td>\n",
       "      <td>۴</td>\n",
       "      <td>popularity is ۴</td>\n",
       "      <td>0.023256</td>\n",
       "      <td>0.000831</td>\n",
       "      <td>0.035714</td>\n",
       "      <td>0.175439</td>\n",
       "    </tr>\n",
       "    <tr>\n",
       "      <th>603636</th>\n",
       "      <td>galaxy watch ۵ پرو</td>\n",
       "      <td>5398893</td>\n",
       "      <td>Leatherband Smart Watch Samsung Galaxy Watch3 ...</td>\n",
       "      <td>Leatherband Smart Watch Samsung Galaxy Watch3 ...</td>\n",
       "      <td>ساعت و مچ بند هوشمند</td>\n",
       "      <td>40.0</td>\n",
       "      <td>59.0</td>\n",
       "      <td>50.377923</td>\n",
       "      <td>4449000.0</td>\n",
       "      <td>4599000.0</td>\n",
       "      <td>...</td>\n",
       "      <td>42</td>\n",
       "      <td>27</td>\n",
       "      <td>1</td>\n",
       "      <td>0.000000</td>\n",
       "      <td>۵</td>\n",
       "      <td>popularity is ۵</td>\n",
       "      <td>0.023256</td>\n",
       "      <td>0.000831</td>\n",
       "      <td>0.035714</td>\n",
       "      <td>0.175439</td>\n",
       "    </tr>\n",
       "  </tbody>\n",
       "</table>\n",
       "<p>603637 rows × 32 columns</p>\n",
       "</div>"
      ],
      "text/plain": [
       "                     query  product_id  \\\n",
       "0              ساعت هوشمند     9391819   \n",
       "1              ساعت هوشمند     8563833   \n",
       "2              ساعت هوشمند     2459592   \n",
       "3              ساعت هوشمند     7824893   \n",
       "4              ساعت هوشمند     9901900   \n",
       "...                    ...         ...   \n",
       "603632  galaxy watch ۵ پرو     4191284   \n",
       "603633  galaxy watch ۵ پرو     2073176   \n",
       "603634  galaxy watch ۵ پرو     6471449   \n",
       "603635  galaxy watch ۵ پرو     7175758   \n",
       "603636  galaxy watch ۵ پرو     5398893   \n",
       "\n",
       "                                                    p_des  \\\n",
       "0       ساعت هوشمند مدل T55 WATCH به همراه  یک عدد بند...   \n",
       "1       ساعت هوشمند شیائومی هایلو مدل Haylou LS02 Glob...   \n",
       "2       ساعت هوشمند شیائومی مدل Mibro Lite XPAW004 ا X...   \n",
       "3       سیلیکون Mi Smart Band 6 - 1.56 اینچ با صفحه نم...   \n",
       "4       ساعت هوشمند شیائومی مدل Mibro X1 – نسخه گلوبال...   \n",
       "...                                                   ...   \n",
       "603632  ساعت هوشمند سامسونگ Samsung Galaxy Watch5 40mm...   \n",
       "603633        ساعت هوشمند سامسونگ مدل Galaxy Watch 5 Pro    \n",
       "603634  ساعت هوشمند سامسونگ Galaxy Watch5 Pro 45mm مدل...   \n",
       "603635  ساعت هوشمند گلکسی سامسونگ Samsung Galaxy Watch...   \n",
       "603636  Leatherband Smart Watch Samsung Galaxy Watch3 ...   \n",
       "\n",
       "                                            product_title  \\\n",
       "0       ساعت هوشمند مدل T55 WATCH به همراه‌ یک عدد بند...   \n",
       "1       ساعت هوشمند شیائومی هایلو مدل Haylou LS02 Glob...   \n",
       "2       ساعت هوشمند شیائومی مدل Mibro Lite XPAW004 ا X...   \n",
       "3       سیلیکون Mi Smart Band 6 - 1.56 اینچ با صفحه نم...   \n",
       "4       ساعت هوشمند شیائومی مدل Mibro X1 – نسخه گلوبال...   \n",
       "...                                                   ...   \n",
       "603632  ساعت هوشمند سامسونگ Samsung Galaxy Watch5 40mm...   \n",
       "603633         ساعت هوشمند سامسونگ مدل Galaxy Watch 5 Pro   \n",
       "603634  ساعت هوشمند سامسونگ Galaxy Watch5 Pro 45mm مدل...   \n",
       "603635  ساعت هوشمند گلکسی سامسونگ Samsung Galaxy Watch...   \n",
       "603636  Leatherband Smart Watch Samsung Galaxy Watch3 ...   \n",
       "\n",
       "               category_name  min_num_shops  max_num_shops  avg_num_shops  \\\n",
       "0       ساعت و مچ بند هوشمند            3.0            9.0       5.329130   \n",
       "1       ساعت و مچ بند هوشمند          107.0          136.0     122.587388   \n",
       "2       ساعت و مچ بند هوشمند          114.0          141.0     127.041878   \n",
       "3       ساعت و مچ بند هوشمند          149.0          178.0     163.859612   \n",
       "4       ساعت و مچ بند هوشمند           71.0           96.0      83.494704   \n",
       "...                      ...            ...            ...            ...   \n",
       "603632  ساعت و مچ بند هوشمند            0.0           31.0      19.313275   \n",
       "603633  ساعت و مچ بند هوشمند            0.0            0.0       0.000000   \n",
       "603634  ساعت و مچ بند هوشمند            0.0            0.0       0.000000   \n",
       "603635  ساعت و مچ بند هوشمند            1.0           17.0      11.175274   \n",
       "603636  ساعت و مچ بند هوشمند           40.0           59.0      50.377923   \n",
       "\n",
       "        min_price  max_price  ...  max_clicks  len_results  impressions  \\\n",
       "0        245000.0   400000.0  ...        2795         3597        10066   \n",
       "1        527000.0   555000.0  ...        2795         3597         9985   \n",
       "2        145000.0   930000.0  ...        2795         3597         9946   \n",
       "3        426000.0   859000.0  ...        2795         3597         9946   \n",
       "4        969000.0  1125000.0  ...        2795         3597         9944   \n",
       "...           ...        ...  ...         ...          ...          ...   \n",
       "603632  6745000.0  9700000.0  ...          42           27            1   \n",
       "603633        0.0        0.0  ...          42           27            1   \n",
       "603634        0.0        0.0  ...          42           27            1   \n",
       "603635  3282200.0  4900000.0  ...          42           27            1   \n",
       "603636  4449000.0  4599000.0  ...          42           27            1   \n",
       "\n",
       "             ctr  max_shop_processed       popularity  clicks_by_max_clicks  \\\n",
       "0       0.277667                   ۳  popularity is ۳              1.000000   \n",
       "1       0.121582                   ۷  popularity is ۷              0.434549   \n",
       "2       0.229841                   ۷  popularity is ۷              0.817954   \n",
       "3       0.094209                   ۷  popularity is ۷              0.335479   \n",
       "4       0.069489                   ۶  popularity is ۶              0.247496   \n",
       "...          ...                 ...              ...                   ...   \n",
       "603632  1.000000                   ۵  popularity is ۵              0.046512   \n",
       "603633  0.000000                   ۰  popularity is ۰              0.023256   \n",
       "603634  0.000000                   ۰  popularity is ۰              0.023256   \n",
       "603635  0.000000                   ۴  popularity is ۴              0.023256   \n",
       "603636  0.000000                   ۵  popularity is ۵              0.023256   \n",
       "\n",
       "        ctr_normalized_by_click_normalized  ctr_normalized   max_ctr  \n",
       "0                                 0.204640        0.204640  0.204640  \n",
       "1                                 0.038873        0.089457  0.204640  \n",
       "2                                 0.138128        0.168870  0.204640  \n",
       "3                                 0.023236        0.069261  0.204640  \n",
       "4                                 0.012648        0.051104  0.204640  \n",
       "...                                    ...             ...       ...  \n",
       "603632                            0.003322        0.071429  0.175439  \n",
       "603633                            0.000831        0.035714  0.175439  \n",
       "603634                            0.000831        0.035714  0.175439  \n",
       "603635                            0.000831        0.035714  0.175439  \n",
       "603636                            0.000831        0.035714  0.175439  \n",
       "\n",
       "[603637 rows x 32 columns]"
      ]
     },
     "execution_count": 159,
     "metadata": {},
     "output_type": "execute_result"
    }
   ],
   "source": [
    "temp_df[\"max_ctr\"] = max_ctr\n",
    "temp_df"
   ]
  },
  {
   "cell_type": "code",
   "execution_count": null,
   "id": "1af7f68d",
   "metadata": {},
   "outputs": [],
   "source": [
    "temp_df['ctr_by_max_ctr'] = temp_df['ctr_normalized'] / temp_df['max_ctr']"
   ]
  },
  {
   "cell_type": "code",
   "execution_count": null,
   "id": "22371f5b",
   "metadata": {},
   "outputs": [
    {
     "data": {
      "text/plain": [
       "query                                                                       ساعت هوشمند\n",
       "product_id                                                                      9391819\n",
       "p_des                                 ساعت هوشمند مدل T55 WATCH به همراه  یک عدد بند...\n",
       "product_title                         ساعت هوشمند مدل T55 WATCH به همراه‌ یک عدد بند...\n",
       "category_name                                                      ساعت و مچ بند هوشمند\n",
       "min_num_shops                                                                       3.0\n",
       "max_num_shops                                                                       9.0\n",
       "avg_num_shops                                                                   5.32913\n",
       "min_price                                                                      245000.0\n",
       "max_price                                                                      400000.0\n",
       "avg_price                                                                 345821.466588\n",
       "mean_min_prices                                                          1709868.338983\n",
       "mean_max_prices                                                          2879725.423729\n",
       "mean_avg_prices                                                          2728835.966946\n",
       "std_min_prices                                                           2148839.982319\n",
       "std_max_prices                                                           2916697.268452\n",
       "std_avg_prices                                                            2741981.38182\n",
       "num_query                                                                         10788\n",
       "impression                                                                        10066\n",
       "candidate_score1                                                              11.449149\n",
       "candidate_score2                                                                    1.0\n",
       "clicks                                                                             2795\n",
       "max_clicks                                                                         2795\n",
       "len_results                                                                        3597\n",
       "impressions                                                                       10066\n",
       "ctr                                                                            0.277667\n",
       "max_shop_processed                                                                    ۳\n",
       "popularity                                                              popularity is ۳\n",
       "clicks_by_max_clicks                                                                1.0\n",
       "ctr_normalized_by_click_normalized                                              0.20464\n",
       "ctr_normalized                                                                  0.20464\n",
       "max_ctr                                                                         0.20464\n",
       "ctr_by_max_ctr                                                                      1.0\n",
       "Name: 0, dtype: object"
      ]
     },
     "execution_count": 162,
     "metadata": {},
     "output_type": "execute_result"
    }
   ],
   "source": [
    "temp_df.iloc[0]"
   ]
  },
  {
   "cell_type": "code",
   "execution_count": null,
   "id": "2f345e0a",
   "metadata": {},
   "outputs": [],
   "source": [
    "temp_df['graded_ctr_norm'] = temp_df['ctr_by_max_ctr'] * 10"
   ]
  },
  {
   "cell_type": "code",
   "execution_count": null,
   "id": "6976737a",
   "metadata": {
    "scrolled": true
   },
   "outputs": [
    {
     "data": {
      "text/html": [
       "<div>\n",
       "<style scoped>\n",
       "    .dataframe tbody tr th:only-of-type {\n",
       "        vertical-align: middle;\n",
       "    }\n",
       "\n",
       "    .dataframe tbody tr th {\n",
       "        vertical-align: top;\n",
       "    }\n",
       "\n",
       "    .dataframe thead th {\n",
       "        text-align: right;\n",
       "    }\n",
       "</style>\n",
       "<table border=\"1\" class=\"dataframe\">\n",
       "  <thead>\n",
       "    <tr style=\"text-align: right;\">\n",
       "      <th></th>\n",
       "      <th>query</th>\n",
       "      <th>product_id</th>\n",
       "      <th>p_des</th>\n",
       "      <th>product_title</th>\n",
       "      <th>category_name</th>\n",
       "      <th>min_num_shops</th>\n",
       "      <th>max_num_shops</th>\n",
       "      <th>avg_num_shops</th>\n",
       "      <th>min_price</th>\n",
       "      <th>max_price</th>\n",
       "      <th>...</th>\n",
       "      <th>impressions</th>\n",
       "      <th>ctr</th>\n",
       "      <th>max_shop_processed</th>\n",
       "      <th>popularity</th>\n",
       "      <th>clicks_by_max_clicks</th>\n",
       "      <th>ctr_normalized_by_click_normalized</th>\n",
       "      <th>ctr_normalized</th>\n",
       "      <th>max_ctr</th>\n",
       "      <th>ctr_by_max_ctr</th>\n",
       "      <th>graded_ctr_norm</th>\n",
       "    </tr>\n",
       "  </thead>\n",
       "  <tbody>\n",
       "    <tr>\n",
       "      <th>0</th>\n",
       "      <td>ساعت هوشمند</td>\n",
       "      <td>9391819</td>\n",
       "      <td>ساعت هوشمند مدل T55 WATCH به همراه  یک عدد بند...</td>\n",
       "      <td>ساعت هوشمند مدل T55 WATCH به همراه‌ یک عدد بند...</td>\n",
       "      <td>ساعت و مچ بند هوشمند</td>\n",
       "      <td>3.0</td>\n",
       "      <td>9.0</td>\n",
       "      <td>5.329130</td>\n",
       "      <td>245000.0</td>\n",
       "      <td>400000.0</td>\n",
       "      <td>...</td>\n",
       "      <td>10066</td>\n",
       "      <td>0.277667</td>\n",
       "      <td>۳</td>\n",
       "      <td>popularity is ۳</td>\n",
       "      <td>1.000000</td>\n",
       "      <td>0.204640</td>\n",
       "      <td>0.204640</td>\n",
       "      <td>0.204640</td>\n",
       "      <td>1.000000</td>\n",
       "      <td>10.000000</td>\n",
       "    </tr>\n",
       "    <tr>\n",
       "      <th>1</th>\n",
       "      <td>ساعت هوشمند</td>\n",
       "      <td>8563833</td>\n",
       "      <td>ساعت هوشمند شیائومی هایلو مدل Haylou LS02 Glob...</td>\n",
       "      <td>ساعت هوشمند شیائومی هایلو مدل Haylou LS02 Glob...</td>\n",
       "      <td>ساعت و مچ بند هوشمند</td>\n",
       "      <td>107.0</td>\n",
       "      <td>136.0</td>\n",
       "      <td>122.587388</td>\n",
       "      <td>527000.0</td>\n",
       "      <td>555000.0</td>\n",
       "      <td>...</td>\n",
       "      <td>9985</td>\n",
       "      <td>0.121582</td>\n",
       "      <td>۷</td>\n",
       "      <td>popularity is ۷</td>\n",
       "      <td>0.434549</td>\n",
       "      <td>0.038873</td>\n",
       "      <td>0.089457</td>\n",
       "      <td>0.204640</td>\n",
       "      <td>0.437141</td>\n",
       "      <td>4.371409</td>\n",
       "    </tr>\n",
       "    <tr>\n",
       "      <th>2</th>\n",
       "      <td>ساعت هوشمند</td>\n",
       "      <td>2459592</td>\n",
       "      <td>ساعت هوشمند شیائومی مدل Mibro Lite XPAW004 ا X...</td>\n",
       "      <td>ساعت هوشمند شیائومی مدل Mibro Lite XPAW004 ا X...</td>\n",
       "      <td>ساعت و مچ بند هوشمند</td>\n",
       "      <td>114.0</td>\n",
       "      <td>141.0</td>\n",
       "      <td>127.041878</td>\n",
       "      <td>145000.0</td>\n",
       "      <td>930000.0</td>\n",
       "      <td>...</td>\n",
       "      <td>9946</td>\n",
       "      <td>0.229841</td>\n",
       "      <td>۷</td>\n",
       "      <td>popularity is ۷</td>\n",
       "      <td>0.817954</td>\n",
       "      <td>0.138128</td>\n",
       "      <td>0.168870</td>\n",
       "      <td>0.204640</td>\n",
       "      <td>0.825202</td>\n",
       "      <td>8.252018</td>\n",
       "    </tr>\n",
       "    <tr>\n",
       "      <th>3</th>\n",
       "      <td>ساعت هوشمند</td>\n",
       "      <td>7824893</td>\n",
       "      <td>سیلیکون Mi Smart Band 6 - 1.56 اینچ با صفحه نم...</td>\n",
       "      <td>سیلیکون Mi Smart Band 6 - 1.56 اینچ با صفحه نم...</td>\n",
       "      <td>ساعت و مچ بند هوشمند</td>\n",
       "      <td>149.0</td>\n",
       "      <td>178.0</td>\n",
       "      <td>163.859612</td>\n",
       "      <td>426000.0</td>\n",
       "      <td>859000.0</td>\n",
       "      <td>...</td>\n",
       "      <td>9946</td>\n",
       "      <td>0.094209</td>\n",
       "      <td>۷</td>\n",
       "      <td>popularity is ۷</td>\n",
       "      <td>0.335479</td>\n",
       "      <td>0.023236</td>\n",
       "      <td>0.069261</td>\n",
       "      <td>0.204640</td>\n",
       "      <td>0.338452</td>\n",
       "      <td>3.384518</td>\n",
       "    </tr>\n",
       "    <tr>\n",
       "      <th>4</th>\n",
       "      <td>ساعت هوشمند</td>\n",
       "      <td>9901900</td>\n",
       "      <td>ساعت هوشمند شیائومی مدل Mibro X1 – نسخه گلوبال...</td>\n",
       "      <td>ساعت هوشمند شیائومی مدل Mibro X1 – نسخه گلوبال...</td>\n",
       "      <td>ساعت و مچ بند هوشمند</td>\n",
       "      <td>71.0</td>\n",
       "      <td>96.0</td>\n",
       "      <td>83.494704</td>\n",
       "      <td>969000.0</td>\n",
       "      <td>1125000.0</td>\n",
       "      <td>...</td>\n",
       "      <td>9944</td>\n",
       "      <td>0.069489</td>\n",
       "      <td>۶</td>\n",
       "      <td>popularity is ۶</td>\n",
       "      <td>0.247496</td>\n",
       "      <td>0.012648</td>\n",
       "      <td>0.051104</td>\n",
       "      <td>0.204640</td>\n",
       "      <td>0.249726</td>\n",
       "      <td>2.497263</td>\n",
       "    </tr>\n",
       "    <tr>\n",
       "      <th>...</th>\n",
       "      <td>...</td>\n",
       "      <td>...</td>\n",
       "      <td>...</td>\n",
       "      <td>...</td>\n",
       "      <td>...</td>\n",
       "      <td>...</td>\n",
       "      <td>...</td>\n",
       "      <td>...</td>\n",
       "      <td>...</td>\n",
       "      <td>...</td>\n",
       "      <td>...</td>\n",
       "      <td>...</td>\n",
       "      <td>...</td>\n",
       "      <td>...</td>\n",
       "      <td>...</td>\n",
       "      <td>...</td>\n",
       "      <td>...</td>\n",
       "      <td>...</td>\n",
       "      <td>...</td>\n",
       "      <td>...</td>\n",
       "      <td>...</td>\n",
       "    </tr>\n",
       "    <tr>\n",
       "      <th>603632</th>\n",
       "      <td>galaxy watch ۵ پرو</td>\n",
       "      <td>4191284</td>\n",
       "      <td>ساعت هوشمند سامسونگ Samsung Galaxy Watch5 40mm...</td>\n",
       "      <td>ساعت هوشمند سامسونگ Samsung Galaxy Watch5 40mm...</td>\n",
       "      <td>ساعت و مچ بند هوشمند</td>\n",
       "      <td>0.0</td>\n",
       "      <td>31.0</td>\n",
       "      <td>19.313275</td>\n",
       "      <td>6745000.0</td>\n",
       "      <td>9700000.0</td>\n",
       "      <td>...</td>\n",
       "      <td>1</td>\n",
       "      <td>1.000000</td>\n",
       "      <td>۵</td>\n",
       "      <td>popularity is ۵</td>\n",
       "      <td>0.046512</td>\n",
       "      <td>0.003322</td>\n",
       "      <td>0.071429</td>\n",
       "      <td>0.175439</td>\n",
       "      <td>0.407143</td>\n",
       "      <td>4.071429</td>\n",
       "    </tr>\n",
       "    <tr>\n",
       "      <th>603633</th>\n",
       "      <td>galaxy watch ۵ پرو</td>\n",
       "      <td>2073176</td>\n",
       "      <td>ساعت هوشمند سامسونگ مدل Galaxy Watch 5 Pro</td>\n",
       "      <td>ساعت هوشمند سامسونگ مدل Galaxy Watch 5 Pro</td>\n",
       "      <td>ساعت و مچ بند هوشمند</td>\n",
       "      <td>0.0</td>\n",
       "      <td>0.0</td>\n",
       "      <td>0.000000</td>\n",
       "      <td>0.0</td>\n",
       "      <td>0.0</td>\n",
       "      <td>...</td>\n",
       "      <td>1</td>\n",
       "      <td>0.000000</td>\n",
       "      <td>۰</td>\n",
       "      <td>popularity is ۰</td>\n",
       "      <td>0.023256</td>\n",
       "      <td>0.000831</td>\n",
       "      <td>0.035714</td>\n",
       "      <td>0.175439</td>\n",
       "      <td>0.203571</td>\n",
       "      <td>2.035714</td>\n",
       "    </tr>\n",
       "    <tr>\n",
       "      <th>603634</th>\n",
       "      <td>galaxy watch ۵ پرو</td>\n",
       "      <td>6471449</td>\n",
       "      <td>ساعت هوشمند سامسونگ Galaxy Watch5 Pro 45mm مدل...</td>\n",
       "      <td>ساعت هوشمند سامسونگ Galaxy Watch5 Pro 45mm مدل...</td>\n",
       "      <td>ساعت و مچ بند هوشمند</td>\n",
       "      <td>0.0</td>\n",
       "      <td>0.0</td>\n",
       "      <td>0.000000</td>\n",
       "      <td>0.0</td>\n",
       "      <td>0.0</td>\n",
       "      <td>...</td>\n",
       "      <td>1</td>\n",
       "      <td>0.000000</td>\n",
       "      <td>۰</td>\n",
       "      <td>popularity is ۰</td>\n",
       "      <td>0.023256</td>\n",
       "      <td>0.000831</td>\n",
       "      <td>0.035714</td>\n",
       "      <td>0.175439</td>\n",
       "      <td>0.203571</td>\n",
       "      <td>2.035714</td>\n",
       "    </tr>\n",
       "    <tr>\n",
       "      <th>603635</th>\n",
       "      <td>galaxy watch ۵ پرو</td>\n",
       "      <td>7175758</td>\n",
       "      <td>ساعت هوشمند گلکسی سامسونگ Samsung Galaxy Watch...</td>\n",
       "      <td>ساعت هوشمند گلکسی سامسونگ Samsung Galaxy Watch...</td>\n",
       "      <td>ساعت و مچ بند هوشمند</td>\n",
       "      <td>1.0</td>\n",
       "      <td>17.0</td>\n",
       "      <td>11.175274</td>\n",
       "      <td>3282200.0</td>\n",
       "      <td>4900000.0</td>\n",
       "      <td>...</td>\n",
       "      <td>1</td>\n",
       "      <td>0.000000</td>\n",
       "      <td>۴</td>\n",
       "      <td>popularity is ۴</td>\n",
       "      <td>0.023256</td>\n",
       "      <td>0.000831</td>\n",
       "      <td>0.035714</td>\n",
       "      <td>0.175439</td>\n",
       "      <td>0.203571</td>\n",
       "      <td>2.035714</td>\n",
       "    </tr>\n",
       "    <tr>\n",
       "      <th>603636</th>\n",
       "      <td>galaxy watch ۵ پرو</td>\n",
       "      <td>5398893</td>\n",
       "      <td>Leatherband Smart Watch Samsung Galaxy Watch3 ...</td>\n",
       "      <td>Leatherband Smart Watch Samsung Galaxy Watch3 ...</td>\n",
       "      <td>ساعت و مچ بند هوشمند</td>\n",
       "      <td>40.0</td>\n",
       "      <td>59.0</td>\n",
       "      <td>50.377923</td>\n",
       "      <td>4449000.0</td>\n",
       "      <td>4599000.0</td>\n",
       "      <td>...</td>\n",
       "      <td>1</td>\n",
       "      <td>0.000000</td>\n",
       "      <td>۵</td>\n",
       "      <td>popularity is ۵</td>\n",
       "      <td>0.023256</td>\n",
       "      <td>0.000831</td>\n",
       "      <td>0.035714</td>\n",
       "      <td>0.175439</td>\n",
       "      <td>0.203571</td>\n",
       "      <td>2.035714</td>\n",
       "    </tr>\n",
       "  </tbody>\n",
       "</table>\n",
       "<p>603637 rows × 34 columns</p>\n",
       "</div>"
      ],
      "text/plain": [
       "                     query  product_id  \\\n",
       "0              ساعت هوشمند     9391819   \n",
       "1              ساعت هوشمند     8563833   \n",
       "2              ساعت هوشمند     2459592   \n",
       "3              ساعت هوشمند     7824893   \n",
       "4              ساعت هوشمند     9901900   \n",
       "...                    ...         ...   \n",
       "603632  galaxy watch ۵ پرو     4191284   \n",
       "603633  galaxy watch ۵ پرو     2073176   \n",
       "603634  galaxy watch ۵ پرو     6471449   \n",
       "603635  galaxy watch ۵ پرو     7175758   \n",
       "603636  galaxy watch ۵ پرو     5398893   \n",
       "\n",
       "                                                    p_des  \\\n",
       "0       ساعت هوشمند مدل T55 WATCH به همراه  یک عدد بند...   \n",
       "1       ساعت هوشمند شیائومی هایلو مدل Haylou LS02 Glob...   \n",
       "2       ساعت هوشمند شیائومی مدل Mibro Lite XPAW004 ا X...   \n",
       "3       سیلیکون Mi Smart Band 6 - 1.56 اینچ با صفحه نم...   \n",
       "4       ساعت هوشمند شیائومی مدل Mibro X1 – نسخه گلوبال...   \n",
       "...                                                   ...   \n",
       "603632  ساعت هوشمند سامسونگ Samsung Galaxy Watch5 40mm...   \n",
       "603633        ساعت هوشمند سامسونگ مدل Galaxy Watch 5 Pro    \n",
       "603634  ساعت هوشمند سامسونگ Galaxy Watch5 Pro 45mm مدل...   \n",
       "603635  ساعت هوشمند گلکسی سامسونگ Samsung Galaxy Watch...   \n",
       "603636  Leatherband Smart Watch Samsung Galaxy Watch3 ...   \n",
       "\n",
       "                                            product_title  \\\n",
       "0       ساعت هوشمند مدل T55 WATCH به همراه‌ یک عدد بند...   \n",
       "1       ساعت هوشمند شیائومی هایلو مدل Haylou LS02 Glob...   \n",
       "2       ساعت هوشمند شیائومی مدل Mibro Lite XPAW004 ا X...   \n",
       "3       سیلیکون Mi Smart Band 6 - 1.56 اینچ با صفحه نم...   \n",
       "4       ساعت هوشمند شیائومی مدل Mibro X1 – نسخه گلوبال...   \n",
       "...                                                   ...   \n",
       "603632  ساعت هوشمند سامسونگ Samsung Galaxy Watch5 40mm...   \n",
       "603633         ساعت هوشمند سامسونگ مدل Galaxy Watch 5 Pro   \n",
       "603634  ساعت هوشمند سامسونگ Galaxy Watch5 Pro 45mm مدل...   \n",
       "603635  ساعت هوشمند گلکسی سامسونگ Samsung Galaxy Watch...   \n",
       "603636  Leatherband Smart Watch Samsung Galaxy Watch3 ...   \n",
       "\n",
       "               category_name  min_num_shops  max_num_shops  avg_num_shops  \\\n",
       "0       ساعت و مچ بند هوشمند            3.0            9.0       5.329130   \n",
       "1       ساعت و مچ بند هوشمند          107.0          136.0     122.587388   \n",
       "2       ساعت و مچ بند هوشمند          114.0          141.0     127.041878   \n",
       "3       ساعت و مچ بند هوشمند          149.0          178.0     163.859612   \n",
       "4       ساعت و مچ بند هوشمند           71.0           96.0      83.494704   \n",
       "...                      ...            ...            ...            ...   \n",
       "603632  ساعت و مچ بند هوشمند            0.0           31.0      19.313275   \n",
       "603633  ساعت و مچ بند هوشمند            0.0            0.0       0.000000   \n",
       "603634  ساعت و مچ بند هوشمند            0.0            0.0       0.000000   \n",
       "603635  ساعت و مچ بند هوشمند            1.0           17.0      11.175274   \n",
       "603636  ساعت و مچ بند هوشمند           40.0           59.0      50.377923   \n",
       "\n",
       "        min_price  max_price  ...  impressions       ctr  max_shop_processed  \\\n",
       "0        245000.0   400000.0  ...        10066  0.277667                   ۳   \n",
       "1        527000.0   555000.0  ...         9985  0.121582                   ۷   \n",
       "2        145000.0   930000.0  ...         9946  0.229841                   ۷   \n",
       "3        426000.0   859000.0  ...         9946  0.094209                   ۷   \n",
       "4        969000.0  1125000.0  ...         9944  0.069489                   ۶   \n",
       "...           ...        ...  ...          ...       ...                 ...   \n",
       "603632  6745000.0  9700000.0  ...            1  1.000000                   ۵   \n",
       "603633        0.0        0.0  ...            1  0.000000                   ۰   \n",
       "603634        0.0        0.0  ...            1  0.000000                   ۰   \n",
       "603635  3282200.0  4900000.0  ...            1  0.000000                   ۴   \n",
       "603636  4449000.0  4599000.0  ...            1  0.000000                   ۵   \n",
       "\n",
       "             popularity  clicks_by_max_clicks  \\\n",
       "0       popularity is ۳              1.000000   \n",
       "1       popularity is ۷              0.434549   \n",
       "2       popularity is ۷              0.817954   \n",
       "3       popularity is ۷              0.335479   \n",
       "4       popularity is ۶              0.247496   \n",
       "...                 ...                   ...   \n",
       "603632  popularity is ۵              0.046512   \n",
       "603633  popularity is ۰              0.023256   \n",
       "603634  popularity is ۰              0.023256   \n",
       "603635  popularity is ۴              0.023256   \n",
       "603636  popularity is ۵              0.023256   \n",
       "\n",
       "        ctr_normalized_by_click_normalized  ctr_normalized   max_ctr  \\\n",
       "0                                 0.204640        0.204640  0.204640   \n",
       "1                                 0.038873        0.089457  0.204640   \n",
       "2                                 0.138128        0.168870  0.204640   \n",
       "3                                 0.023236        0.069261  0.204640   \n",
       "4                                 0.012648        0.051104  0.204640   \n",
       "...                                    ...             ...       ...   \n",
       "603632                            0.003322        0.071429  0.175439   \n",
       "603633                            0.000831        0.035714  0.175439   \n",
       "603634                            0.000831        0.035714  0.175439   \n",
       "603635                            0.000831        0.035714  0.175439   \n",
       "603636                            0.000831        0.035714  0.175439   \n",
       "\n",
       "        ctr_by_max_ctr  graded_ctr_norm  \n",
       "0             1.000000        10.000000  \n",
       "1             0.437141         4.371409  \n",
       "2             0.825202         8.252018  \n",
       "3             0.338452         3.384518  \n",
       "4             0.249726         2.497263  \n",
       "...                ...              ...  \n",
       "603632        0.407143         4.071429  \n",
       "603633        0.203571         2.035714  \n",
       "603634        0.203571         2.035714  \n",
       "603635        0.203571         2.035714  \n",
       "603636        0.203571         2.035714  \n",
       "\n",
       "[603637 rows x 34 columns]"
      ]
     },
     "execution_count": 165,
     "metadata": {},
     "output_type": "execute_result"
    }
   ],
   "source": [
    "# temp_df.iloc[0]\n",
    "temp_df"
   ]
  },
  {
   "cell_type": "code",
   "execution_count": null,
   "id": "5288a828",
   "metadata": {},
   "outputs": [],
   "source": [
    "temp_df['ctr_norm_by_max_click_norm'] = temp_df['graded_ctr_norm'] * temp_df['clicks_by_max_clicks']"
   ]
  },
  {
   "cell_type": "code",
   "execution_count": null,
   "id": "225c6360",
   "metadata": {},
   "outputs": [
    {
     "data": {
      "text/html": [
       "<div>\n",
       "<style scoped>\n",
       "    .dataframe tbody tr th:only-of-type {\n",
       "        vertical-align: middle;\n",
       "    }\n",
       "\n",
       "    .dataframe tbody tr th {\n",
       "        vertical-align: top;\n",
       "    }\n",
       "\n",
       "    .dataframe thead th {\n",
       "        text-align: right;\n",
       "    }\n",
       "</style>\n",
       "<table border=\"1\" class=\"dataframe\">\n",
       "  <thead>\n",
       "    <tr style=\"text-align: right;\">\n",
       "      <th></th>\n",
       "      <th>query</th>\n",
       "      <th>product_id</th>\n",
       "      <th>p_des</th>\n",
       "      <th>product_title</th>\n",
       "      <th>category_name</th>\n",
       "      <th>min_num_shops</th>\n",
       "      <th>max_num_shops</th>\n",
       "      <th>avg_num_shops</th>\n",
       "      <th>min_price</th>\n",
       "      <th>max_price</th>\n",
       "      <th>...</th>\n",
       "      <th>ctr</th>\n",
       "      <th>max_shop_processed</th>\n",
       "      <th>popularity</th>\n",
       "      <th>clicks_by_max_clicks</th>\n",
       "      <th>ctr_normalized_by_click_normalized</th>\n",
       "      <th>ctr_normalized</th>\n",
       "      <th>max_ctr</th>\n",
       "      <th>ctr_by_max_ctr</th>\n",
       "      <th>graded_ctr_norm</th>\n",
       "      <th>ctr_norm_by_max_click_norm</th>\n",
       "    </tr>\n",
       "  </thead>\n",
       "  <tbody>\n",
       "    <tr>\n",
       "      <th>0</th>\n",
       "      <td>ساعت هوشمند</td>\n",
       "      <td>9391819</td>\n",
       "      <td>ساعت هوشمند مدل T55 WATCH به همراه  یک عدد بند...</td>\n",
       "      <td>ساعت هوشمند مدل T55 WATCH به همراه‌ یک عدد بند...</td>\n",
       "      <td>ساعت و مچ بند هوشمند</td>\n",
       "      <td>3.0</td>\n",
       "      <td>9.0</td>\n",
       "      <td>5.329130</td>\n",
       "      <td>245000.0</td>\n",
       "      <td>400000.0</td>\n",
       "      <td>...</td>\n",
       "      <td>0.277667</td>\n",
       "      <td>۳</td>\n",
       "      <td>popularity is ۳</td>\n",
       "      <td>1.000000</td>\n",
       "      <td>0.204640</td>\n",
       "      <td>0.204640</td>\n",
       "      <td>0.204640</td>\n",
       "      <td>1.000000</td>\n",
       "      <td>10.000000</td>\n",
       "      <td>10.000000</td>\n",
       "    </tr>\n",
       "    <tr>\n",
       "      <th>1</th>\n",
       "      <td>ساعت هوشمند</td>\n",
       "      <td>8563833</td>\n",
       "      <td>ساعت هوشمند شیائومی هایلو مدل Haylou LS02 Glob...</td>\n",
       "      <td>ساعت هوشمند شیائومی هایلو مدل Haylou LS02 Glob...</td>\n",
       "      <td>ساعت و مچ بند هوشمند</td>\n",
       "      <td>107.0</td>\n",
       "      <td>136.0</td>\n",
       "      <td>122.587388</td>\n",
       "      <td>527000.0</td>\n",
       "      <td>555000.0</td>\n",
       "      <td>...</td>\n",
       "      <td>0.121582</td>\n",
       "      <td>۷</td>\n",
       "      <td>popularity is ۷</td>\n",
       "      <td>0.434549</td>\n",
       "      <td>0.038873</td>\n",
       "      <td>0.089457</td>\n",
       "      <td>0.204640</td>\n",
       "      <td>0.437141</td>\n",
       "      <td>4.371409</td>\n",
       "      <td>1.899593</td>\n",
       "    </tr>\n",
       "    <tr>\n",
       "      <th>2</th>\n",
       "      <td>ساعت هوشمند</td>\n",
       "      <td>2459592</td>\n",
       "      <td>ساعت هوشمند شیائومی مدل Mibro Lite XPAW004 ا X...</td>\n",
       "      <td>ساعت هوشمند شیائومی مدل Mibro Lite XPAW004 ا X...</td>\n",
       "      <td>ساعت و مچ بند هوشمند</td>\n",
       "      <td>114.0</td>\n",
       "      <td>141.0</td>\n",
       "      <td>127.041878</td>\n",
       "      <td>145000.0</td>\n",
       "      <td>930000.0</td>\n",
       "      <td>...</td>\n",
       "      <td>0.229841</td>\n",
       "      <td>۷</td>\n",
       "      <td>popularity is ۷</td>\n",
       "      <td>0.817954</td>\n",
       "      <td>0.138128</td>\n",
       "      <td>0.168870</td>\n",
       "      <td>0.204640</td>\n",
       "      <td>0.825202</td>\n",
       "      <td>8.252018</td>\n",
       "      <td>6.749773</td>\n",
       "    </tr>\n",
       "    <tr>\n",
       "      <th>3</th>\n",
       "      <td>ساعت هوشمند</td>\n",
       "      <td>7824893</td>\n",
       "      <td>سیلیکون Mi Smart Band 6 - 1.56 اینچ با صفحه نم...</td>\n",
       "      <td>سیلیکون Mi Smart Band 6 - 1.56 اینچ با صفحه نم...</td>\n",
       "      <td>ساعت و مچ بند هوشمند</td>\n",
       "      <td>149.0</td>\n",
       "      <td>178.0</td>\n",
       "      <td>163.859612</td>\n",
       "      <td>426000.0</td>\n",
       "      <td>859000.0</td>\n",
       "      <td>...</td>\n",
       "      <td>0.094209</td>\n",
       "      <td>۷</td>\n",
       "      <td>popularity is ۷</td>\n",
       "      <td>0.335479</td>\n",
       "      <td>0.023236</td>\n",
       "      <td>0.069261</td>\n",
       "      <td>0.204640</td>\n",
       "      <td>0.338452</td>\n",
       "      <td>3.384518</td>\n",
       "      <td>1.135436</td>\n",
       "    </tr>\n",
       "    <tr>\n",
       "      <th>4</th>\n",
       "      <td>ساعت هوشمند</td>\n",
       "      <td>9901900</td>\n",
       "      <td>ساعت هوشمند شیائومی مدل Mibro X1 – نسخه گلوبال...</td>\n",
       "      <td>ساعت هوشمند شیائومی مدل Mibro X1 – نسخه گلوبال...</td>\n",
       "      <td>ساعت و مچ بند هوشمند</td>\n",
       "      <td>71.0</td>\n",
       "      <td>96.0</td>\n",
       "      <td>83.494704</td>\n",
       "      <td>969000.0</td>\n",
       "      <td>1125000.0</td>\n",
       "      <td>...</td>\n",
       "      <td>0.069489</td>\n",
       "      <td>۶</td>\n",
       "      <td>popularity is ۶</td>\n",
       "      <td>0.247496</td>\n",
       "      <td>0.012648</td>\n",
       "      <td>0.051104</td>\n",
       "      <td>0.204640</td>\n",
       "      <td>0.249726</td>\n",
       "      <td>2.497263</td>\n",
       "      <td>0.618064</td>\n",
       "    </tr>\n",
       "    <tr>\n",
       "      <th>...</th>\n",
       "      <td>...</td>\n",
       "      <td>...</td>\n",
       "      <td>...</td>\n",
       "      <td>...</td>\n",
       "      <td>...</td>\n",
       "      <td>...</td>\n",
       "      <td>...</td>\n",
       "      <td>...</td>\n",
       "      <td>...</td>\n",
       "      <td>...</td>\n",
       "      <td>...</td>\n",
       "      <td>...</td>\n",
       "      <td>...</td>\n",
       "      <td>...</td>\n",
       "      <td>...</td>\n",
       "      <td>...</td>\n",
       "      <td>...</td>\n",
       "      <td>...</td>\n",
       "      <td>...</td>\n",
       "      <td>...</td>\n",
       "      <td>...</td>\n",
       "    </tr>\n",
       "    <tr>\n",
       "      <th>603632</th>\n",
       "      <td>galaxy watch ۵ پرو</td>\n",
       "      <td>4191284</td>\n",
       "      <td>ساعت هوشمند سامسونگ Samsung Galaxy Watch5 40mm...</td>\n",
       "      <td>ساعت هوشمند سامسونگ Samsung Galaxy Watch5 40mm...</td>\n",
       "      <td>ساعت و مچ بند هوشمند</td>\n",
       "      <td>0.0</td>\n",
       "      <td>31.0</td>\n",
       "      <td>19.313275</td>\n",
       "      <td>6745000.0</td>\n",
       "      <td>9700000.0</td>\n",
       "      <td>...</td>\n",
       "      <td>1.000000</td>\n",
       "      <td>۵</td>\n",
       "      <td>popularity is ۵</td>\n",
       "      <td>0.046512</td>\n",
       "      <td>0.003322</td>\n",
       "      <td>0.071429</td>\n",
       "      <td>0.175439</td>\n",
       "      <td>0.407143</td>\n",
       "      <td>4.071429</td>\n",
       "      <td>0.189369</td>\n",
       "    </tr>\n",
       "    <tr>\n",
       "      <th>603633</th>\n",
       "      <td>galaxy watch ۵ پرو</td>\n",
       "      <td>2073176</td>\n",
       "      <td>ساعت هوشمند سامسونگ مدل Galaxy Watch 5 Pro</td>\n",
       "      <td>ساعت هوشمند سامسونگ مدل Galaxy Watch 5 Pro</td>\n",
       "      <td>ساعت و مچ بند هوشمند</td>\n",
       "      <td>0.0</td>\n",
       "      <td>0.0</td>\n",
       "      <td>0.000000</td>\n",
       "      <td>0.0</td>\n",
       "      <td>0.0</td>\n",
       "      <td>...</td>\n",
       "      <td>0.000000</td>\n",
       "      <td>۰</td>\n",
       "      <td>popularity is ۰</td>\n",
       "      <td>0.023256</td>\n",
       "      <td>0.000831</td>\n",
       "      <td>0.035714</td>\n",
       "      <td>0.175439</td>\n",
       "      <td>0.203571</td>\n",
       "      <td>2.035714</td>\n",
       "      <td>0.047342</td>\n",
       "    </tr>\n",
       "    <tr>\n",
       "      <th>603634</th>\n",
       "      <td>galaxy watch ۵ پرو</td>\n",
       "      <td>6471449</td>\n",
       "      <td>ساعت هوشمند سامسونگ Galaxy Watch5 Pro 45mm مدل...</td>\n",
       "      <td>ساعت هوشمند سامسونگ Galaxy Watch5 Pro 45mm مدل...</td>\n",
       "      <td>ساعت و مچ بند هوشمند</td>\n",
       "      <td>0.0</td>\n",
       "      <td>0.0</td>\n",
       "      <td>0.000000</td>\n",
       "      <td>0.0</td>\n",
       "      <td>0.0</td>\n",
       "      <td>...</td>\n",
       "      <td>0.000000</td>\n",
       "      <td>۰</td>\n",
       "      <td>popularity is ۰</td>\n",
       "      <td>0.023256</td>\n",
       "      <td>0.000831</td>\n",
       "      <td>0.035714</td>\n",
       "      <td>0.175439</td>\n",
       "      <td>0.203571</td>\n",
       "      <td>2.035714</td>\n",
       "      <td>0.047342</td>\n",
       "    </tr>\n",
       "    <tr>\n",
       "      <th>603635</th>\n",
       "      <td>galaxy watch ۵ پرو</td>\n",
       "      <td>7175758</td>\n",
       "      <td>ساعت هوشمند گلکسی سامسونگ Samsung Galaxy Watch...</td>\n",
       "      <td>ساعت هوشمند گلکسی سامسونگ Samsung Galaxy Watch...</td>\n",
       "      <td>ساعت و مچ بند هوشمند</td>\n",
       "      <td>1.0</td>\n",
       "      <td>17.0</td>\n",
       "      <td>11.175274</td>\n",
       "      <td>3282200.0</td>\n",
       "      <td>4900000.0</td>\n",
       "      <td>...</td>\n",
       "      <td>0.000000</td>\n",
       "      <td>۴</td>\n",
       "      <td>popularity is ۴</td>\n",
       "      <td>0.023256</td>\n",
       "      <td>0.000831</td>\n",
       "      <td>0.035714</td>\n",
       "      <td>0.175439</td>\n",
       "      <td>0.203571</td>\n",
       "      <td>2.035714</td>\n",
       "      <td>0.047342</td>\n",
       "    </tr>\n",
       "    <tr>\n",
       "      <th>603636</th>\n",
       "      <td>galaxy watch ۵ پرو</td>\n",
       "      <td>5398893</td>\n",
       "      <td>Leatherband Smart Watch Samsung Galaxy Watch3 ...</td>\n",
       "      <td>Leatherband Smart Watch Samsung Galaxy Watch3 ...</td>\n",
       "      <td>ساعت و مچ بند هوشمند</td>\n",
       "      <td>40.0</td>\n",
       "      <td>59.0</td>\n",
       "      <td>50.377923</td>\n",
       "      <td>4449000.0</td>\n",
       "      <td>4599000.0</td>\n",
       "      <td>...</td>\n",
       "      <td>0.000000</td>\n",
       "      <td>۵</td>\n",
       "      <td>popularity is ۵</td>\n",
       "      <td>0.023256</td>\n",
       "      <td>0.000831</td>\n",
       "      <td>0.035714</td>\n",
       "      <td>0.175439</td>\n",
       "      <td>0.203571</td>\n",
       "      <td>2.035714</td>\n",
       "      <td>0.047342</td>\n",
       "    </tr>\n",
       "  </tbody>\n",
       "</table>\n",
       "<p>603637 rows × 35 columns</p>\n",
       "</div>"
      ],
      "text/plain": [
       "                     query  product_id  \\\n",
       "0              ساعت هوشمند     9391819   \n",
       "1              ساعت هوشمند     8563833   \n",
       "2              ساعت هوشمند     2459592   \n",
       "3              ساعت هوشمند     7824893   \n",
       "4              ساعت هوشمند     9901900   \n",
       "...                    ...         ...   \n",
       "603632  galaxy watch ۵ پرو     4191284   \n",
       "603633  galaxy watch ۵ پرو     2073176   \n",
       "603634  galaxy watch ۵ پرو     6471449   \n",
       "603635  galaxy watch ۵ پرو     7175758   \n",
       "603636  galaxy watch ۵ پرو     5398893   \n",
       "\n",
       "                                                    p_des  \\\n",
       "0       ساعت هوشمند مدل T55 WATCH به همراه  یک عدد بند...   \n",
       "1       ساعت هوشمند شیائومی هایلو مدل Haylou LS02 Glob...   \n",
       "2       ساعت هوشمند شیائومی مدل Mibro Lite XPAW004 ا X...   \n",
       "3       سیلیکون Mi Smart Band 6 - 1.56 اینچ با صفحه نم...   \n",
       "4       ساعت هوشمند شیائومی مدل Mibro X1 – نسخه گلوبال...   \n",
       "...                                                   ...   \n",
       "603632  ساعت هوشمند سامسونگ Samsung Galaxy Watch5 40mm...   \n",
       "603633        ساعت هوشمند سامسونگ مدل Galaxy Watch 5 Pro    \n",
       "603634  ساعت هوشمند سامسونگ Galaxy Watch5 Pro 45mm مدل...   \n",
       "603635  ساعت هوشمند گلکسی سامسونگ Samsung Galaxy Watch...   \n",
       "603636  Leatherband Smart Watch Samsung Galaxy Watch3 ...   \n",
       "\n",
       "                                            product_title  \\\n",
       "0       ساعت هوشمند مدل T55 WATCH به همراه‌ یک عدد بند...   \n",
       "1       ساعت هوشمند شیائومی هایلو مدل Haylou LS02 Glob...   \n",
       "2       ساعت هوشمند شیائومی مدل Mibro Lite XPAW004 ا X...   \n",
       "3       سیلیکون Mi Smart Band 6 - 1.56 اینچ با صفحه نم...   \n",
       "4       ساعت هوشمند شیائومی مدل Mibro X1 – نسخه گلوبال...   \n",
       "...                                                   ...   \n",
       "603632  ساعت هوشمند سامسونگ Samsung Galaxy Watch5 40mm...   \n",
       "603633         ساعت هوشمند سامسونگ مدل Galaxy Watch 5 Pro   \n",
       "603634  ساعت هوشمند سامسونگ Galaxy Watch5 Pro 45mm مدل...   \n",
       "603635  ساعت هوشمند گلکسی سامسونگ Samsung Galaxy Watch...   \n",
       "603636  Leatherband Smart Watch Samsung Galaxy Watch3 ...   \n",
       "\n",
       "               category_name  min_num_shops  max_num_shops  avg_num_shops  \\\n",
       "0       ساعت و مچ بند هوشمند            3.0            9.0       5.329130   \n",
       "1       ساعت و مچ بند هوشمند          107.0          136.0     122.587388   \n",
       "2       ساعت و مچ بند هوشمند          114.0          141.0     127.041878   \n",
       "3       ساعت و مچ بند هوشمند          149.0          178.0     163.859612   \n",
       "4       ساعت و مچ بند هوشمند           71.0           96.0      83.494704   \n",
       "...                      ...            ...            ...            ...   \n",
       "603632  ساعت و مچ بند هوشمند            0.0           31.0      19.313275   \n",
       "603633  ساعت و مچ بند هوشمند            0.0            0.0       0.000000   \n",
       "603634  ساعت و مچ بند هوشمند            0.0            0.0       0.000000   \n",
       "603635  ساعت و مچ بند هوشمند            1.0           17.0      11.175274   \n",
       "603636  ساعت و مچ بند هوشمند           40.0           59.0      50.377923   \n",
       "\n",
       "        min_price  max_price  ...       ctr  max_shop_processed  \\\n",
       "0        245000.0   400000.0  ...  0.277667                   ۳   \n",
       "1        527000.0   555000.0  ...  0.121582                   ۷   \n",
       "2        145000.0   930000.0  ...  0.229841                   ۷   \n",
       "3        426000.0   859000.0  ...  0.094209                   ۷   \n",
       "4        969000.0  1125000.0  ...  0.069489                   ۶   \n",
       "...           ...        ...  ...       ...                 ...   \n",
       "603632  6745000.0  9700000.0  ...  1.000000                   ۵   \n",
       "603633        0.0        0.0  ...  0.000000                   ۰   \n",
       "603634        0.0        0.0  ...  0.000000                   ۰   \n",
       "603635  3282200.0  4900000.0  ...  0.000000                   ۴   \n",
       "603636  4449000.0  4599000.0  ...  0.000000                   ۵   \n",
       "\n",
       "             popularity  clicks_by_max_clicks  \\\n",
       "0       popularity is ۳              1.000000   \n",
       "1       popularity is ۷              0.434549   \n",
       "2       popularity is ۷              0.817954   \n",
       "3       popularity is ۷              0.335479   \n",
       "4       popularity is ۶              0.247496   \n",
       "...                 ...                   ...   \n",
       "603632  popularity is ۵              0.046512   \n",
       "603633  popularity is ۰              0.023256   \n",
       "603634  popularity is ۰              0.023256   \n",
       "603635  popularity is ۴              0.023256   \n",
       "603636  popularity is ۵              0.023256   \n",
       "\n",
       "        ctr_normalized_by_click_normalized  ctr_normalized   max_ctr  \\\n",
       "0                                 0.204640        0.204640  0.204640   \n",
       "1                                 0.038873        0.089457  0.204640   \n",
       "2                                 0.138128        0.168870  0.204640   \n",
       "3                                 0.023236        0.069261  0.204640   \n",
       "4                                 0.012648        0.051104  0.204640   \n",
       "...                                    ...             ...       ...   \n",
       "603632                            0.003322        0.071429  0.175439   \n",
       "603633                            0.000831        0.035714  0.175439   \n",
       "603634                            0.000831        0.035714  0.175439   \n",
       "603635                            0.000831        0.035714  0.175439   \n",
       "603636                            0.000831        0.035714  0.175439   \n",
       "\n",
       "        ctr_by_max_ctr  graded_ctr_norm  ctr_norm_by_max_click_norm  \n",
       "0             1.000000        10.000000                   10.000000  \n",
       "1             0.437141         4.371409                    1.899593  \n",
       "2             0.825202         8.252018                    6.749773  \n",
       "3             0.338452         3.384518                    1.135436  \n",
       "4             0.249726         2.497263                    0.618064  \n",
       "...                ...              ...                         ...  \n",
       "603632        0.407143         4.071429                    0.189369  \n",
       "603633        0.203571         2.035714                    0.047342  \n",
       "603634        0.203571         2.035714                    0.047342  \n",
       "603635        0.203571         2.035714                    0.047342  \n",
       "603636        0.203571         2.035714                    0.047342  \n",
       "\n",
       "[603637 rows x 35 columns]"
      ]
     },
     "execution_count": 167,
     "metadata": {},
     "output_type": "execute_result"
    }
   ],
   "source": [
    "temp_df"
   ]
  },
  {
   "cell_type": "code",
   "execution_count": null,
   "id": "d11ee633",
   "metadata": {},
   "outputs": [],
   "source": []
  },
  {
   "cell_type": "code",
   "execution_count": null,
   "id": "6bee995c",
   "metadata": {},
   "outputs": [],
   "source": []
  },
  {
   "cell_type": "code",
   "execution_count": null,
   "id": "3fede29a",
   "metadata": {},
   "outputs": [],
   "source": [
    "# grouped[grouped.apply(lambda x: np.max(x['ctr_normalized'])) == 'دوچرخه']"
   ]
  },
  {
   "cell_type": "code",
   "execution_count": null,
   "id": "1a9af559",
   "metadata": {},
   "outputs": [],
   "source": []
  },
  {
   "cell_type": "code",
   "execution_count": null,
   "id": "4982d70a",
   "metadata": {},
   "outputs": [],
   "source": []
  },
  {
   "cell_type": "code",
   "execution_count": null,
   "id": "41f8c44d",
   "metadata": {},
   "outputs": [],
   "source": []
  },
  {
   "cell_type": "code",
   "execution_count": null,
   "id": "a28fc351",
   "metadata": {},
   "outputs": [],
   "source": []
  },
  {
   "cell_type": "code",
   "execution_count": null,
   "id": "02b6e27f",
   "metadata": {},
   "outputs": [],
   "source": []
  },
  {
   "cell_type": "code",
   "execution_count": null,
   "id": "cfb84837",
   "metadata": {},
   "outputs": [],
   "source": [
    "# df = pd.read_csv(\"dataset_v3_2.txt\", sep=\",\")\n",
    "# df"
   ]
  },
  {
   "cell_type": "code",
   "execution_count": null,
   "id": "9077452d",
   "metadata": {},
   "outputs": [],
   "source": []
  },
  {
   "cell_type": "code",
   "execution_count": null,
   "id": "0069091c",
   "metadata": {},
   "outputs": [],
   "source": [
    "# # ctr_laplace_normalized = (clicks + 1) / (impressions + len(results[\"results\"]))\n",
    "# df[\"ctr_laplace_normalized_2\"] = (df[\"clicks\"] + 1) / (df[\"max_clicks\"])"
   ]
  },
  {
   "cell_type": "code",
   "execution_count": null,
   "id": "d1e40529",
   "metadata": {},
   "outputs": [],
   "source": [
    "# df[\"click_per_maxclick\"] = df[\"clicks\"] / df[\"max_clicks\"]"
   ]
  },
  {
   "cell_type": "code",
   "execution_count": null,
   "id": "26cd86b1",
   "metadata": {},
   "outputs": [
    {
     "data": {
      "text/plain": [
       "(585, 31)"
      ]
     },
     "execution_count": 62,
     "metadata": {},
     "output_type": "execute_result"
    }
   ],
   "source": [
    "# df.shape"
   ]
  },
  {
   "cell_type": "code",
   "execution_count": null,
   "id": "30d52869",
   "metadata": {},
   "outputs": [
    {
     "data": {
      "text/plain": [
       "(61, 31)"
      ]
     },
     "execution_count": 61,
     "metadata": {},
     "output_type": "execute_result"
    }
   ],
   "source": [
    "# df[df[\"clicks\"]==0].shape"
   ]
  },
  {
   "cell_type": "markdown",
   "id": "2dd5c941",
   "metadata": {},
   "source": [
    "# len(copy)"
   ]
  },
  {
   "cell_type": "code",
   "execution_count": null,
   "id": "25188fdf",
   "metadata": {},
   "outputs": [
    {
     "data": {
      "text/plain": [
       "query\n",
       "گوشی سامسونگ     51\n",
       "ایفون ۱۳ پرو     59\n",
       "ترازو            59\n",
       "خط زن            59\n",
       "ساعت هوشمند      59\n",
       "عینک افتابی      59\n",
       "لوازم ارایشی     59\n",
       "پرده پذیرایی     60\n",
       "گوشی ایفون ۱۲    60\n",
       "گوشیa ۳۰         60\n",
       "dtype: int64"
      ]
     },
     "execution_count": 63,
     "metadata": {},
     "output_type": "execute_result"
    }
   ],
   "source": [
    "# show query with minimum number of products\n",
    "df.groupby(\"query\").size().sort_values(ascending=True).head(20)"
   ]
  },
  {
   "cell_type": "code",
   "execution_count": null,
   "id": "bb80d0c9",
   "metadata": {},
   "outputs": [],
   "source": [
    "# show \"moripods\" products\n",
    "# df[df[\"query\"] == \"moripods\"]"
   ]
  },
  {
   "cell_type": "code",
   "execution_count": null,
   "id": "711c0318",
   "metadata": {},
   "outputs": [],
   "source": [
    "# add a column for ctr_laplace_normalized/max_ctr_laplace_normalized, note: group by query\n",
    "# max_ctr_laplace_normalized = df.groupby(\"query\")[\"ctr_laplace_normalized\"].max()\n",
    "# df[\"max_ctr_laplace_normalized\"] = df[\"query\"].map(max_ctr_laplace_normalized)"
   ]
  },
  {
   "cell_type": "code",
   "execution_count": null,
   "id": "51cd86b2",
   "metadata": {},
   "outputs": [],
   "source": [
    "# len(df)"
   ]
  },
  {
   "cell_type": "code",
   "execution_count": null,
   "id": "a4226e62",
   "metadata": {},
   "outputs": [],
   "source": [
    "# df[\"ctr_laplace_normalized_by_max_ctr_laplace_normalized\"] = ( df[\"ctr_laplace_normalized\"] / df[\"max_ctr_laplace_normalized\"] ) * 10"
   ]
  },
  {
   "cell_type": "code",
   "execution_count": null,
   "id": "52445127",
   "metadata": {},
   "outputs": [],
   "source": [
    "# df[\"ceil_ctr_laplace_normalized_by_max_ctr_laplace_normalized\"] = df[\"ctr_laplace_normalized_by_max_ctr_laplace_normalized\"].apply(np.ceil)"
   ]
  },
  {
   "cell_type": "code",
   "execution_count": null,
   "id": "40c3b882",
   "metadata": {},
   "outputs": [
    {
     "data": {
      "text/plain": [
       "0     10.000000\n",
       "1      4.371409\n",
       "2      8.252018\n",
       "3      3.384518\n",
       "4      2.497263\n",
       "5      8.804563\n",
       "6      1.618161\n",
       "7      1.159291\n",
       "8      2.071292\n",
       "9      5.247443\n",
       "10     1.160673\n",
       "11     1.127305\n",
       "12     1.810594\n",
       "13     0.745930\n",
       "14     2.121837\n",
       "15     1.101672\n",
       "16     1.273197\n",
       "17     1.689985\n",
       "18     1.073321\n",
       "19     3.562143\n",
       "Name: ctr_laplace_normalized_by_max_ctr_laplace_normalized, dtype: float64"
      ]
     },
     "execution_count": 60,
     "metadata": {},
     "output_type": "execute_result"
    }
   ],
   "source": [
    "# df[\"ctr_laplace_normalized_by_max_ctr_laplace_normalized\"].head(20)\n"
   ]
  },
  {
   "cell_type": "code",
   "execution_count": null,
   "id": "3a49e340",
   "metadata": {},
   "outputs": [],
   "source": [
    "# df[\"ctr_laplace_normalized_by_max_ctr_laplace_normalized_multiplied_click_per_maxclick\"] = df[\"ctr_laplace_normalized_by_max_ctr_laplace_normalized\"] * df[\"click_per_maxclick\"]\n",
    "\n",
    "# df[\"ceil_ctr_laplace_normalized_by_max_ctr_laplace_normalized_multiplied_click_per_maxclick\"] = df[\"ctr_laplace_normalized_by_max_ctr_laplace_normalized_multiplied_click_per_maxclick\"].apply(np.ceil)"
   ]
  },
  {
   "cell_type": "code",
   "execution_count": null,
   "id": "af27b2c8",
   "metadata": {},
   "outputs": [],
   "source": [
    "df = temp_df.copy(deep=True)"
   ]
  },
  {
   "cell_type": "markdown",
   "id": "eea98f39",
   "metadata": {},
   "source": [
    "## Preprocess"
   ]
  },
  {
   "cell_type": "code",
   "execution_count": null,
   "id": "6fb11771",
   "metadata": {},
   "outputs": [],
   "source": [
    "c_model = \"HooshvareLab/bert-fa-base-uncased\"\n",
    "tokenizer = AutoTokenizer.from_pretrained(c_model)"
   ]
  },
  {
   "cell_type": "code",
   "execution_count": null,
   "id": "32d9efe2",
   "metadata": {},
   "outputs": [],
   "source": [
    "def preprocess(record):\n",
    "    query = record[\"query\"]\n",
    "    p_des = normalizer.normalize(record[\"p_des\"])\n",
    "    category = record[\"category_name\"]\n",
    "    popularity = record[\"popularity\"]\n",
    "    avg_price = record[\"avg_price\"]\n",
    "    std_avg_prices = record[\"std_avg_prices\"]\n",
    "    mean_avg_prices = record[\"mean_avg_prices\"]\n",
    "\n",
    "    if (avg_price is not None) and (not np.isnan(avg_price)) and (std_avg_prices != 0):\n",
    "        price_level = \"price is \" + normalizer.normalize(\n",
    "            str(int((((avg_price - mean_avg_prices) / std_avg_prices) + 2) * 5))\n",
    "        )\n",
    "    else:\n",
    "        price_level = \"price is none\"\n",
    "        \n",
    "    encoded_text = tokenizer(\n",
    "        query,\n",
    "        category + \" \" + popularity + \" \" + \" \" + price_level + \" \" + p_des,\n",
    "        truncation=True,\n",
    "        max_length=512,\n",
    "    )\n",
    "    \n",
    "    \n",
    "    label = record[\"ctr_norm_by_max_click_norm\"]\n",
    "\n",
    "    return {\n",
    "        \"input_ids\": encoded_text[\"input_ids\"],\n",
    "        \"attention_mask\": encoded_text[\"attention_mask\"],\n",
    "        \"token_type_ids\": encoded_text[\"token_type_ids\"],\n",
    "        \"label\": label,\n",
    "    }"
   ]
  },
  {
   "cell_type": "code",
   "execution_count": null,
   "id": "b952f0c2",
   "metadata": {},
   "outputs": [],
   "source": [
    "# df = temp_df.copy(deep=True) "
   ]
  },
  {
   "cell_type": "code",
   "execution_count": null,
   "id": "00d96598",
   "metadata": {},
   "outputs": [
    {
     "data": {
      "text/plain": [
       "603637"
      ]
     },
     "execution_count": 181,
     "metadata": {},
     "output_type": "execute_result"
    }
   ],
   "source": [
    "len(df) # 603637"
   ]
  },
  {
   "cell_type": "code",
   "execution_count": null,
   "id": "ef599d03",
   "metadata": {},
   "outputs": [
    {
     "data": {
      "text/plain": [
       "((543273, 35), (60364, 35))"
      ]
     },
     "execution_count": 182,
     "metadata": {},
     "output_type": "execute_result"
    }
   ],
   "source": [
    "train_dataset = df.sample(frac=0.9, random_state=42)\n",
    "test_dataset = df.drop(train_dataset.index)\n",
    "\n",
    "train_dataset.shape, test_dataset.shape # ((543273, 35), (60364, 35))"
   ]
  },
  {
   "cell_type": "code",
   "execution_count": null,
   "id": "8d932610",
   "metadata": {},
   "outputs": [],
   "source": [
    "train_dataset = Dataset.from_pandas(train_dataset)\n",
    "test_dataset = Dataset.from_pandas(test_dataset)"
   ]
  },
  {
   "cell_type": "code",
   "execution_count": null,
   "id": "f0384c92",
   "metadata": {},
   "outputs": [
    {
     "data": {
      "text/plain": [
       "(Dataset({\n",
       "     features: ['query', 'product_id', 'p_des', 'product_title', 'category_name', 'min_num_shops', 'max_num_shops', 'avg_num_shops', 'min_price', 'max_price', 'avg_price', 'mean_min_prices', 'mean_max_prices', 'mean_avg_prices', 'std_min_prices', 'std_max_prices', 'std_avg_prices', 'num_query', 'impression', 'candidate_score1', 'candidate_score2', 'clicks', 'max_clicks', 'len_results', 'impressions', 'ctr', 'max_shop_processed', 'popularity', 'clicks_by_max_clicks', 'ctr_normalized_by_click_normalized', 'ctr_normalized', 'max_ctr', 'ctr_by_max_ctr', 'graded_ctr_norm', 'ctr_norm_by_max_click_norm', '__index_level_0__'],\n",
       "     num_rows: 543273\n",
       " }),\n",
       " Dataset({\n",
       "     features: ['query', 'product_id', 'p_des', 'product_title', 'category_name', 'min_num_shops', 'max_num_shops', 'avg_num_shops', 'min_price', 'max_price', 'avg_price', 'mean_min_prices', 'mean_max_prices', 'mean_avg_prices', 'std_min_prices', 'std_max_prices', 'std_avg_prices', 'num_query', 'impression', 'candidate_score1', 'candidate_score2', 'clicks', 'max_clicks', 'len_results', 'impressions', 'ctr', 'max_shop_processed', 'popularity', 'clicks_by_max_clicks', 'ctr_normalized_by_click_normalized', 'ctr_normalized', 'max_ctr', 'ctr_by_max_ctr', 'graded_ctr_norm', 'ctr_norm_by_max_click_norm', '__index_level_0__'],\n",
       "     num_rows: 60364\n",
       " }))"
      ]
     },
     "execution_count": 184,
     "metadata": {},
     "output_type": "execute_result"
    }
   ],
   "source": [
    "train_dataset, test_dataset"
   ]
  },
  {
   "cell_type": "code",
   "execution_count": null,
   "id": "79725d61",
   "metadata": {},
   "outputs": [
    {
     "data": {
      "application/vnd.jupyter.widget-view+json": {
       "model_id": "61b5fc6f90d8490aaf331c64d747d3fd",
       "version_major": 2,
       "version_minor": 0
      },
      "text/plain": [
       "  0%|          | 0/543273 [00:00<?, ?ex/s]"
      ]
     },
     "metadata": {},
     "output_type": "display_data"
    },
    {
     "data": {
      "application/vnd.jupyter.widget-view+json": {
       "model_id": "69f640c830634c68b73785cebcdda7f6",
       "version_major": 2,
       "version_minor": 0
      },
      "text/plain": [
       "  0%|          | 0/60364 [00:00<?, ?ex/s]"
      ]
     },
     "metadata": {},
     "output_type": "display_data"
    }
   ],
   "source": [
    "train_dataset = train_dataset.map(preprocess, remove_columns=train_dataset.column_names)\n",
    "test_dataset = test_dataset.map(preprocess, remove_columns=test_dataset.column_names)"
   ]
  },
  {
   "cell_type": "code",
   "execution_count": null,
   "id": "eca2158a",
   "metadata": {},
   "outputs": [
    {
     "data": {
      "application/vnd.jupyter.widget-view+json": {
       "model_id": "",
       "version_major": 2,
       "version_minor": 0
      },
      "text/plain": [
       "Saving the dataset (0/1 shards):   0%|          | 0/543273 [00:00<?, ? examples/s]"
      ]
     },
     "metadata": {},
     "output_type": "display_data"
    },
    {
     "data": {
      "application/vnd.jupyter.widget-view+json": {
       "model_id": "",
       "version_major": 2,
       "version_minor": 0
      },
      "text/plain": [
       "Saving the dataset (0/1 shards):   0%|          | 0/60364 [00:00<?, ? examples/s]"
      ]
     },
     "metadata": {},
     "output_type": "display_data"
    }
   ],
   "source": [
    "# save to disk\n",
    "train_dataset.save_to_disk(\"train_dataset_v4\")\n",
    "test_dataset.save_to_disk(\"test_dataset_v4\")"
   ]
  },
  {
   "cell_type": "code",
   "execution_count": null,
   "id": "16240504",
   "metadata": {},
   "outputs": [],
   "source": [
    "def preprocess(record):\n",
    "\n",
    "    query = record[\"query\"]\n",
    "    p_des = normalizer.normalize(record[\"p_des\"])\n",
    "    category = record[\"category_name\"]\n",
    "    popularity = record[\"popularity\"]\n",
    "\n",
    "    avg_price = record[\"avg_price\"]\n",
    "    std_avg_prices = record[\"std_avg_prices\"]\n",
    "    mean_avg_prices = record[\"mean_avg_prices\"]\n",
    "\n",
    "    if (avg_price is not None) and (not np.isnan(avg_price)) and (std_avg_prices != 0):\n",
    "        price_level = \"price is \" + normalizer.normalize(\n",
    "            str(int((((avg_price - mean_avg_prices) / std_avg_prices) + 2) * 5))\n",
    "        )\n",
    "    else:\n",
    "        price_level = \"price is none\"\n",
    "\n",
    "    encoded_text = tokenizer(\n",
    "        query,\n",
    "        category + \" \" + popularity + \" \" + \" \" + price_level + \" \" + p_des,\n",
    "        truncation=True,\n",
    "        max_length=512,\n",
    "    )\n",
    "\n",
    "    label = record[\"clicks_by_max_clicks\"]\n",
    "\n",
    "    return {\n",
    "        \"input_ids\": encoded_text[\"input_ids\"],\n",
    "        \"attention_mask\": encoded_text[\"attention_mask\"],\n",
    "        \"token_type_ids\": encoded_text[\"token_type_ids\"],\n",
    "        \"label\": label,\n",
    "    }"
   ]
  },
  {
   "cell_type": "code",
   "execution_count": null,
   "id": "44085436",
   "metadata": {},
   "outputs": [
    {
     "data": {
      "text/plain": [
       "603637"
      ]
     },
     "execution_count": 199,
     "metadata": {},
     "output_type": "execute_result"
    }
   ],
   "source": [
    "len(df)"
   ]
  },
  {
   "cell_type": "code",
   "execution_count": null,
   "id": "9e82bd2a",
   "metadata": {},
   "outputs": [
    {
     "data": {
      "text/plain": [
       "((543273, 35), (60364, 35))"
      ]
     },
     "execution_count": 200,
     "metadata": {},
     "output_type": "execute_result"
    }
   ],
   "source": [
    "train_dataset = df.sample(frac=0.9)\n",
    "test_dataset = df.drop(train_dataset.index)\n",
    "\n",
    "train_dataset.shape, test_dataset.shape"
   ]
  },
  {
   "cell_type": "code",
   "execution_count": null,
   "id": "ba692ccd",
   "metadata": {},
   "outputs": [],
   "source": [
    "train_dataset = Dataset.from_pandas(train_dataset)\n",
    "test_dataset = Dataset.from_pandas(test_dataset)"
   ]
  },
  {
   "cell_type": "code",
   "execution_count": null,
   "id": "437b2d4f",
   "metadata": {},
   "outputs": [
    {
     "data": {
      "text/plain": [
       "(Dataset({\n",
       "     features: ['query', 'product_id', 'p_des', 'product_title', 'category_name', 'min_num_shops', 'max_num_shops', 'avg_num_shops', 'min_price', 'max_price', 'avg_price', 'mean_min_prices', 'mean_max_prices', 'mean_avg_prices', 'std_min_prices', 'std_max_prices', 'std_avg_prices', 'num_query', 'impression', 'candidate_score1', 'candidate_score2', 'clicks', 'max_clicks', 'len_results', 'impressions', 'ctr', 'max_shop_processed', 'popularity', 'clicks_by_max_clicks', 'ctr_normalized_by_click_normalized', 'ctr_normalized', 'max_ctr', 'ctr_by_max_ctr', 'graded_ctr_norm', 'ctr_norm_by_max_click_norm', '__index_level_0__'],\n",
       "     num_rows: 543273\n",
       " }),\n",
       " Dataset({\n",
       "     features: ['query', 'product_id', 'p_des', 'product_title', 'category_name', 'min_num_shops', 'max_num_shops', 'avg_num_shops', 'min_price', 'max_price', 'avg_price', 'mean_min_prices', 'mean_max_prices', 'mean_avg_prices', 'std_min_prices', 'std_max_prices', 'std_avg_prices', 'num_query', 'impression', 'candidate_score1', 'candidate_score2', 'clicks', 'max_clicks', 'len_results', 'impressions', 'ctr', 'max_shop_processed', 'popularity', 'clicks_by_max_clicks', 'ctr_normalized_by_click_normalized', 'ctr_normalized', 'max_ctr', 'ctr_by_max_ctr', 'graded_ctr_norm', 'ctr_norm_by_max_click_norm', '__index_level_0__'],\n",
       "     num_rows: 60364\n",
       " }))"
      ]
     },
     "execution_count": 202,
     "metadata": {},
     "output_type": "execute_result"
    }
   ],
   "source": [
    "train_dataset, test_dataset"
   ]
  },
  {
   "cell_type": "code",
   "execution_count": null,
   "id": "72436200",
   "metadata": {},
   "outputs": [
    {
     "data": {
      "application/vnd.jupyter.widget-view+json": {
       "model_id": "82cad3146cbc4b6db1049a88df0b9a8f",
       "version_major": 2,
       "version_minor": 0
      },
      "text/plain": [
       "  0%|          | 0/543273 [00:00<?, ?ex/s]"
      ]
     },
     "metadata": {},
     "output_type": "display_data"
    },
    {
     "data": {
      "application/vnd.jupyter.widget-view+json": {
       "model_id": "4e4f3ee495d04b16903829fca7814abd",
       "version_major": 2,
       "version_minor": 0
      },
      "text/plain": [
       "  0%|          | 0/60364 [00:00<?, ?ex/s]"
      ]
     },
     "metadata": {},
     "output_type": "display_data"
    }
   ],
   "source": [
    "train_dataset = train_dataset.map(preprocess, remove_columns=train_dataset.column_names)\n",
    "test_dataset = test_dataset.map(preprocess, remove_columns=test_dataset.column_names)"
   ]
  },
  {
   "cell_type": "code",
   "execution_count": null,
   "id": "bf760987",
   "metadata": {},
   "outputs": [
    {
     "data": {
      "application/vnd.jupyter.widget-view+json": {
       "model_id": "",
       "version_major": 2,
       "version_minor": 0
      },
      "text/plain": [
       "Saving the dataset (0/1 shards):   0%|          | 0/543273 [00:00<?, ? examples/s]"
      ]
     },
     "metadata": {},
     "output_type": "display_data"
    },
    {
     "data": {
      "application/vnd.jupyter.widget-view+json": {
       "model_id": "",
       "version_major": 2,
       "version_minor": 0
      },
      "text/plain": [
       "Saving the dataset (0/1 shards):   0%|          | 0/60364 [00:00<?, ? examples/s]"
      ]
     },
     "metadata": {},
     "output_type": "display_data"
    }
   ],
   "source": [
    "train_dataset.save_to_disk(\"train_dataset_v4_model_3\")\n",
    "test_dataset.save_to_disk(\"test_dataset_v4_model_3\")"
   ]
  },
  {
   "cell_type": "code",
   "execution_count": null,
   "id": "f5e3874f",
   "metadata": {},
   "outputs": [],
   "source": [
    "%reset -f"
   ]
  }
 ],
 "metadata": {
  "kernelspec": {
   "display_name": "Python 3 (ipykernel)",
   "language": "python",
   "name": "python3"
  },
  "language_info": {
   "codemirror_mode": {
    "name": "ipython",
    "version": 3
   },
   "file_extension": ".py",
   "mimetype": "text/x-python",
   "name": "python",
   "nbconvert_exporter": "python",
   "pygments_lexer": "ipython3",
   "version": "3.7.16"
  }
 },
 "nbformat": 4,
 "nbformat_minor": 5
}
