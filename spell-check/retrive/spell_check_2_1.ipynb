{
 "cells": [
  {
   "cell_type": "code",
   "execution_count": null,
   "id": "f2bd2273",
   "metadata": {},
   "outputs": [],
   "source": [
    "# !pip install -qU selenium webdriver-manager persiantools python-docx"
   ]
  },
  {
   "cell_type": "code",
   "execution_count": null,
   "id": "8b00d768",
   "metadata": {},
   "outputs": [],
   "source": [
    "# !pip install pandas"
   ]
  },
  {
   "cell_type": "code",
   "execution_count": 3,
   "id": "3a966935",
   "metadata": {},
   "outputs": [],
   "source": [
    "import csv\n",
    "import re\n",
    "import json\n",
    "import logging\n",
    "from tqdm import tqdm\n",
    "\n",
    "import numpy as np\n",
    "import pandas as pd\n",
    "\n",
    "import docx\n",
    "\n",
    "from selenium import webdriver"
   ]
  },
  {
   "cell_type": "code",
   "execution_count": 4,
   "id": "0164b85d",
   "metadata": {},
   "outputs": [],
   "source": [
    "options = webdriver.ChromeOptions()\n",
    "options.add_argument(\"--headless\")\n",
    "options.add_argument(\"--no-sandbox\")\n",
    "options.add_argument(\"--disable-dev-shm-usage\")\n",
    "options.add_argument(\"user-agent=Mozilla/5.0 (X11; Linux x86_64) AppleWebKit/537.36 (KHTML, like Gecko) Chrome/51.0.2704.103 Safari/537.36\")\n",
    "\n",
    "driver = webdriver.Chrome(\"chromedriver\", options=options)"
   ]
  },
  {
   "cell_type": "code",
   "execution_count": null,
   "id": "c086b31b",
   "metadata": {},
   "outputs": [],
   "source": [
    "class JsonFileIterator:\n",
    "    def __init__(self, path):\n",
    "        self.path = path\n",
    "        self.f = open(path, \"r\")\n",
    "        self.i = 0\n",
    "        self.length = self.counter_lines()\n",
    "\n",
    "    def __iter__(self):\n",
    "        return self\n",
    "\n",
    "    def __next__(self):\n",
    "        line = self.f.readline()\n",
    "        if not line:\n",
    "            # End of file\n",
    "            self.f.close()\n",
    "            raise StopIteration\n",
    "        self.i += 1\n",
    "        return json.loads(line)\n",
    "\n",
    "    def counter_lines(self):\n",
    "        with open(self.path, \"r\") as f1:\n",
    "            return sum(1 for _ in f1)\n",
    "\n",
    "    def __len__(self):\n",
    "        return self.length"
   ]
  },
  {
   "cell_type": "code",
   "execution_count": null,
   "id": "61d4792a",
   "metadata": {},
   "outputs": [],
   "source": [
    "def read_json_lines(path, n_lines=None):\n",
    "    \"\"\"Creates a generator which reads and returns lines of\n",
    "    a json lines file, one line at a time, each as a dictionary.\n",
    "\n",
    "    This could be used as a memory-efficient alternative of `pandas.read_json`\n",
    "    for reading a json lines file.\n",
    "    \"\"\"\n",
    "    with open(path, 'r') as f:\n",
    "        for i, line in enumerate(f):\n",
    "            if n_lines == i:\n",
    "                break\n",
    "            yield json.loads(line)"
   ]
  },
  {
   "cell_type": "code",
   "execution_count": null,
   "id": "166b7500",
   "metadata": {},
   "outputs": [],
   "source": [
    "search_query = pd.DataFrame(read_json_lines('./data/torob-search-data_v1.jsonl'))\n",
    "search_query.head()"
   ]
  },
  {
   "cell_type": "code",
   "execution_count": null,
   "id": "940b2a0d",
   "metadata": {},
   "outputs": [],
   "source": [
    "queries = dict()\n",
    "for search in tqdm(search_query.to_dict('records')):\n",
    "    query = search[\"raw_query\"]\n",
    "    if query not in queries:\n",
    "        queries[query] = 1\n",
    "    else:\n",
    "        queries[query] += 1"
   ]
  },
  {
   "cell_type": "code",
   "execution_count": null,
   "id": "2000c77b",
   "metadata": {},
   "outputs": [],
   "source": [
    "sorted_queries = sorted(queries.items(), key=lambda x: x[1], reverse=False)"
   ]
  },
  {
   "cell_type": "code",
   "execution_count": null,
   "id": "ecee4d0a",
   "metadata": {},
   "outputs": [],
   "source": [
    "df = pd.DataFrame.from_dict(queries, orient='index', columns=['count'])\n",
    "df.sort_values(by=['count'], inplace=True, ascending=True)"
   ]
  },
  {
   "cell_type": "code",
   "execution_count": null,
   "id": "62377dac",
   "metadata": {},
   "outputs": [],
   "source": [
    "df"
   ]
  },
  {
   "cell_type": "code",
   "execution_count": null,
   "id": "2eb1b05a",
   "metadata": {},
   "outputs": [],
   "source": [
    "temp = df.copy(deep=True)\n",
    "temp = temp[temp['count'] <= 10]\n",
    "# temp[temp.index == \"دچرخ\"]"
   ]
  },
  {
   "cell_type": "code",
   "execution_count": null,
   "id": "dd1edbdb",
   "metadata": {},
   "outputs": [],
   "source": [
    "temp.sort_values(by=['count'], inplace=True, ascending=False)"
   ]
  },
  {
   "cell_type": "code",
   "execution_count": null,
   "id": "cd0c2187",
   "metadata": {},
   "outputs": [],
   "source": [
    "temp"
   ]
  },
  {
   "cell_type": "code",
   "execution_count": null,
   "id": "d4450d0c",
   "metadata": {},
   "outputs": [],
   "source": [
    "dfs = np.array_split(temp, len(temp)//50000 + 1)"
   ]
  },
  {
   "cell_type": "code",
   "execution_count": null,
   "id": "6f6aab41",
   "metadata": {},
   "outputs": [],
   "source": [
    "# dfs = []\n",
    "\n",
    "# # loop over each output file and read it into a DataFrame\n",
    "# for i in range(1, n_files + 1):\n",
    "#     filename = f\"output_{i}.csv\"\n",
    "#     df = pd.read_csv(filename, index_col=0)\n",
    "#     dfs.append(df)\n",
    "\n",
    "# # concatenate the DataFrames into a single DataFrame\n",
    "# temp = pd.concat(dfs)"
   ]
  },
  {
   "cell_type": "code",
   "execution_count": null,
   "id": "d62b3fa9",
   "metadata": {},
   "outputs": [],
   "source": [
    "# !mkdir spell_check"
   ]
  },
  {
   "cell_type": "code",
   "execution_count": null,
   "id": "52624fd4",
   "metadata": {},
   "outputs": [],
   "source": [
    "for i, df in enumerate(dfs):\n",
    "    df.to_csv(f\"./spell_check/output_{i+1}.csv\")"
   ]
  },
  {
   "cell_type": "code",
   "execution_count": null,
   "id": "ae438c4e",
   "metadata": {},
   "outputs": [],
   "source": [
    "# create an empty list to store the DataFrames\n",
    "dfs = []\n",
    "\n",
    "# loop over each output file and read it into a DataFrame\n",
    "for i in range(1, n_files + 1):\n",
    "    filename = f\"output_{i}.csv\"\n",
    "    df = pd.read_csv(filename, index_col=0)\n",
    "    dfs.append(df)\n",
    "\n",
    "# concatenate the DataFrames into a single DataFrame\n",
    "temp = pd.concat(dfs)\n"
   ]
  },
  {
   "cell_type": "code",
   "execution_count": null,
   "id": "41259a4c",
   "metadata": {},
   "outputs": [],
   "source": [
    "doc = docx.Document()"
   ]
  },
  {
   "cell_type": "code",
   "execution_count": null,
   "id": "25406147",
   "metadata": {},
   "outputs": [],
   "source": [
    "temp = temp[:100]"
   ]
  },
  {
   "cell_type": "code",
   "execution_count": null,
   "id": "5ca3aaf2",
   "metadata": {},
   "outputs": [],
   "source": [
    "# آب میوه گیری چهار"
   ]
  },
  {
   "cell_type": "code",
   "execution_count": null,
   "id": "1c7b1488",
   "metadata": {},
   "outputs": [],
   "source": [
    "temp"
   ]
  },
  {
   "cell_type": "code",
   "execution_count": null,
   "id": "82d67fee",
   "metadata": {},
   "outputs": [],
   "source": [
    "table = doc.add_table(rows=1, cols=len(temp.columns))\n",
    "header_cells = table.rows[0].cells\n",
    "for i in range(len(temp.columns)):\n",
    "    header_cells[i].text = temp.columns[i]\n",
    "\n",
    "for i, (index, row) in tqdm(enumerate(temp.iterrows()), total=len(temp)):\n",
    "    cells = table.add_row().cells\n",
    "    cells[0].text = str(index)  # write the index value to the first cell\n",
    "    for j in range(1, len(temp.columns)):\n",
    "        cells[j].text = str(row[j]).replace('\\n', ' ')\n",
    "        \n",
    "# save file\n",
    "doc.save(\"output.docx\")"
   ]
  },
  {
   "cell_type": "code",
   "execution_count": null,
   "id": "bfd17f62",
   "metadata": {},
   "outputs": [],
   "source": [
    "df = pd.read_csv('./spell_check/output_2.csv', index_col=0)"
   ]
  },
  {
   "cell_type": "code",
   "execution_count": null,
   "id": "6d5292a4",
   "metadata": {},
   "outputs": [],
   "source": [
    "dfs = np.array_split(df, len(df)//10000 + 1)"
   ]
  },
  {
   "cell_type": "code",
   "execution_count": null,
   "id": "688d48ac",
   "metadata": {},
   "outputs": [],
   "source": [
    "for i, df in enumerate(dfs):\n",
    "    df.to_csv(f\"./spell_check/output_2_{i+1}.csv\")"
   ]
  },
  {
   "cell_type": "code",
   "execution_count": null,
   "id": "d8984d97",
   "metadata": {},
   "outputs": [],
   "source": [
    "df = pd.read_csv('./spell_check/output_2_1.csv', index_col=0)"
   ]
  },
  {
   "cell_type": "code",
   "execution_count": null,
   "id": "3e23ac2e",
   "metadata": {},
   "outputs": [],
   "source": [
    "temp = df.copy(deep=True)"
   ]
  },
  {
   "cell_type": "code",
   "execution_count": null,
   "id": "7a837a40",
   "metadata": {},
   "outputs": [],
   "source": [
    "temp"
   ]
  },
  {
   "cell_type": "code",
   "execution_count": null,
   "id": "a7afba71",
   "metadata": {},
   "outputs": [],
   "source": [
    "with open(\"retrive_part_2_1.txt\", \"w\", encoding=\"utf-8\", newline=\"\") as csvfile:\n",
    "\n",
    "    wrtiter = csv.writer(csvfile)\n",
    "    wrtiter.writerow(\n",
    "        [\n",
    "            \"query\",\n",
    "            \"spell_checked\",\n",
    "            \"title_text\",\n",
    "        ]\n",
    "    )\n",
    "\n",
    "    for query in tqdm(temp.index):\n",
    "\n",
    "        driver.get(\"https://torob.com/search/?query=\" + query)\n",
    "\n",
    "        check_spell = driver.find_elements(\"xpath\", \"//p[contains(@class, 'black_p')]\")\n",
    "\n",
    "        torob_spell_check = False\n",
    "        corrected_form = None\n",
    "        for text in check_spell:\n",
    "            extracted_text = text.get_attribute(\"innerText\")\n",
    "            if extracted_text.startswith(\"جستجو غلط‌گیری شد:\"):\n",
    "                torob_spell_check = True\n",
    "                corrected_query = re.search(\n",
    "                    r\"جستجو غلط‌گیری شد: (.*)\", extracted_text\n",
    "                ).group(1)\n",
    "                corrected_form = corrected_query\n",
    "            else:\n",
    "                corrected_form = None\n",
    "\n",
    "        names = driver.find_elements(\n",
    "            \"xpath\", \"//h2[contains(@class,'jsx-fa8eb4b3b47a1d18')]\"\n",
    "        )\n",
    "        name_list = []\n",
    "        for name in names:\n",
    "            extracted_name = name.get_attribute(\"innerText\")\n",
    "            name_list.append(extracted_name)\n",
    "\n",
    "        title_text = \"\\n\".join(name_list)\n",
    "\n",
    "        wrtiter.writerow(\n",
    "            [\n",
    "                query,\n",
    "                corrected_form,\n",
    "                title_text,\n",
    "            ]\n",
    "        )\n"
   ]
  },
  {
   "cell_type": "code",
   "execution_count": null,
   "id": "f6ea1cb8",
   "metadata": {},
   "outputs": [],
   "source": [
    "# retrive_part_2_1.txt\n",
    "# temp = temp[8012:]"
   ]
  },
  {
   "cell_type": "code",
   "execution_count": null,
   "id": "23de8e3f",
   "metadata": {},
   "outputs": [],
   "source": [
    "# temp.to_csv(f\"./spell_check/output_2_1_part2.csv\")"
   ]
  },
  {
   "cell_type": "code",
   "execution_count": 5,
   "id": "cbe6d4dd",
   "metadata": {},
   "outputs": [],
   "source": [
    "temp = pd.read_csv(f\"./spell_check/output_2_1_part2.csv\", index_col=0)"
   ]
  },
  {
   "cell_type": "code",
   "execution_count": 6,
   "id": "e78ed409",
   "metadata": {},
   "outputs": [
    {
     "data": {
      "text/html": [
       "<div>\n",
       "<style scoped>\n",
       "    .dataframe tbody tr th:only-of-type {\n",
       "        vertical-align: middle;\n",
       "    }\n",
       "\n",
       "    .dataframe tbody tr th {\n",
       "        vertical-align: top;\n",
       "    }\n",
       "\n",
       "    .dataframe thead th {\n",
       "        text-align: right;\n",
       "    }\n",
       "</style>\n",
       "<table border=\"1\" class=\"dataframe\">\n",
       "  <thead>\n",
       "    <tr style=\"text-align: right;\">\n",
       "      <th></th>\n",
       "      <th>count</th>\n",
       "    </tr>\n",
       "  </thead>\n",
       "  <tbody>\n",
       "    <tr>\n",
       "      <th>H500</th>\n",
       "      <td>3</td>\n",
       "    </tr>\n",
       "    <tr>\n",
       "      <th>مته کبالت</th>\n",
       "      <td>3</td>\n",
       "    </tr>\n",
       "    <tr>\n",
       "      <th>aux میکروفون دار</th>\n",
       "      <td>3</td>\n",
       "    </tr>\n",
       "    <tr>\n",
       "      <th>iPad 8</th>\n",
       "      <td>3</td>\n",
       "    </tr>\n",
       "    <tr>\n",
       "      <th>باکس پاستیل</th>\n",
       "      <td>3</td>\n",
       "    </tr>\n",
       "    <tr>\n",
       "      <th>...</th>\n",
       "      <td>...</td>\n",
       "    </tr>\n",
       "    <tr>\n",
       "      <th>دسته بازی بیسیم کامپیوتر</th>\n",
       "      <td>3</td>\n",
       "    </tr>\n",
       "    <tr>\n",
       "      <th>mi 11 lite ne</th>\n",
       "      <td>3</td>\n",
       "    </tr>\n",
       "    <tr>\n",
       "      <th>ساعت مچی زنانه طلایی</th>\n",
       "      <td>3</td>\n",
       "    </tr>\n",
       "    <tr>\n",
       "      <th>گوشی10</th>\n",
       "      <td>3</td>\n",
       "    </tr>\n",
       "    <tr>\n",
       "      <th>رکابی مردانه ورزشی</th>\n",
       "      <td>3</td>\n",
       "    </tr>\n",
       "  </tbody>\n",
       "</table>\n",
       "<p>1660 rows × 1 columns</p>\n",
       "</div>"
      ],
      "text/plain": [
       "                          count\n",
       "H500                          3\n",
       "مته کبالت                     3\n",
       "aux میکروفون دار              3\n",
       "iPad 8                        3\n",
       "باکس پاستیل                   3\n",
       "...                         ...\n",
       "دسته بازی بیسیم کامپیوتر      3\n",
       "mi 11 lite ne                 3\n",
       "ساعت مچی زنانه طلایی          3\n",
       "گوشی10                        3\n",
       "رکابی مردانه ورزشی            3\n",
       "\n",
       "[1660 rows x 1 columns]"
      ]
     },
     "execution_count": 6,
     "metadata": {},
     "output_type": "execute_result"
    }
   ],
   "source": [
    "temp"
   ]
  },
  {
   "cell_type": "code",
   "execution_count": 7,
   "id": "744d2f8a",
   "metadata": {},
   "outputs": [
    {
     "name": "stderr",
     "output_type": "stream",
     "text": [
      "100%|███████████████████████████████████████| 1660/1660 [52:56<00:00,  1.91s/it]\n"
     ]
    }
   ],
   "source": [
    "with open(\"retrive_part_2_1_part2.txt\", \"w\", encoding=\"utf-8\", newline=\"\") as csvfile:\n",
    "\n",
    "    wrtiter = csv.writer(csvfile)\n",
    "    wrtiter.writerow(\n",
    "        [\n",
    "            \"query\",\n",
    "            \"spell_checked\",\n",
    "            \"title_text\",\n",
    "        ]\n",
    "    )\n",
    "\n",
    "    for query in tqdm(temp.index):\n",
    "\n",
    "        driver.get(\"https://torob.com/search/?query=\" + query)\n",
    "\n",
    "        check_spell = driver.find_elements(\"xpath\", \"//p[contains(@class, 'black_p')]\")\n",
    "\n",
    "        torob_spell_check = False\n",
    "        corrected_form = None\n",
    "        for text in check_spell:\n",
    "            extracted_text = text.get_attribute(\"innerText\")\n",
    "            if extracted_text.startswith(\"جستجو غلط‌گیری شد:\"):\n",
    "                torob_spell_check = True\n",
    "                corrected_query = re.search(\n",
    "                    r\"جستجو غلط‌گیری شد: (.*)\", extracted_text\n",
    "                ).group(1)\n",
    "                corrected_form = corrected_query\n",
    "            else:\n",
    "                corrected_form = None\n",
    "\n",
    "        names = driver.find_elements(\n",
    "            \"xpath\", \"//h2[contains(@class,'jsx-fa8eb4b3b47a1d18')]\"\n",
    "        )\n",
    "        name_list = []\n",
    "        for name in names:\n",
    "            extracted_name = name.get_attribute(\"innerText\")\n",
    "            name_list.append(extracted_name)\n",
    "\n",
    "        title_text = \"\\n\".join(name_list)\n",
    "\n",
    "        wrtiter.writerow(\n",
    "            [\n",
    "                query,\n",
    "                corrected_form,\n",
    "                title_text,\n",
    "            ]\n",
    "        )\n"
   ]
  },
  {
   "cell_type": "code",
   "execution_count": null,
   "id": "c822c0ce",
   "metadata": {},
   "outputs": [],
   "source": []
  }
 ],
 "metadata": {
  "kernelspec": {
   "display_name": "Python 3 (ipykernel)",
   "language": "python",
   "name": "python3"
  },
  "language_info": {
   "codemirror_mode": {
    "name": "ipython",
    "version": 3
   },
   "file_extension": ".py",
   "mimetype": "text/x-python",
   "name": "python",
   "nbconvert_exporter": "python",
   "pygments_lexer": "ipython3",
   "version": "3.8.16"
  }
 },
 "nbformat": 4,
 "nbformat_minor": 5
}
