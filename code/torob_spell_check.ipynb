{
 "cells": [
  {
   "cell_type": "code",
   "execution_count": null,
   "metadata": {},
   "outputs": [],
   "source": [
    "# !apt update\n",
    "# !apt install chromium-chromedriver\n",
    "# !pip install -U selenium\n",
    "# ! pip install -qU selenium webdriver-manager persiantools"
   ]
  },
  {
   "cell_type": "code",
   "execution_count": 28,
   "metadata": {},
   "outputs": [],
   "source": [
    "import re\n",
    "from selenium import webdriver\n",
    "# from selenium.webdriver.remote.webelement import WebElement"
   ]
  },
  {
   "cell_type": "code",
   "execution_count": 30,
   "metadata": {},
   "outputs": [],
   "source": [
    "options = webdriver.ChromeOptions()\n",
    "options.add_argument(\"--headless\")\n",
    "options.add_argument(\"--no-sandbox\")\n",
    "options.add_argument(\"--disable-dev-shm-usage\")\n",
    "options.add_argument(\"user-agent=Mozilla/5.0 (X11; Linux x86_64) AppleWebKit/537.36 (KHTML, like Gecko) Chrome/51.0.2704.103 Safari/537.36\")\n",
    "\n",
    "driver = webdriver.Chrome(\"chromedriver\", options=options)"
   ]
  },
  {
   "cell_type": "code",
   "execution_count": 6,
   "metadata": {},
   "outputs": [],
   "source": [
    "query = \"دورخهچ\""
   ]
  },
  {
   "cell_type": "code",
   "execution_count": 7,
   "metadata": {},
   "outputs": [],
   "source": [
    "driver.get(\"https://www.google.com/search?q=\" + query)"
   ]
  },
  {
   "cell_type": "code",
   "execution_count": 8,
   "metadata": {},
   "outputs": [],
   "source": [
    "# # save page source\n",
    "# page_source = driver.page_source\n",
    "# # save page source to file\n",
    "# with open(\"page_source.html\", \"w\") as f:\n",
    "#     f.write(page_source)"
   ]
  },
  {
   "cell_type": "code",
   "execution_count": 9,
   "metadata": {},
   "outputs": [
    {
     "name": "stdout",
     "output_type": "stream",
     "text": [
      "Showing results for دوچرخه\n",
      "Search instead for دورخهچ\n",
      "Next >\n"
     ]
    }
   ],
   "source": [
    "# xpath=//div[@id='rcnt']\n",
    "text = driver.find_elements(\"xpath\", \"//div[contains(@class, 'BmP5tf')]\")\n",
    "for t in text:\n",
    "    print(t.text)"
   ]
  },
  {
   "cell_type": "code",
   "execution_count": 4,
   "metadata": {},
   "outputs": [],
   "source": [
    "import json\n",
    "from tqdm import tqdm\n",
    "\n",
    "import numpy as np\n",
    "import pandas as pd"
   ]
  },
  {
   "cell_type": "code",
   "execution_count": 5,
   "metadata": {},
   "outputs": [],
   "source": [
    "class JsonFileIterator:\n",
    "    def __init__(self, path):\n",
    "        self.path = path\n",
    "        self.f = open(path, \"r\")\n",
    "        self.i = 0\n",
    "        self.length = self.counter_lines()\n",
    "\n",
    "    def __iter__(self):\n",
    "        return self\n",
    "\n",
    "    def __next__(self):\n",
    "        line = self.f.readline()\n",
    "        if not line:\n",
    "            # End of file\n",
    "            self.f.close()\n",
    "            raise StopIteration\n",
    "        self.i += 1\n",
    "        return json.loads(line)\n",
    "\n",
    "    def counter_lines(self):\n",
    "        with open(self.path, \"r\") as f1:\n",
    "            return sum(1 for _ in f1)\n",
    "\n",
    "    def __len__(self):\n",
    "        return self.length\n"
   ]
  },
  {
   "cell_type": "code",
   "execution_count": 6,
   "metadata": {},
   "outputs": [
    {
     "data": {
      "text/html": [
       "<div>\n",
       "<style scoped>\n",
       "    .dataframe tbody tr th:only-of-type {\n",
       "        vertical-align: middle;\n",
       "    }\n",
       "\n",
       "    .dataframe tbody tr th {\n",
       "        vertical-align: top;\n",
       "    }\n",
       "\n",
       "    .dataframe thead th {\n",
       "        text-align: right;\n",
       "    }\n",
       "</style>\n",
       "<table border=\"1\" class=\"dataframe\">\n",
       "  <thead>\n",
       "    <tr style=\"text-align: right;\">\n",
       "      <th></th>\n",
       "      <th>raw_query</th>\n",
       "      <th>result</th>\n",
       "      <th>clicked_result</th>\n",
       "      <th>clicked_rank</th>\n",
       "      <th>timestamp</th>\n",
       "    </tr>\n",
       "  </thead>\n",
       "  <tbody>\n",
       "    <tr>\n",
       "      <th>0</th>\n",
       "      <td>لوستر سقفی برنز</td>\n",
       "      <td>[7151290, 6462477, 7385791, 8451497, None, 269...</td>\n",
       "      <td>[9457219]</td>\n",
       "      <td>[16]</td>\n",
       "      <td>2022-07-24T09:21:58.752000+00:00</td>\n",
       "    </tr>\n",
       "    <tr>\n",
       "      <th>1</th>\n",
       "      <td>قیمت هلیکوپتر</td>\n",
       "      <td>[363737, 3147253, 8720128, 9796388, 1420685, 5...</td>\n",
       "      <td>[3147253, 7135387]</td>\n",
       "      <td>[1, 7]</td>\n",
       "      <td>2022-07-24T07:32:12.261000+00:00</td>\n",
       "    </tr>\n",
       "    <tr>\n",
       "      <th>2</th>\n",
       "      <td>ساعت هوشمند</td>\n",
       "      <td>[2459592, 9391819, 4229448, 7824893, 1670767, ...</td>\n",
       "      <td>[900897, 2931230, 31302]</td>\n",
       "      <td>[7, 25, 52]</td>\n",
       "      <td>2022-07-24T02:51:35.643000+00:00</td>\n",
       "    </tr>\n",
       "    <tr>\n",
       "      <th>3</th>\n",
       "      <td>تفلون مایع</td>\n",
       "      <td>[5428407, 4474271, 4581189, 8504749, 4131340, ...</td>\n",
       "      <td>[7660686, 5901997, 2376830, 2383125]</td>\n",
       "      <td>[19, 18, 21, 36]</td>\n",
       "      <td>2022-07-24T02:51:54.771000+00:00</td>\n",
       "    </tr>\n",
       "    <tr>\n",
       "      <th>4</th>\n",
       "      <td>خط زن</td>\n",
       "      <td>[8466568, 9285461, 1105044, 1314054, 1791930, ...</td>\n",
       "      <td>[3852139]</td>\n",
       "      <td>[20]</td>\n",
       "      <td>2022-07-23T20:56:36.043000+00:00</td>\n",
       "    </tr>\n",
       "  </tbody>\n",
       "</table>\n",
       "</div>"
      ],
      "text/plain": [
       "         raw_query                                             result  \\\n",
       "0  لوستر سقفی برنز  [7151290, 6462477, 7385791, 8451497, None, 269...   \n",
       "1    قیمت هلیکوپتر  [363737, 3147253, 8720128, 9796388, 1420685, 5...   \n",
       "2      ساعت هوشمند  [2459592, 9391819, 4229448, 7824893, 1670767, ...   \n",
       "3       تفلون مایع  [5428407, 4474271, 4581189, 8504749, 4131340, ...   \n",
       "4            خط زن  [8466568, 9285461, 1105044, 1314054, 1791930, ...   \n",
       "\n",
       "                         clicked_result      clicked_rank  \\\n",
       "0                             [9457219]              [16]   \n",
       "1                    [3147253, 7135387]            [1, 7]   \n",
       "2              [900897, 2931230, 31302]       [7, 25, 52]   \n",
       "3  [7660686, 5901997, 2376830, 2383125]  [19, 18, 21, 36]   \n",
       "4                             [3852139]              [20]   \n",
       "\n",
       "                          timestamp  \n",
       "0  2022-07-24T09:21:58.752000+00:00  \n",
       "1  2022-07-24T07:32:12.261000+00:00  \n",
       "2  2022-07-24T02:51:35.643000+00:00  \n",
       "3  2022-07-24T02:51:54.771000+00:00  \n",
       "4  2022-07-23T20:56:36.043000+00:00  "
      ]
     },
     "execution_count": 6,
     "metadata": {},
     "output_type": "execute_result"
    }
   ],
   "source": [
    "def read_json_lines(path, n_lines=None):\n",
    "    \"\"\"Creates a generator which reads and returns lines of\n",
    "    a json lines file, one line at a time, each as a dictionary.\n",
    "\n",
    "    This could be used as a memory-efficient alternative of `pandas.read_json`\n",
    "    for reading a json lines file.\n",
    "    \"\"\"\n",
    "    with open(path, 'r') as f:\n",
    "        for i, line in enumerate(f):\n",
    "            if n_lines == i:\n",
    "                break\n",
    "            yield json.loads(line)\n",
    "\n",
    "# search_query = pd.DataFrame(read_json_lines('./torob/torob-search-data_v1.jsonl'))\n",
    "search_query = pd.DataFrame(read_json_lines('./torob/torob-search-data_v1.jsonl', n_lines=200000))\n",
    "search_query.head()"
   ]
  },
  {
   "cell_type": "code",
   "execution_count": null,
   "metadata": {},
   "outputs": [],
   "source": [
    "## get unique queries\n",
    "# unique_queries = search_query['raw_query'].unique()"
   ]
  },
  {
   "cell_type": "code",
   "execution_count": 7,
   "metadata": {},
   "outputs": [
    {
     "name": "stderr",
     "output_type": "stream",
     "text": [
      "100%|██████████| 200000/200000 [00:00<00:00, 1265788.47it/s]\n"
     ]
    }
   ],
   "source": [
    "queries = dict()\n",
    "for search in tqdm(search_query.to_dict('records')):\n",
    "    query = search[\"raw_query\"]\n",
    "    if query not in queries:\n",
    "        queries[query] = 1\n",
    "    else:\n",
    "        queries[query] += 1"
   ]
  },
  {
   "cell_type": "code",
   "execution_count": 8,
   "metadata": {},
   "outputs": [],
   "source": [
    "sorted_queries = sorted(queries.items(), key=lambda x: x[1], reverse=False)"
   ]
  },
  {
   "cell_type": "code",
   "execution_count": 10,
   "metadata": {},
   "outputs": [],
   "source": [
    "df = pd.DataFrame.from_dict(queries, orient='index', columns=['count'])\n",
    "df.sort_values(by=['count'], inplace=True, ascending=True)"
   ]
  },
  {
   "cell_type": "code",
   "execution_count": 23,
   "metadata": {},
   "outputs": [],
   "source": [
    "temp = df.copy(deep=True)"
   ]
  },
  {
   "cell_type": "code",
   "execution_count": 24,
   "metadata": {},
   "outputs": [],
   "source": [
    "# drop count more than 1\n",
    "temp = temp[temp['count'] == 1]"
   ]
  },
  {
   "cell_type": "code",
   "execution_count": 31,
   "metadata": {},
   "outputs": [
    {
     "data": {
      "text/html": [
       "<div>\n",
       "<style scoped>\n",
       "    .dataframe tbody tr th:only-of-type {\n",
       "        vertical-align: middle;\n",
       "    }\n",
       "\n",
       "    .dataframe tbody tr th {\n",
       "        vertical-align: top;\n",
       "    }\n",
       "\n",
       "    .dataframe thead th {\n",
       "        text-align: right;\n",
       "    }\n",
       "</style>\n",
       "<table border=\"1\" class=\"dataframe\">\n",
       "  <thead>\n",
       "    <tr style=\"text-align: right;\">\n",
       "      <th></th>\n",
       "      <th>count</th>\n",
       "    </tr>\n",
       "  </thead>\n",
       "  <tbody>\n",
       "    <tr>\n",
       "      <th>قفل دیسکی</th>\n",
       "      <td>1</td>\n",
       "    </tr>\n",
       "    <tr>\n",
       "      <th>ساعت ضد اب زنانه</th>\n",
       "      <td>1</td>\n",
       "    </tr>\n",
       "    <tr>\n",
       "      <th>cute</th>\n",
       "      <td>1</td>\n",
       "    </tr>\n",
       "    <tr>\n",
       "      <th>کبف مدرسه پسرانه</th>\n",
       "      <td>1</td>\n",
       "    </tr>\n",
       "    <tr>\n",
       "      <th>خانه هوشمند</th>\n",
       "      <td>1</td>\n",
       "    </tr>\n",
       "    <tr>\n",
       "      <th>...</th>\n",
       "      <td>...</td>\n",
       "    </tr>\n",
       "    <tr>\n",
       "      <th>وایتبرد</th>\n",
       "      <td>1</td>\n",
       "    </tr>\n",
       "    <tr>\n",
       "      <th>فلش ۱۶ گیگابایت</th>\n",
       "      <td>1</td>\n",
       "    </tr>\n",
       "    <tr>\n",
       "      <th>قهوه عربیکا</th>\n",
       "      <td>1</td>\n",
       "    </tr>\n",
       "    <tr>\n",
       "      <th>لباسشویی پاکشوما  8</th>\n",
       "      <td>1</td>\n",
       "    </tr>\n",
       "    <tr>\n",
       "      <th>کرکره برقی</th>\n",
       "      <td>1</td>\n",
       "    </tr>\n",
       "  </tbody>\n",
       "</table>\n",
       "<p>37274 rows × 1 columns</p>\n",
       "</div>"
      ],
      "text/plain": [
       "                     count\n",
       "قفل دیسکی                1\n",
       "ساعت ضد اب زنانه         1\n",
       "cute                     1\n",
       "کبف مدرسه پسرانه         1\n",
       "خانه هوشمند              1\n",
       "...                    ...\n",
       "وایتبرد                  1\n",
       "فلش ۱۶ گیگابایت          1\n",
       "قهوه عربیکا              1\n",
       "لباسشویی پاکشوما  8      1\n",
       " کرکره برقی              1\n",
       "\n",
       "[37274 rows x 1 columns]"
      ]
     },
     "execution_count": 31,
     "metadata": {},
     "output_type": "execute_result"
    }
   ],
   "source": [
    "# number of queries with count 1\n",
    "# df[df['count'] == 1].shape[0]\n",
    "temp"
   ]
  },
  {
   "cell_type": "code",
   "execution_count": 40,
   "metadata": {},
   "outputs": [],
   "source": [
    "import csv\n",
    "import logging"
   ]
  },
  {
   "cell_type": "code",
   "execution_count": null,
   "metadata": {},
   "outputs": [],
   "source": [
    "# with open(\"retrive.txt\", \"w\", encoding=\"utf-8\", newline=\"\") as csvfile:\n",
    "\n",
    "#     wrtiter = csv.writer(csvfile)\n",
    "#     wrtiter.writerow(\n",
    "#         [\n",
    "#             \"query\",\n",
    "#             \"spell_checked\",\n",
    "#             \"title_text\",\n",
    "#         ]\n",
    "#     )\n",
    "\n",
    "#     for query in tqdm(temp.index):\n",
    "\n",
    "#         driver.get(\"https://torob.com/search/?query=\" + query)\n",
    "        \n",
    "#         # print(f\"Query>>>>>> {query} <<<<<<\")\n",
    "\n",
    "#         check_spell = driver.find_elements(\"xpath\", \"//p[contains(@class, 'black_p')]\")\n",
    "\n",
    "#         torob_spell_check = False\n",
    "#         corrected_form = None\n",
    "#         for text in check_spell:\n",
    "#             extracted_text = text.get_attribute(\"innerText\")\n",
    "#             if extracted_text.startswith(\"جستجو غلط‌گیری شد:\"):\n",
    "#                 torob_spell_check = True\n",
    "#                 # logging.warning(f\"\\033[92m{extracted_text}\\033[0m\")\n",
    "#                 corrected_query = re.search(r\"جستجو غلط‌گیری شد: (.*)\", extracted_text).group(1)\n",
    "#                 # logging.warning(f\"\\033[92m Corrected Query: {corrected_query}\\033[0m\")\n",
    "#                 corrected_form = corrected_query\n",
    "#             else:\n",
    "#                 corrected_form = None\n",
    "\n",
    "#         names = driver.find_elements(\"xpath\", \"//h2[contains(@class,'jsx-fa8eb4b3b47a1d18')]\")\n",
    "#         name_list = []\n",
    "#         for name in names:\n",
    "#             extracted_name = name.get_attribute(\"innerText\")\n",
    "#             # print(extracted_name)\n",
    "#             name_list.append(extracted_name)\n",
    "\n",
    "#         title_text = '\\n'.join(name_list)\n",
    "\n",
    "#         # retrive_dict = dict()\n",
    "#         # retrive_dict['query'] = query\n",
    "#         # retrive_dict['spell_check'] = corrected_form\n",
    "#         # retrive_dict['products_text'] = title_text\n",
    "    \n",
    "#         wrtiter.writerow(\n",
    "#             [\n",
    "#                 query,\n",
    "#                 corrected_form,\n",
    "#                 title_text,\n",
    "#             ]\n",
    "#         )\n",
    "\n",
    "#     retrive_list.append(retrive_dict)"
   ]
  },
  {
   "cell_type": "code",
   "execution_count": 53,
   "metadata": {},
   "outputs": [],
   "source": [
    "df = pd.read_csv('./spell_check/output_4.csv', index_col=0)\n",
    "temp = df.copy(deep=True)"
   ]
  },
  {
   "cell_type": "code",
   "execution_count": null,
   "metadata": {},
   "outputs": [],
   "source": [
    "temp"
   ]
  },
  {
   "cell_type": "code",
   "execution_count": 55,
   "metadata": {},
   "outputs": [
    {
     "name": "stderr",
     "output_type": "stream",
     "text": [
      "  0%|          | 156/48357 [06:58<35:53:15,  2.68s/it] \n"
     ]
    },
    {
     "ename": "KeyboardInterrupt",
     "evalue": "",
     "output_type": "error",
     "traceback": [
      "\u001b[1;31m---------------------------------------------------------------------------\u001b[0m",
      "\u001b[1;31mKeyboardInterrupt\u001b[0m                         Traceback (most recent call last)",
      "Cell \u001b[1;32mIn[55], line 14\u001b[0m\n\u001b[0;32m      4\u001b[0m wrtiter\u001b[39m.\u001b[39mwriterow(\n\u001b[0;32m      5\u001b[0m     [\n\u001b[0;32m      6\u001b[0m         \u001b[39m\"\u001b[39m\u001b[39mquery\u001b[39m\u001b[39m\"\u001b[39m,\n\u001b[1;32m   (...)\u001b[0m\n\u001b[0;32m      9\u001b[0m     ]\n\u001b[0;32m     10\u001b[0m )\n\u001b[0;32m     12\u001b[0m \u001b[39mfor\u001b[39;00m query \u001b[39min\u001b[39;00m tqdm(temp\u001b[39m.\u001b[39mindex):\n\u001b[1;32m---> 14\u001b[0m     driver\u001b[39m.\u001b[39;49mget(\u001b[39m\"\u001b[39;49m\u001b[39mhttps://torob.com/search/?query=\u001b[39;49m\u001b[39m\"\u001b[39;49m \u001b[39m+\u001b[39;49m query)\n\u001b[0;32m     16\u001b[0m     check_spell \u001b[39m=\u001b[39m driver\u001b[39m.\u001b[39mfind_elements(\u001b[39m\"\u001b[39m\u001b[39mxpath\u001b[39m\u001b[39m\"\u001b[39m, \u001b[39m\"\u001b[39m\u001b[39m//p[contains(@class, \u001b[39m\u001b[39m'\u001b[39m\u001b[39mblack_p\u001b[39m\u001b[39m'\u001b[39m\u001b[39m)]\u001b[39m\u001b[39m\"\u001b[39m)\n\u001b[0;32m     18\u001b[0m     torob_spell_check \u001b[39m=\u001b[39m \u001b[39mFalse\u001b[39;00m\n",
      "File \u001b[1;32mc:\\Users\\amkyp\\anaconda3\\envs\\torob\\lib\\site-packages\\selenium\\webdriver\\remote\\webdriver.py:449\u001b[0m, in \u001b[0;36mWebDriver.get\u001b[1;34m(self, url)\u001b[0m\n\u001b[0;32m    447\u001b[0m \u001b[39mdef\u001b[39;00m \u001b[39mget\u001b[39m(\u001b[39mself\u001b[39m, url: \u001b[39mstr\u001b[39m) \u001b[39m-\u001b[39m\u001b[39m>\u001b[39m \u001b[39mNone\u001b[39;00m:\n\u001b[0;32m    448\u001b[0m \u001b[39m    \u001b[39m\u001b[39m\"\"\"Loads a web page in the current browser session.\"\"\"\u001b[39;00m\n\u001b[1;32m--> 449\u001b[0m     \u001b[39mself\u001b[39;49m\u001b[39m.\u001b[39;49mexecute(Command\u001b[39m.\u001b[39;49mGET, {\u001b[39m\"\u001b[39;49m\u001b[39murl\u001b[39;49m\u001b[39m\"\u001b[39;49m: url})\n",
      "File \u001b[1;32mc:\\Users\\amkyp\\anaconda3\\envs\\torob\\lib\\site-packages\\selenium\\webdriver\\remote\\webdriver.py:438\u001b[0m, in \u001b[0;36mWebDriver.execute\u001b[1;34m(self, driver_command, params)\u001b[0m\n\u001b[0;32m    435\u001b[0m     \u001b[39melif\u001b[39;00m \u001b[39m\"\u001b[39m\u001b[39msessionId\u001b[39m\u001b[39m\"\u001b[39m \u001b[39mnot\u001b[39;00m \u001b[39min\u001b[39;00m params:\n\u001b[0;32m    436\u001b[0m         params[\u001b[39m\"\u001b[39m\u001b[39msessionId\u001b[39m\u001b[39m\"\u001b[39m] \u001b[39m=\u001b[39m \u001b[39mself\u001b[39m\u001b[39m.\u001b[39msession_id\n\u001b[1;32m--> 438\u001b[0m response \u001b[39m=\u001b[39m \u001b[39mself\u001b[39;49m\u001b[39m.\u001b[39;49mcommand_executor\u001b[39m.\u001b[39;49mexecute(driver_command, params)\n\u001b[0;32m    439\u001b[0m \u001b[39mif\u001b[39;00m response:\n\u001b[0;32m    440\u001b[0m     \u001b[39mself\u001b[39m\u001b[39m.\u001b[39merror_handler\u001b[39m.\u001b[39mcheck_response(response)\n",
      "File \u001b[1;32mc:\\Users\\amkyp\\anaconda3\\envs\\torob\\lib\\site-packages\\selenium\\webdriver\\remote\\remote_connection.py:290\u001b[0m, in \u001b[0;36mRemoteConnection.execute\u001b[1;34m(self, command, params)\u001b[0m\n\u001b[0;32m    288\u001b[0m data \u001b[39m=\u001b[39m utils\u001b[39m.\u001b[39mdump_json(params)\n\u001b[0;32m    289\u001b[0m url \u001b[39m=\u001b[39m \u001b[39mf\u001b[39m\u001b[39m\"\u001b[39m\u001b[39m{\u001b[39;00m\u001b[39mself\u001b[39m\u001b[39m.\u001b[39m_url\u001b[39m}\u001b[39;00m\u001b[39m{\u001b[39;00mpath\u001b[39m}\u001b[39;00m\u001b[39m\"\u001b[39m\n\u001b[1;32m--> 290\u001b[0m \u001b[39mreturn\u001b[39;00m \u001b[39mself\u001b[39;49m\u001b[39m.\u001b[39;49m_request(command_info[\u001b[39m0\u001b[39;49m], url, body\u001b[39m=\u001b[39;49mdata)\n",
      "File \u001b[1;32mc:\\Users\\amkyp\\anaconda3\\envs\\torob\\lib\\site-packages\\selenium\\webdriver\\remote\\remote_connection.py:311\u001b[0m, in \u001b[0;36mRemoteConnection._request\u001b[1;34m(self, method, url, body)\u001b[0m\n\u001b[0;32m    308\u001b[0m     body \u001b[39m=\u001b[39m \u001b[39mNone\u001b[39;00m\n\u001b[0;32m    310\u001b[0m \u001b[39mif\u001b[39;00m \u001b[39mself\u001b[39m\u001b[39m.\u001b[39mkeep_alive:\n\u001b[1;32m--> 311\u001b[0m     response \u001b[39m=\u001b[39m \u001b[39mself\u001b[39;49m\u001b[39m.\u001b[39;49m_conn\u001b[39m.\u001b[39;49mrequest(method, url, body\u001b[39m=\u001b[39;49mbody, headers\u001b[39m=\u001b[39;49mheaders)\n\u001b[0;32m    312\u001b[0m     statuscode \u001b[39m=\u001b[39m response\u001b[39m.\u001b[39mstatus\n\u001b[0;32m    313\u001b[0m \u001b[39melse\u001b[39;00m:\n",
      "File \u001b[1;32mc:\\Users\\amkyp\\anaconda3\\envs\\torob\\lib\\site-packages\\urllib3\\request.py:78\u001b[0m, in \u001b[0;36mRequestMethods.request\u001b[1;34m(self, method, url, fields, headers, **urlopen_kw)\u001b[0m\n\u001b[0;32m     74\u001b[0m     \u001b[39mreturn\u001b[39;00m \u001b[39mself\u001b[39m\u001b[39m.\u001b[39mrequest_encode_url(\n\u001b[0;32m     75\u001b[0m         method, url, fields\u001b[39m=\u001b[39mfields, headers\u001b[39m=\u001b[39mheaders, \u001b[39m*\u001b[39m\u001b[39m*\u001b[39murlopen_kw\n\u001b[0;32m     76\u001b[0m     )\n\u001b[0;32m     77\u001b[0m \u001b[39melse\u001b[39;00m:\n\u001b[1;32m---> 78\u001b[0m     \u001b[39mreturn\u001b[39;00m \u001b[39mself\u001b[39m\u001b[39m.\u001b[39mrequest_encode_body(\n\u001b[0;32m     79\u001b[0m         method, url, fields\u001b[39m=\u001b[39mfields, headers\u001b[39m=\u001b[39mheaders, \u001b[39m*\u001b[39m\u001b[39m*\u001b[39murlopen_kw\n\u001b[0;32m     80\u001b[0m     )\n",
      "File \u001b[1;32mc:\\Users\\amkyp\\anaconda3\\envs\\torob\\lib\\site-packages\\urllib3\\request.py:170\u001b[0m, in \u001b[0;36mRequestMethods.request_encode_body\u001b[1;34m(self, method, url, fields, headers, encode_multipart, multipart_boundary, **urlopen_kw)\u001b[0m\n\u001b[0;32m    167\u001b[0m extra_kw[\u001b[39m\"\u001b[39m\u001b[39mheaders\u001b[39m\u001b[39m\"\u001b[39m]\u001b[39m.\u001b[39mupdate(headers)\n\u001b[0;32m    168\u001b[0m extra_kw\u001b[39m.\u001b[39mupdate(urlopen_kw)\n\u001b[1;32m--> 170\u001b[0m \u001b[39mreturn\u001b[39;00m \u001b[39mself\u001b[39m\u001b[39m.\u001b[39murlopen(method, url, \u001b[39m*\u001b[39m\u001b[39m*\u001b[39mextra_kw)\n",
      "File \u001b[1;32mc:\\Users\\amkyp\\anaconda3\\envs\\torob\\lib\\site-packages\\urllib3\\poolmanager.py:376\u001b[0m, in \u001b[0;36mPoolManager.urlopen\u001b[1;34m(self, method, url, redirect, **kw)\u001b[0m\n\u001b[0;32m    374\u001b[0m     response \u001b[39m=\u001b[39m conn\u001b[39m.\u001b[39murlopen(method, url, \u001b[39m*\u001b[39m\u001b[39m*\u001b[39mkw)\n\u001b[0;32m    375\u001b[0m \u001b[39melse\u001b[39;00m:\n\u001b[1;32m--> 376\u001b[0m     response \u001b[39m=\u001b[39m conn\u001b[39m.\u001b[39murlopen(method, u\u001b[39m.\u001b[39mrequest_uri, \u001b[39m*\u001b[39m\u001b[39m*\u001b[39mkw)\n\u001b[0;32m    378\u001b[0m redirect_location \u001b[39m=\u001b[39m redirect \u001b[39mand\u001b[39;00m response\u001b[39m.\u001b[39mget_redirect_location()\n\u001b[0;32m    379\u001b[0m \u001b[39mif\u001b[39;00m \u001b[39mnot\u001b[39;00m redirect_location:\n",
      "File \u001b[1;32mc:\\Users\\amkyp\\anaconda3\\envs\\torob\\lib\\site-packages\\urllib3\\connectionpool.py:703\u001b[0m, in \u001b[0;36mHTTPConnectionPool.urlopen\u001b[1;34m(self, method, url, body, headers, retries, redirect, assert_same_host, timeout, pool_timeout, release_conn, chunked, body_pos, **response_kw)\u001b[0m\n\u001b[0;32m    700\u001b[0m     \u001b[39mself\u001b[39m\u001b[39m.\u001b[39m_prepare_proxy(conn)\n\u001b[0;32m    702\u001b[0m \u001b[39m# Make the request on the httplib connection object.\u001b[39;00m\n\u001b[1;32m--> 703\u001b[0m httplib_response \u001b[39m=\u001b[39m \u001b[39mself\u001b[39;49m\u001b[39m.\u001b[39;49m_make_request(\n\u001b[0;32m    704\u001b[0m     conn,\n\u001b[0;32m    705\u001b[0m     method,\n\u001b[0;32m    706\u001b[0m     url,\n\u001b[0;32m    707\u001b[0m     timeout\u001b[39m=\u001b[39;49mtimeout_obj,\n\u001b[0;32m    708\u001b[0m     body\u001b[39m=\u001b[39;49mbody,\n\u001b[0;32m    709\u001b[0m     headers\u001b[39m=\u001b[39;49mheaders,\n\u001b[0;32m    710\u001b[0m     chunked\u001b[39m=\u001b[39;49mchunked,\n\u001b[0;32m    711\u001b[0m )\n\u001b[0;32m    713\u001b[0m \u001b[39m# If we're going to release the connection in ``finally:``, then\u001b[39;00m\n\u001b[0;32m    714\u001b[0m \u001b[39m# the response doesn't need to know about the connection. Otherwise\u001b[39;00m\n\u001b[0;32m    715\u001b[0m \u001b[39m# it will also try to release it and we'll have a double-release\u001b[39;00m\n\u001b[0;32m    716\u001b[0m \u001b[39m# mess.\u001b[39;00m\n\u001b[0;32m    717\u001b[0m response_conn \u001b[39m=\u001b[39m conn \u001b[39mif\u001b[39;00m \u001b[39mnot\u001b[39;00m release_conn \u001b[39melse\u001b[39;00m \u001b[39mNone\u001b[39;00m\n",
      "File \u001b[1;32mc:\\Users\\amkyp\\anaconda3\\envs\\torob\\lib\\site-packages\\urllib3\\connectionpool.py:449\u001b[0m, in \u001b[0;36mHTTPConnectionPool._make_request\u001b[1;34m(self, conn, method, url, timeout, chunked, **httplib_request_kw)\u001b[0m\n\u001b[0;32m    444\u001b[0m             httplib_response \u001b[39m=\u001b[39m conn\u001b[39m.\u001b[39mgetresponse()\n\u001b[0;32m    445\u001b[0m         \u001b[39mexcept\u001b[39;00m \u001b[39mBaseException\u001b[39;00m \u001b[39mas\u001b[39;00m e:\n\u001b[0;32m    446\u001b[0m             \u001b[39m# Remove the TypeError from the exception chain in\u001b[39;00m\n\u001b[0;32m    447\u001b[0m             \u001b[39m# Python 3 (including for exceptions like SystemExit).\u001b[39;00m\n\u001b[0;32m    448\u001b[0m             \u001b[39m# Otherwise it looks like a bug in the code.\u001b[39;00m\n\u001b[1;32m--> 449\u001b[0m             six\u001b[39m.\u001b[39;49mraise_from(e, \u001b[39mNone\u001b[39;49;00m)\n\u001b[0;32m    450\u001b[0m \u001b[39mexcept\u001b[39;00m (SocketTimeout, BaseSSLError, SocketError) \u001b[39mas\u001b[39;00m e:\n\u001b[0;32m    451\u001b[0m     \u001b[39mself\u001b[39m\u001b[39m.\u001b[39m_raise_timeout(err\u001b[39m=\u001b[39me, url\u001b[39m=\u001b[39murl, timeout_value\u001b[39m=\u001b[39mread_timeout)\n",
      "File \u001b[1;32m<string>:3\u001b[0m, in \u001b[0;36mraise_from\u001b[1;34m(value, from_value)\u001b[0m\n",
      "File \u001b[1;32mc:\\Users\\amkyp\\anaconda3\\envs\\torob\\lib\\site-packages\\urllib3\\connectionpool.py:444\u001b[0m, in \u001b[0;36mHTTPConnectionPool._make_request\u001b[1;34m(self, conn, method, url, timeout, chunked, **httplib_request_kw)\u001b[0m\n\u001b[0;32m    441\u001b[0m \u001b[39mexcept\u001b[39;00m \u001b[39mTypeError\u001b[39;00m:\n\u001b[0;32m    442\u001b[0m     \u001b[39m# Python 3\u001b[39;00m\n\u001b[0;32m    443\u001b[0m     \u001b[39mtry\u001b[39;00m:\n\u001b[1;32m--> 444\u001b[0m         httplib_response \u001b[39m=\u001b[39m conn\u001b[39m.\u001b[39;49mgetresponse()\n\u001b[0;32m    445\u001b[0m     \u001b[39mexcept\u001b[39;00m \u001b[39mBaseException\u001b[39;00m \u001b[39mas\u001b[39;00m e:\n\u001b[0;32m    446\u001b[0m         \u001b[39m# Remove the TypeError from the exception chain in\u001b[39;00m\n\u001b[0;32m    447\u001b[0m         \u001b[39m# Python 3 (including for exceptions like SystemExit).\u001b[39;00m\n\u001b[0;32m    448\u001b[0m         \u001b[39m# Otherwise it looks like a bug in the code.\u001b[39;00m\n\u001b[0;32m    449\u001b[0m         six\u001b[39m.\u001b[39mraise_from(e, \u001b[39mNone\u001b[39;00m)\n",
      "File \u001b[1;32mc:\\Users\\amkyp\\anaconda3\\envs\\torob\\lib\\http\\client.py:1374\u001b[0m, in \u001b[0;36mHTTPConnection.getresponse\u001b[1;34m(self)\u001b[0m\n\u001b[0;32m   1372\u001b[0m \u001b[39mtry\u001b[39;00m:\n\u001b[0;32m   1373\u001b[0m     \u001b[39mtry\u001b[39;00m:\n\u001b[1;32m-> 1374\u001b[0m         response\u001b[39m.\u001b[39;49mbegin()\n\u001b[0;32m   1375\u001b[0m     \u001b[39mexcept\u001b[39;00m \u001b[39mConnectionError\u001b[39;00m:\n\u001b[0;32m   1376\u001b[0m         \u001b[39mself\u001b[39m\u001b[39m.\u001b[39mclose()\n",
      "File \u001b[1;32mc:\\Users\\amkyp\\anaconda3\\envs\\torob\\lib\\http\\client.py:318\u001b[0m, in \u001b[0;36mHTTPResponse.begin\u001b[1;34m(self)\u001b[0m\n\u001b[0;32m    316\u001b[0m \u001b[39m# read until we get a non-100 response\u001b[39;00m\n\u001b[0;32m    317\u001b[0m \u001b[39mwhile\u001b[39;00m \u001b[39mTrue\u001b[39;00m:\n\u001b[1;32m--> 318\u001b[0m     version, status, reason \u001b[39m=\u001b[39m \u001b[39mself\u001b[39;49m\u001b[39m.\u001b[39;49m_read_status()\n\u001b[0;32m    319\u001b[0m     \u001b[39mif\u001b[39;00m status \u001b[39m!=\u001b[39m CONTINUE:\n\u001b[0;32m    320\u001b[0m         \u001b[39mbreak\u001b[39;00m\n",
      "File \u001b[1;32mc:\\Users\\amkyp\\anaconda3\\envs\\torob\\lib\\http\\client.py:279\u001b[0m, in \u001b[0;36mHTTPResponse._read_status\u001b[1;34m(self)\u001b[0m\n\u001b[0;32m    278\u001b[0m \u001b[39mdef\u001b[39;00m \u001b[39m_read_status\u001b[39m(\u001b[39mself\u001b[39m):\n\u001b[1;32m--> 279\u001b[0m     line \u001b[39m=\u001b[39m \u001b[39mstr\u001b[39m(\u001b[39mself\u001b[39;49m\u001b[39m.\u001b[39;49mfp\u001b[39m.\u001b[39;49mreadline(_MAXLINE \u001b[39m+\u001b[39;49m \u001b[39m1\u001b[39;49m), \u001b[39m\"\u001b[39m\u001b[39miso-8859-1\u001b[39m\u001b[39m\"\u001b[39m)\n\u001b[0;32m    280\u001b[0m     \u001b[39mif\u001b[39;00m \u001b[39mlen\u001b[39m(line) \u001b[39m>\u001b[39m _MAXLINE:\n\u001b[0;32m    281\u001b[0m         \u001b[39mraise\u001b[39;00m LineTooLong(\u001b[39m\"\u001b[39m\u001b[39mstatus line\u001b[39m\u001b[39m\"\u001b[39m)\n",
      "File \u001b[1;32mc:\\Users\\amkyp\\anaconda3\\envs\\torob\\lib\\socket.py:705\u001b[0m, in \u001b[0;36mSocketIO.readinto\u001b[1;34m(self, b)\u001b[0m\n\u001b[0;32m    703\u001b[0m \u001b[39mwhile\u001b[39;00m \u001b[39mTrue\u001b[39;00m:\n\u001b[0;32m    704\u001b[0m     \u001b[39mtry\u001b[39;00m:\n\u001b[1;32m--> 705\u001b[0m         \u001b[39mreturn\u001b[39;00m \u001b[39mself\u001b[39;49m\u001b[39m.\u001b[39;49m_sock\u001b[39m.\u001b[39;49mrecv_into(b)\n\u001b[0;32m    706\u001b[0m     \u001b[39mexcept\u001b[39;00m timeout:\n\u001b[0;32m    707\u001b[0m         \u001b[39mself\u001b[39m\u001b[39m.\u001b[39m_timeout_occurred \u001b[39m=\u001b[39m \u001b[39mTrue\u001b[39;00m\n",
      "\u001b[1;31mKeyboardInterrupt\u001b[0m: "
     ]
    }
   ],
   "source": [
    "with open(\"retrive_part_5.txt\", \"w\", encoding=\"utf-8\", newline=\"\") as csvfile:\n",
    "\n",
    "    wrtiter = csv.writer(csvfile)\n",
    "    wrtiter.writerow(\n",
    "        [\n",
    "            \"query\",\n",
    "            \"spell_checked\",\n",
    "            \"title_text\",\n",
    "        ]\n",
    "    )\n",
    "\n",
    "    for query in tqdm(temp.index):\n",
    "\n",
    "        driver.get(\"https://torob.com/search/?query=\" + query)\n",
    "\n",
    "        check_spell = driver.find_elements(\"xpath\", \"//p[contains(@class, 'black_p')]\")\n",
    "\n",
    "        torob_spell_check = False\n",
    "        corrected_form = None\n",
    "        for text in check_spell:\n",
    "            extracted_text = text.get_attribute(\"innerText\")\n",
    "            if extracted_text.startswith(\"جستجو غلط‌گیری شد:\"):\n",
    "                torob_spell_check = True\n",
    "                corrected_query = re.search(\n",
    "                    r\"جستجو غلط‌گیری شد: (.*)\", extracted_text\n",
    "                ).group(1)\n",
    "                corrected_form = corrected_query\n",
    "            else:\n",
    "                corrected_form = None\n",
    "\n",
    "        names = driver.find_elements(\n",
    "            \"xpath\", \"//h2[contains(@class,'jsx-fa8eb4b3b47a1d18')]\"\n",
    "        )\n",
    "        name_list = []\n",
    "        for name in names:\n",
    "            extracted_name = name.get_attribute(\"innerText\")\n",
    "            name_list.append(extracted_name)\n",
    "\n",
    "        title_text = \"\\n\".join(name_list)\n",
    "\n",
    "        wrtiter.writerow(\n",
    "            [\n",
    "                query,\n",
    "                corrected_form,\n",
    "                title_text,\n",
    "            ]\n",
    "        )\n"
   ]
  },
  {
   "cell_type": "code",
   "execution_count": 43,
   "metadata": {},
   "outputs": [],
   "source": [
    "df = pd.read_csv('retrive_part_5.txt')"
   ]
  },
  {
   "cell_type": "code",
   "execution_count": 47,
   "metadata": {},
   "outputs": [
    {
     "name": "stdout",
     "output_type": "stream",
     "text": [
      "قفل دیسکی آژیر دار CAP ا قفل دیسک موتور آژیردار\n",
      "قفل دیسکی ردلاین مدل 064 مناسب انواع موتور سیکلت\n",
      "قفل دیسکی ردلاین مدل 074 مناسب انواع موتور سیکلت شهری\n",
      "قفل دیسک ردلاین مدل RE210 ا قفل دیسکی موتور سنگین ردلاین\n",
      "قفل دیسکی ردلاین مدل RE420\n",
      "قفل دیسکی موتور سیکلت آلفا\n",
      "قفل دیسکی موتورسیکلت مدل abous\n",
      "قفل کتابی کهن کلید دیسکی\n",
      "دوشاخ جلو دوچرخه برند Olympia کمک فنر جلو دوچرخه مدل قفل کن دار تنظیمی سایز 27.5 قابلیت دیسکی و ویبریک Olympia Fork Bicycle Size 27.5\n",
      "دوشاخ جلو دوچرخه برند Olympia مدل قفل کن دار تنظیمی سایز 29 قابلیت دیسکی و ویبریک Olympia Fork Bicycle Size 29\n",
      "دوشاخ دوچرخه کوهستان برند OLYMPIA قفل شو سایز 29 دیسکی و ویبریک {کمک فنر جلو دوچرخه }OLYMPIA MTB Bicycle Fork Size 29\n",
      "قفل دیسکی ویندی مدل boot\n",
      "قفل دیسکی موتورسیکلت آلفا / ALFA\n",
      "قفل دیسکی ردلاین مدل RE420\n",
      "قفل دیسکی ردلاین مدل RE420 سبز فسفری\n",
      "قفل دیسکی موتور سیکلت آنلاین مدل02RD\n",
      "قفل دیسکی موتور سیکلت آنلاین مدل02BK\n",
      "قفل دیسکی موتور سیکلت آنلاین مدل02BL\n",
      "قفل دیسکی موتور سیکلت ویژن مدل DX21-BLK آژیر دار\n",
      "قفل دیسکی ردلاین مدل RE420\n",
      "قفل دیسکی موتور سیکلت ویژن مدل DX11\n",
      "قفل دیسکی موتور سیکلت مدل ردلاین RE410\n",
      "قفل دیسکی موتور سیکلت ویژن مدل DX21-ORN\n",
      "قفل دیسکی موتور سیکلت مدل GH 9001\n"
     ]
    }
   ],
   "source": [
    "print(df.iloc[0].title_text)"
   ]
  },
  {
   "cell_type": "code",
   "execution_count": 39,
   "metadata": {},
   "outputs": [
    {
     "data": {
      "text/plain": [
       "[{'query': 'قفل دیسکی',\n",
       "  'spell_check': None,\n",
       "  'products_text': 'قفل دیسکی آژیر دار CAP ا قفل دیسک موتور آژیردار\\nقفل دیسکی ردلاین مدل 064 مناسب انواع موتور سیکلت\\nقفل دیسکی ردلاین مدل 074 مناسب انواع موتور سیکلت شهری\\nقفل دیسک ردلاین مدل RE210 ا قفل دیسکی موتور سنگین ردلاین\\nقفل دیسکی ردلاین مدل RE420\\nقفل دیسکی موتور سیکلت آلفا\\nقفل دیسکی موتورسیکلت مدل abous\\nقفل کتابی کهن کلید دیسکی\\nدوشاخ جلو دوچرخه برند Olympia کمک فنر جلو دوچرخه مدل قفل کن دار تنظیمی سایز 27.5 قابلیت دیسکی و ویبریک Olympia Fork Bicycle Size 27.5\\nدوشاخ جلو دوچرخه برند Olympia مدل قفل کن دار تنظیمی سایز 29 قابلیت دیسکی و ویبریک Olympia Fork Bicycle Size 29\\nدوشاخ دوچرخه کوهستان برند OLYMPIA قفل شو سایز 29 دیسکی و ویبریک {کمک فنر جلو دوچرخه }OLYMPIA MTB Bicycle Fork Size 29\\nقفل دیسکی ویندی مدل boot\\nقفل دیسکی موتورسیکلت آلفا / ALFA\\nقفل دیسکی ردلاین مدل RE420\\nقفل دیسکی ردلاین مدل RE420 سبز فسفری\\nقفل دیسکی موتور سیکلت آنلاین مدل02RD\\nقفل دیسکی موتور سیکلت آنلاین مدل02BK\\nقفل دیسکی موتور سیکلت آنلاین مدل02BL\\nقفل دیسکی موتور سیکلت ویژن مدل DX21-BLK آژیر دار\\nقفل دیسکی ردلاین مدل RE420\\nقفل دیسکی موتور سیکلت مدل ردلاین RE410\\nقفل دیسکی موتور سیکلت ویژن مدل DX11\\nقفل دیسکی موتور سیکلت ویژن مدل DX21-ORN\\nقفل دیسکی موتور سیکلت مدل GH 9001'},\n",
       " {'query': 'ساعت ضد اب زنانه',\n",
       "  'spell_check': None,\n",
       "  'products_text': 'ساعت مچی ال ای دی بچگانه عروسکی ا Children Doll Wrist LED Watch\\nشناسه : #49498 نام : ست سیتیزن مردانه و زنانه باهم بند دو رنگ استیل نقره ای طلایی صفحه سفید دارای تقویم کیفیت عالی ضد آب در حد دست شستن تک موتور طرح سه موتوره دارای گارانتی و جعبه مخصوص ساعت دارای تقویم خااااص جنس : بند استیل رنگ بندی : ست بند استیل دو رنگ نقره ای طلایی صفحه سفید - سایز ها : set - قیمت ست زنانه و مردانه باهم : ۹۹۵۰۰۰ تومان\\nساعت مچی SKMEI کوارتز زنانه ساعت مچی زنانه مد مچی مچی ضد آب ساعت مچی زنانه استیل ضد زنگ ساعت لوکس W1854-BN\\nساعت مچی کاسیو مدل LTP-VT01L-1B\\nساعت 9063 - 34 میلی متری - بنفش - مشبک استیل مشبک استیل شیک ضد آب زنانه با بند کوارتز\\nساعت مچی کاسیو CASIO سری BABY-G کد BGA-260FL-7ADR ا ساعت مچی کاسیو CASIO سری BABY-G کد BGA-260FL-7ADR | نیک گالری\\nساعت کاسیو ست زنانه مردانه تقویم دار موتور ژاپن رنگ ثابت استیل ضد اب طرح ۳موتور قیمت درج شده قیمت ست میباشد هردوباهم ارسال رایگان همراه با جعبه\\nساعت زنانه آنالوگ ضد آب Les Stars K1118211872 - 32 میلی متر - نقره ای/طلا\\nساعت زنانه کوارتز مد و چرم شیک ضد آب 5629\\nساعت سیتیزن vip ست زنانه مردانه موتور ژاپن تقویم دار رنگ ثابت استیل ضد اب اصلی ساعت سنگین طرح ۳موتور بند دوقفل قیمت درج شده قیمت ست میباشد هردوباهم ارسال رایگان همراه با جعبه\\nساعت کوارتز 9042 مشبک مشبک استیل ساده زنانه ضد آب\\nساعت 9066 - 36 میلی متری - رزگلد - مشبک مشبک مغناطیسی استیل ضد زنگ زنانه ضد آب شیک\\nساعت زنانه آنالوگ ضد آب W0571L1 - 39 میلی متر - آبی\\nساعت زنانه کوارتز مد و چرم شیک ضد آب 5629\\nساعت مچی کاسیو CASIO کد BGA-260FL-4ADR ا ساعت مچی کاسیو CASIO کد BGA-260FL-4ADR | نیک گالری\\nساعت زنانه کوارتز مد و چرم شیک ضد آب 5629\\nساعت دیجیتال زنانه Casio Baby-G، ضد آب، BGD-560cr-4dr، صورتی\\nساعت آنالوگ زنانه ضد آب MX476 - 32 میلی متر - نقره ای/طلا\\nG-Shock آنالوگ-دیجیتال ساعت زنانه ضد آب GMA-S120MF-7A1DR سفید\\nساعت زنانه کوارتز مد و چرم شیک ضد آب 5629\\nساعت زنانه فلزی ضد آب کوارتز 9047 - 33 میلی متر - طلا\\nساعت زنانه کوارتز مد و چرم شیک ضد آب 5629\\nساعت زنانه آنالوگ ضد آب 9031 - 35 میلی متر - مشکی\\nساعت زنانه آنالوگ ضد آب شهر زنانه K2G23126 - 31 میلی متر - نقره ای'},\n",
       " {'query': 'cute',\n",
       "  'spell_check': None,\n",
       "  'products_text': 'جامدادی طرح دختر کیوت\\nست پک استیکر فانتزی www.nilegallery.shop xm-501 gb6675.4-2014 8.8x11cm student cute stickers pack code 20-443\\nدفتر پشمالو کیوت\\nتقویم رومیزی کیوت\\n+ویدیو مدادتراش فانتزی طرح خرس cute bear pencil sharpener code 92-65 www.nilegallery.shop\\nکلیپس فلزی فانتزی [گیره کاغذ] بسته 3 عددی cute paper iron clips code 92-57 [www.ahwazonline.com]\\nاستیک نوت طرح حیوانات کیوت\\nست پک استیکر فانتزی www.nilegallery.shop yzyuezhen pvc obs-1985 student cute stickers pack code 11-404\\nدفتر کیوت پالت\\nپاکن فانتزی رنگی رنگی ژله ای مجموعه ۶ عددی qihao zuo zuo cute school eraser package code GH-8518\\nروان نویس فانتزی طرحcute (2022)\\nخودکار سیلیکونی فانتزی مدل یونیکورن | اسب تکشاخ cute stationery unicorn pen item code 2-634 www.nilegallery.shop\\nروان نویس اسکویشی\\nخودکار فانتزی یونیکورن [اسب تکشاخ] قطرنوشتاری 0.7 میلیمتر cute unicorn student ink pen [www.nilegallery.shop]\\nتراول ماگ استیکردار دوطرفه نی دار | کیوت ترین هدیه!\\nدفتر نقطه ای A5سری کیوت پالت برگ بولت ژورنال\\nدفتر یادداشت حیوانات کیوت\\nکلیپس فلزی فانتزی [گیره کاغذ] بسته 3 عددی cute paper iron clips code ci9087 [nilegallery.shop]\\nجامدادی فانتزی زیپ دار cute pencilcase code 92-63 | ahwazonline.com\\nاستیک نوت [کاغذ یادداشت چسبدار] یونیکورن [www.nilegallery.shop] unicorn cute stick note code 2-468\\nاستیک نوت بندانگشتی کیوت\\nخودکارژله ای فانتزی کوکی طرح سبزیجات خوشمزه قطرنوشتاری 0.5 میلیمتر kuki cute blue pen code kk-7906 www.nilegallery.shop\\nروان نویس فانتزی مدل میوه (Fruit Cute)\\nدفتر برنامه ریزی سویل طرح سگ های\\u200cکیوت'},\n",
       " {'query': 'کبف مدرسه پسرانه',\n",
       "  'spell_check': 'کیف مدرسه پسرانه',\n",
       "  'products_text': 'کیف مدرسه پسرانه طرح سگ های نگهبان مدل 46\\nکیف مدرسه پسرانه طرح بچه رئیس مدل 48\\nکیف مدرسه پسرانه\\nکیف مدرسه پسرانه طرح مرد عنکبوتی(اسپایدرمن) مدل 25\\nکیف مدرسه 16 اینچی Sonic Hedgehog برای پسرانه دخترانه کوله پشتی کودک کیف مسافرتی لپ تاپ با ظرفیت بزرگ\\nکیف مدرسه پسرانه خارجی 009 ا boy code 009\\nکیف مدرسه پسرانه تولید انحصار وانسی پلاس ( پسرانه )\\nکیف مدرسه پسرانه کد 0020 boy ا backpack boy 0020\\nکوله پشتی اسپرت (کیف مدرسه دخترانه و پسرانه) Sport کد 4385 و 4384 ا backpack code0041\\nکیف مدرسه پسرانه طرح بت من مدل 23\\nکیف مدرسه طرح دار برجسته دخترانه و پسرانه onesee-2022\\nکیف مدرسه پسرانه کد 008 boy ا code 008\\nکیف مدرسه پسرانه\\nکیف مدرسه با طرح حاج قاسم سلیمانی\\nکیف مدرسه سه تکه چرخدار خارجی بارسلونا\\nکیف مدرسه بچگانه 12-4154\\nکوله پشتی مدرسه پسرانه کد 2416\\nکیف مدرسه (کوله پشتی اسپرت) مشکی ا chde 003\\nکیف مدرسه bts (کوله پشتی بی تی اس bts ) کد 0022 ا packback code 0022\\nکوله پشتی مدرسه پسرانه طرح اسپایدرمن مدل 13\\nکوله پشتی مدرسه پرزیدنت President 377-17\\nکوله پشتی مدرسه سبک لیموس Unicorn با کیف ناهار برای دختران، کودکان نوپا، کودکان و نوجوانان\\nکوله پشتی (کیف مدرسه) دخترانه فانتزی جامدادی دار خارجی کد 0039 backpack girl ا backpack girl code 0039\\nکوله پشتی مدرسه با کیف ناهار سبک وزن دخترانه (صورتی)'},\n",
       " {'query': 'خانه هوشمند',\n",
       "  'spell_check': None,\n",
       "  'products_text': 'پکیج خانه هوشمند اقتصادی گلدور\\nپکیج طلایی | Golden خانه هوشمند\\nتلویزیون ال ای دی هوشمند دوو 55 اینچ مدل DSL-55S7200EU ا Daewoo Smart LED TV model DSL-55S7200EU\\nتلویزیون ال ای دی هوشمند دوو مدل DSL-65S8000EU سایز 65 اینچ ا Daewoo DSL-65S8000EU Smart LED TV 65 Inch\\nپکیج خانه هوشمند شماره یک تویا\\nپکیج برنزی bronze خانه هوشمند\\nتلویزیون ال ای دی هوشمند اسنوا 75 اینچ مدل SSD-75SK15100U ا snowa 75 inch smart led tv model ssd-75sk15100u\\nپکیج نقره ای | Silver خانه هوشمند\\nتلویزیون ال ای دی دوو 50 اینچ مدل DLE-50M6000EUM ا Daewoo 50-inch LED TV model DLE-50M6000EUM\\nتلویزیون ال ای دی هوشمند دوو مدل DSL-55K5900UL سایز 55 اینچ ا Daewoo DSL-55K5900UL LED TV 55 Inch\\nتلویزیون ال ای دی دوو مدل DSL-65K5700UL ا Daewoo LED size 65 inch DSL-65K5700UL smart\\nچند راهی ۳ خانه برق ارلدام Earldom ES-SC02 با کابل ۱٫۸ متری + شارژر USB\\nمحافظ برق صوتی وتصویری اسمارت 6خانه\\nطرح سایت خانه هوشمند\\nانیمیشن لوتی (وکتور متحرک) خانه هوشمند\\nمدیریت بهینه تقاضای انرژی با حضور خودرویبرقی در سیستم اتوماسیون انرژی خانه هوشمند\\nپنینی میکر تک خانه کوچک اسمارت\\nگسترش دهنده خانه هوشمند جیک لینک، ناحیه ای slave\\nسنسور چک درب خانه سویچ بات SwitchBot Contact Sensor\\nپنینی میکر ( اسنک ساز ) تک خانه بزرگ مدل اسمارت\\nسنسور نشت گاز خانه هوشمند جیک لینک\\nپنینی میکر دو خانه اسمارت\\nوافل ساز بلژیکی مربعی اسمارت (SMART) مدل SM-W-3\\nمحافظ برق 6 خانه با کابل 3 متری اسمارت مدل 2030'},\n",
       " {'query': 'مانتو رنانه',\n",
       "  'spell_check': 'مانتو زنانه',\n",
       "  'products_text': 'مانتو مجلسي بلند زنانه سايز بزرگ رنگ مشکي،پشت مانتو زيپ مخفي دارد(ارسال رايگان)\\nمانتو زنانه تابستانه بلند کد 1766\\nمانتو مدل ریتا\\nمانتو زنانه مجلسي ژاکارد مشکي شهزاد\\nمانتو زنانه مجلسی بلند مشکی میس سان\\nمانتو زنانه مدل ماکسی یقه مردانه کد 1765\\nمانتو زنانه ماکسی بلند کد 447\\nخرید مانتو بلند آبی زنانه جدید مدل جدید مانتو دخترانه اسپرت\\nمانتو شلوار زنانه اداری کد 1330\\nخرید مانتو ژاکارد آبی مانتو مجلسی ژاکارد شیک زنانه\\nمانتو زنانه مجلسي حرير مدل النا مشکي سارا حميدي\\nمانتو زنانه Jinyuanمدل کوتاه تک دکمه کد E43115\\nمانتو کتی بلند زنانه\\nخرید کت مجلسی جدید زنانه مانتو کتی شیک دخترانه\\nمانتو زنانه مدل لی زیپی کد 7kalamashop\\nمانتو مجلسی زنانه مشکی گلدار Perana\\nمانتو مجلسی مشکی ۲ مدل آشوب خرید مانتو مجلسی مشکی زنانه جدید\\nمانتو کتی زنانه نوار دار طرح پوست ماری\\nمانتو زنانه ابروبادی سایز بزرگ 1673\\nمانتو زنانه مجلسي بلند مشکي آيلار\\nمانتو بهاره کد 656219\\nمانتو کتی لینن زنانه کد 790\\nمانتو کتی زنانه\\nمانتو زنانه بلند آستين چين دار طوسي Sora'}]"
      ]
     },
     "execution_count": 39,
     "metadata": {},
     "output_type": "execute_result"
    }
   ],
   "source": [
    "retrive_list"
   ]
  },
  {
   "cell_type": "code",
   "execution_count": null,
   "metadata": {},
   "outputs": [],
   "source": [
    "# %%reset -f"
   ]
  },
  {
   "cell_type": "code",
   "execution_count": null,
   "metadata": {},
   "outputs": [],
   "source": [
    "search_data = JsonFileIterator(\"./torob/test-offline-data_v1.jsonl\")\n",
    "queries = dict()\n",
    "for search in tqdm(search_data):\n",
    "    query = search[\"raw_query\"]\n",
    "    if query not in queries:\n",
    "        queries[query] = 1\n",
    "    else:\n",
    "        queries[query] += 1\n",
    "# queries = sorted(queries.items(), key=lambda x: x[1], reverse=True)"
   ]
  },
  {
   "cell_type": "code",
   "execution_count": null,
   "metadata": {},
   "outputs": [],
   "source": [
    "queries"
   ]
  },
  {
   "cell_type": "code",
   "execution_count": null,
   "metadata": {},
   "outputs": [],
   "source": [
    "# cocnvert to numpy array\n",
    "import numpy as np"
   ]
  },
  {
   "cell_type": "code",
   "execution_count": null,
   "metadata": {},
   "outputs": [],
   "source": [
    "queries = np.array(list(queries.items()))"
   ]
  },
  {
   "cell_type": "code",
   "execution_count": null,
   "metadata": {},
   "outputs": [],
   "source": [
    "query = \"وشی نوت 10  سامسونگ\""
   ]
  },
  {
   "cell_type": "code",
   "execution_count": null,
   "metadata": {},
   "outputs": [],
   "source": [
    "driver.get(\"https://torob.com/search/?query=\" + query)"
   ]
  },
  {
   "cell_type": "code",
   "execution_count": null,
   "metadata": {},
   "outputs": [],
   "source": [
    "import logging\n",
    "logging.warning('Noice!')"
   ]
  },
  {
   "cell_type": "code",
   "execution_count": null,
   "metadata": {},
   "outputs": [],
   "source": [
    "driver.get(\"https://google.com/search?q=\" + query)"
   ]
  },
  {
   "cell_type": "markdown",
   "metadata": {},
   "source": []
  },
  {
   "cell_type": "code",
   "execution_count": null,
   "metadata": {},
   "outputs": [],
   "source": [
    "check_spell = driver.find_elements(\"xpath\", \"//p[contains(@class, 'black_p')]\")\n",
    "torob_spell_check = False\n",
    "corrected_form = None\n",
    "for text in check_spell:\n",
    "    extracted_text = text.get_attribute(\"innerText\")\n",
    "    if extracted_text.startswith(\"جستجو غلط‌گیری شد:\"):\n",
    "        torob_spell_check = True\n",
    "        logging.warning(f\"\\033[92m{extracted_text}\\033[0m\")\n",
    "        corrected_query = re.search(r\"جستجو غلط‌گیری شد: (.*)\", extracted_text).group(1)\n",
    "        logging.warning(f\"\\033[92m Corrected Query: {corrected_query}\\033[0m\")\n",
    "        corrected_form = corrected_query\n",
    "\n",
    "names = driver.find_elements(\"xpath\", \"//h2[contains(@class,'jsx-fa8eb4b3b47a1d18')]\")\n",
    "name_list = []\n",
    "for name in names:\n",
    "    extracted_name = name.get_attribute(\"innerText\")\n",
    "    print(extracted_name)\n",
    "    name_list.append(extracted_name)\n",
    "\n",
    "# print in red\n",
    "print(f\"\\033[91m{'='*50}\\033[0m\")\n",
    "print(f\"length of name_list: {len(name_list)}\")\n",
    "print(f\"\\033[91m{'='*50}\\033[0m\")"
   ]
  },
  {
   "cell_type": "code",
   "execution_count": null,
   "metadata": {},
   "outputs": [],
   "source": [
    "print(query)\n",
    "query_in_results = 0\n",
    "for name in name_list:\n",
    "    if query in name:\n",
    "        query_in_results += 1\n",
    "\n",
    "if torob_spell_check or query_in_results < 5:\n",
    "    print(f\"query «{query}» is not in at least 5 of the results\")"
   ]
  },
  {
   "cell_type": "code",
   "execution_count": null,
   "metadata": {},
   "outputs": [],
   "source": [
    "bi_gram_words = set()\n",
    "for title in name_list:\n",
    "    list_of_words = title.split()\n",
    "    for i in range(len(list_of_words) - 1):\n",
    "        bi_gram_words.add(list_of_words[i] + \" \" + list_of_words[i + 1])\n",
    "\n",
    "bi_gram_words"
   ]
  },
  {
   "cell_type": "code",
   "execution_count": null,
   "metadata": {},
   "outputs": [],
   "source": [
    "all_words = set([word for name in name_list for word in name.split()])\n",
    "all_words = all_words.union(bi_gram_words)\n"
   ]
  },
  {
   "cell_type": "code",
   "execution_count": null,
   "metadata": {},
   "outputs": [],
   "source": [
    "# from parsivar import SpellCheck\n",
    "# spell_checker = SpellCheck()\n",
    "# corrected_text = spell_checker.spell_corrector(\"your text here\")"
   ]
  },
  {
   "cell_type": "code",
   "execution_count": null,
   "metadata": {},
   "outputs": [],
   "source": [
    "def MED(sent_01, sent_02):\n",
    "    n = len(sent_01)\n",
    "    m = len(sent_02)\n",
    "\n",
    "    matrix = [[i + j for j in range(m + 1)] for i in range(n + 1)]\n",
    "\n",
    "    for i in range(1, n + 1):\n",
    "        for j in range(1, m + 1):\n",
    "            if sent_01[i - 1] == sent_02[j - 1]:\n",
    "                d = 0\n",
    "            else:\n",
    "                d = 1\n",
    "\n",
    "            matrix[i][j] = min(\n",
    "                matrix[i - 1][j] + 1, matrix[i][j - 1] + 1, matrix[i - 1][j - 1] + d\n",
    "            )\n",
    "\n",
    "    distance_score = matrix[n][m]\n",
    "\n",
    "    return distance_score"
   ]
  },
  {
   "cell_type": "code",
   "execution_count": null,
   "metadata": {},
   "outputs": [],
   "source": []
  },
  {
   "cell_type": "code",
   "execution_count": null,
   "metadata": {},
   "outputs": [],
   "source": [
    "candidate_words = []\n",
    "for word in all_words:\n",
    "    if MED(query, word) <= 3:\n",
    "        candidate_words.append((word, MED(query, word)))\n",
    "\n",
    "candidate_words.sort(key=lambda x: x[1])\n",
    "candidate_words"
   ]
  },
  {
   "cell_type": "code",
   "execution_count": null,
   "metadata": {},
   "outputs": [],
   "source": [
    "query_in_results = sum([1 for name in name_list if query in name])\n",
    "query_in_results"
   ]
  },
  {
   "cell_type": "code",
   "execution_count": null,
   "metadata": {},
   "outputs": [],
   "source": [
    "# minimum edit distance\n"
   ]
  }
 ],
 "metadata": {
  "kernelspec": {
   "display_name": "torob",
   "language": "python",
   "name": "python3"
  },
  "language_info": {
   "codemirror_mode": {
    "name": "ipython",
    "version": 3
   },
   "file_extension": ".py",
   "mimetype": "text/x-python",
   "name": "python",
   "nbconvert_exporter": "python",
   "pygments_lexer": "ipython3",
   "version": "3.10.9"
  },
  "orig_nbformat": 4
 },
 "nbformat": 4,
 "nbformat_minor": 2
}
