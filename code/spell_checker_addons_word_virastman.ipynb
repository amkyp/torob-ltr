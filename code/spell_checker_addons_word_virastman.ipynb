{
 "cells": [
  {
   "cell_type": "code",
   "execution_count": 1,
   "metadata": {},
   "outputs": [],
   "source": [
    "# !pip install -U pywin32\n",
    "# !pip install --upgrade pip"
   ]
  },
  {
   "cell_type": "code",
   "execution_count": 6,
   "metadata": {},
   "outputs": [],
   "source": [
    "import win32com.client as win32\n",
    "\n",
    "word = win32.gencache.EnsureDispatch(\"Word.Application\")\n",
    "addins = word.Application.COMAddIns"
   ]
  },
  {
   "cell_type": "code",
   "execution_count": 7,
   "metadata": {},
   "outputs": [
    {
     "name": "stdout",
     "output_type": "stream",
     "text": [
      "EndNote Cite While You Write\n",
      "OneNote Linked Notes Add-In\n",
      "OneNote Notes about Word Documents\n",
      "Virastman\n",
      "Foxit PDF Creator COM Add-in\n"
     ]
    }
   ],
   "source": [
    "for addin in addins:\n",
    "    print(addin.Description)"
   ]
  },
  {
   "cell_type": "code",
   "execution_count": 8,
   "metadata": {},
   "outputs": [],
   "source": [
    "import csv"
   ]
  },
  {
   "cell_type": "code",
   "execution_count": null,
   "metadata": {},
   "outputs": [],
   "source": [
    "word.DisplayAlerts = 0\n",
    "word.Visible = 0\n",
    "\n",
    "# open a new blank word document\n",
    "doc = word.Documents.Add()\n",
    "\n",
    "# read the contents of the csv file and copy them to the word document\n",
    "csv_file_path = \"C:/path/to/your/file.csv\"\n",
    "\n",
    "with open(csv_file_path, \"r\") as csv_file:\n",
    "    csv_reader = csv.reader(csv_file, delimiter=\",\")\n",
    "    for row in csv_reader:\n",
    "        doc.Content.Text += \", \".join(row) + \"\\n\"\n",
    "\n",
    "viraster = \n"
   ]
  }
 ],
 "metadata": {
  "kernelspec": {
   "display_name": "wsd_bert",
   "language": "python",
   "name": "python3"
  },
  "language_info": {
   "codemirror_mode": {
    "name": "ipython",
    "version": 3
   },
   "file_extension": ".py",
   "mimetype": "text/x-python",
   "name": "python",
   "nbconvert_exporter": "python",
   "pygments_lexer": "ipython3",
   "version": "3.10.8"
  },
  "orig_nbformat": 4
 },
 "nbformat": 4,
 "nbformat_minor": 2
}
