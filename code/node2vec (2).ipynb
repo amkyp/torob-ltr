{
 "cells": [
  {
   "cell_type": "code",
   "execution_count": 1,
   "metadata": {
    "id": "bakMm2hNUBl-"
   },
   "outputs": [],
   "source": [
    "# %%capture\n",
    "# AUTO_RECONNECT = True #@param {type:\"boolean\"}\n",
    "\n",
    "# if AUTO_RECONNECT:\n",
    "#   import IPython\n",
    "#   from google.colab import output\n",
    "\n",
    "#   display(IPython.display.Javascript('''\n",
    "#   function ClickConnect(){\n",
    "#     btn = document.querySelector(\"colab-connect-button\")\n",
    "#     if (btn != null){\n",
    "#       console.log(\"Click colab-connect-button\"); \n",
    "#       btn.click() \n",
    "#       }\n",
    "    \n",
    "#     btn = document.getElementById('ok')\n",
    "#     if (btn != null){\n",
    "#       console.log(\"Click reconnect\"); \n",
    "#       btn.click() \n",
    "#       }\n",
    "#     }\n",
    "    \n",
    "#   setInterval(ClickConnect,60000)\n",
    "#   '''))"
   ]
  },
  {
   "cell_type": "code",
   "execution_count": 2,
   "metadata": {
    "colab": {
     "base_uri": "https://localhost:8080/"
    },
    "id": "aOjshlmW7_s4",
    "outputId": "7bb7d19e-009c-4eed-d704-c527d3426571"
   },
   "outputs": [
    {
     "name": "stderr",
     "output_type": "stream",
     "text": [
      "/home/pc/anaconda3/envs/tor/lib/python3.7/site-packages/ipykernel_launcher.py:12: DeprecationWarning: `set_matplotlib_formats` is deprecated since IPython 7.23, directly use `matplotlib_inline.backend_inline.set_matplotlib_formats()`\n",
      "  if sys.path[0] == \"\":\n",
      "Global seed set to 42\n"
     ]
    },
    {
     "name": "stdout",
     "output_type": "stream",
     "text": [
      "cuda:0\n"
     ]
    }
   ],
   "source": [
    "## Standard libraries\n",
    "import os\n",
    "import json\n",
    "import math\n",
    "import numpy as np \n",
    "import time\n",
    "\n",
    "## Imports for plotting\n",
    "import matplotlib.pyplot as plt\n",
    "%matplotlib inline \n",
    "from IPython.display import set_matplotlib_formats\n",
    "set_matplotlib_formats('svg', 'pdf') # For export\n",
    "from matplotlib.colors import to_rgb\n",
    "import matplotlib\n",
    "matplotlib.rcParams['lines.linewidth'] = 2.0\n",
    "import seaborn as sns\n",
    "sns.reset_orig()\n",
    "sns.set()\n",
    "\n",
    "## Progress bar\n",
    "from tqdm.notebook import tqdm\n",
    "\n",
    "## PyTorch\n",
    "import torch\n",
    "import torch.nn as nn\n",
    "import torch.nn.functional as F\n",
    "import torch.utils.data as data\n",
    "import torch.optim as optim\n",
    "# Torchvision\n",
    "import torchvision\n",
    "from torchvision.datasets import CIFAR10\n",
    "from torchvision import transforms\n",
    "# PyTorch Lightning\n",
    "try:\n",
    "    import pytorch_lightning as pl\n",
    "except ModuleNotFoundError: # Google Colab does not have PyTorch Lightning installed by default. Hence, we do it here if necessary\n",
    "    !pip install --quiet pytorch-lightning>=1.4\n",
    "    import pytorch_lightning as pl\n",
    "from pytorch_lightning.callbacks import LearningRateMonitor, ModelCheckpoint\n",
    "\n",
    "# Path to the folder where the datasets are/should be downloaded (e.g. CIFAR10)\n",
    "DATASET_PATH = \"../data\"\n",
    "# Path to the folder where the pretrained models are saved\n",
    "CHECKPOINT_PATH = \"../saved_models/tutorial7\"\n",
    "\n",
    "# Setting the seed\n",
    "pl.seed_everything(42)\n",
    "\n",
    "# Ensure that all operations are deterministic on GPU (if used) for reproducibility\n",
    "torch.backends.cudnn.deterministic = True\n",
    "torch.backends.cudnn.benchmark = False\n",
    "\n",
    "device = torch.device(\"cuda:0\") if torch.cuda.is_available() else torch.device(\"cpu\")\n",
    "print(device)"
   ]
  },
  {
   "cell_type": "code",
   "execution_count": 3,
   "metadata": {
    "colab": {
     "base_uri": "https://localhost:8080/"
    },
    "id": "dzkmDU5d7_s_",
    "outputId": "d168983c-7bf5-40c5-ba00-013c556aab98"
   },
   "outputs": [
    {
     "name": "stdout",
     "output_type": "stream",
     "text": [
      "Downloading https://raw.githubusercontent.com/phlippe/saved_models/main/tutorial7/NodeLevelMLP.ckpt...\n",
      "Downloading https://raw.githubusercontent.com/phlippe/saved_models/main/tutorial7/NodeLevelGNN.ckpt...\n",
      "Downloading https://raw.githubusercontent.com/phlippe/saved_models/main/tutorial7/GraphLevelGraphConv.ckpt...\n"
     ]
    }
   ],
   "source": [
    "# import urllib.request\n",
    "# from urllib.error import HTTPError\n",
    "# # Github URL where saved models are stored for this tutorial\n",
    "# base_url = \"https://raw.githubusercontent.com/phlippe/saved_models/main/tutorial7/\"\n",
    "# # Files to download\n",
    "# pretrained_files = [\"NodeLevelMLP.ckpt\", \"NodeLevelGNN.ckpt\", \"GraphLevelGraphConv.ckpt\"]\n",
    "\n",
    "# # Create checkpoint path if it doesn't exist yet\n",
    "# os.makedirs(CHECKPOINT_PATH, exist_ok=True)\n",
    "\n",
    "# # For each file, check whether it already exists. If not, try downloading it.\n",
    "# for file_name in pretrained_files:\n",
    "#     file_path = os.path.join(CHECKPOINT_PATH, file_name)\n",
    "#     if \"/\" in file_name:\n",
    "#         os.makedirs(file_path.rsplit(\"/\",1)[0], exist_ok=True)\n",
    "#     if not os.path.isfile(file_path):\n",
    "#         file_url = base_url + file_name\n",
    "#         print(f\"Downloading {file_url}...\")\n",
    "#         try:\n",
    "#             urllib.request.urlretrieve(file_url, file_path)\n",
    "#         except HTTPError as e:\n",
    "#             print(\"Something went wrong. Please try to download the file from the GDrive folder, or contact the author with the full output including the following error:\\n\", e)"
   ]
  },
  {
   "cell_type": "code",
   "execution_count": 3,
   "metadata": {
    "colab": {
     "base_uri": "https://localhost:8080/",
     "height": 1000
    },
    "id": "ASBcGMj67_tM",
    "outputId": "1ffbf722-9c2e-4e47-b0f3-dbaab555e397"
   },
   "outputs": [
    {
     "name": "stdout",
     "output_type": "stream",
     "text": [
      "Looking in links: https://pytorch-geometric.com/whl/torch-1.13.1+cu117.html\n",
      "Collecting torch-scatter\n",
      "  Downloading https://data.pyg.org/whl/torch-1.13.0%2Bcu117/torch_scatter-2.1.0%2Bpt113cu117-cp37-cp37m-linux_x86_64.whl (10.1 MB)\n",
      "\u001b[2K     \u001b[38;2;114;156;31m━━━━━━━━━━━━━━━━━━━━━━━━━━━━━━━━━━━━━━━\u001b[0m \u001b[32m10.1/10.1 MB\u001b[0m \u001b[31m832.5 kB/s\u001b[0m eta \u001b[36m0:00:00\u001b[0mm eta \u001b[36m0:00:01\u001b[0m[36m0:00:01\u001b[0m\n",
      "\u001b[?25hInstalling collected packages: torch-scatter\n",
      "Successfully installed torch-scatter-2.1.0+pt113cu117\n",
      "Looking in links: https://pytorch-geometric.com/whl/torch-1.13.1+cu117.html\n",
      "Collecting torch-sparse\n",
      "  Downloading https://data.pyg.org/whl/torch-1.13.0%2Bcu117/torch_sparse-0.6.16%2Bpt113cu117-cp37-cp37m-linux_x86_64.whl (4.7 MB)\n",
      "\u001b[2K     \u001b[38;2;114;156;31m━━━━━━━━━━━━━━━━━━━━━━━━━━━━━━━━━━━━━━━━\u001b[0m \u001b[32m4.7/4.7 MB\u001b[0m \u001b[31m849.7 kB/s\u001b[0m eta \u001b[36m0:00:00\u001b[0mm eta \u001b[36m0:00:01\u001b[0m[36m0:00:01\u001b[0m\n",
      "\u001b[?25hRequirement already satisfied: scipy in /home/pc/anaconda3/envs/tor/lib/python3.7/site-packages (from torch-sparse) (1.7.3)\n",
      "Requirement already satisfied: numpy<1.23.0,>=1.16.5 in /home/pc/anaconda3/envs/tor/lib/python3.7/site-packages (from scipy->torch-sparse) (1.21.6)\n",
      "Installing collected packages: torch-sparse\n",
      "Successfully installed torch-sparse-0.6.16+pt113cu117\n",
      "Looking in links: https://pytorch-geometric.com/whl/torch-1.13.1+cu117.html\n",
      "Collecting torch-cluster\n",
      "  Downloading https://data.pyg.org/whl/torch-1.13.0%2Bcu117/torch_cluster-1.6.0%2Bpt113cu117-cp37-cp37m-linux_x86_64.whl (3.2 MB)\n",
      "\u001b[2K     \u001b[38;2;114;156;31m━━━━━━━━━━━━━━━━━━━━━━━━━━━━━━━━━━━━━━━━\u001b[0m \u001b[32m3.2/3.2 MB\u001b[0m \u001b[31m849.0 kB/s\u001b[0m eta \u001b[36m0:00:00\u001b[0mm eta \u001b[36m0:00:01\u001b[0m[36m0:00:01\u001b[0m\n",
      "\u001b[?25hRequirement already satisfied: scipy in /home/pc/anaconda3/envs/tor/lib/python3.7/site-packages (from torch-cluster) (1.7.3)\n",
      "Requirement already satisfied: numpy<1.23.0,>=1.16.5 in /home/pc/anaconda3/envs/tor/lib/python3.7/site-packages (from scipy->torch-cluster) (1.21.6)\n",
      "Installing collected packages: torch-cluster\n",
      "Successfully installed torch-cluster-1.6.0+pt113cu117\n",
      "Looking in links: https://pytorch-geometric.com/whl/torch-1.13.1+cu117.html\n",
      "Collecting torch-spline-conv\n",
      "  Downloading https://data.pyg.org/whl/torch-1.13.0%2Bcu117/torch_spline_conv-1.2.1%2Bpt113cu117-cp37-cp37m-linux_x86_64.whl (872 kB)\n",
      "\u001b[2K     \u001b[38;2;114;156;31m━━━━━━━━━━━━━━━━━━━━━━━━━━━━━━━━━━━━━\u001b[0m \u001b[32m872.9/872.9 kB\u001b[0m \u001b[31m489.0 kB/s\u001b[0m eta \u001b[36m0:00:00\u001b[0m[36m0:00:01\u001b[0m[36m0:00:01\u001b[0m:01\u001b[0m\n",
      "\u001b[?25hInstalling collected packages: torch-spline-conv\n",
      "Successfully installed torch-spline-conv-1.2.1+pt113cu117\n",
      "Collecting torch-geometric\n",
      "  Using cached torch_geometric-2.2.0.tar.gz (564 kB)\n",
      "  Preparing metadata (setup.py) ... \u001b[?25ldone\n",
      "\u001b[?25hRequirement already satisfied: tqdm in /home/pc/anaconda3/envs/tor/lib/python3.7/site-packages (from torch-geometric) (4.64.1)\n",
      "Requirement already satisfied: numpy in /home/pc/anaconda3/envs/tor/lib/python3.7/site-packages (from torch-geometric) (1.21.6)\n",
      "Requirement already satisfied: scipy in /home/pc/anaconda3/envs/tor/lib/python3.7/site-packages (from torch-geometric) (1.7.3)\n",
      "Requirement already satisfied: jinja2 in /home/pc/anaconda3/envs/tor/lib/python3.7/site-packages (from torch-geometric) (3.1.2)\n",
      "Requirement already satisfied: requests in /home/pc/anaconda3/envs/tor/lib/python3.7/site-packages (from torch-geometric) (2.28.2)\n",
      "Requirement already satisfied: pyparsing in /home/pc/anaconda3/envs/tor/lib/python3.7/site-packages (from torch-geometric) (3.0.9)\n",
      "Requirement already satisfied: scikit-learn in /home/pc/anaconda3/envs/tor/lib/python3.7/site-packages (from torch-geometric) (1.0.2)\n",
      "Requirement already satisfied: psutil>=5.8.0 in /home/pc/anaconda3/envs/tor/lib/python3.7/site-packages (from torch-geometric) (5.9.0)\n",
      "Requirement already satisfied: MarkupSafe>=2.0 in /home/pc/anaconda3/envs/tor/lib/python3.7/site-packages (from jinja2->torch-geometric) (2.1.2)\n",
      "Requirement already satisfied: charset-normalizer<4,>=2 in /home/pc/anaconda3/envs/tor/lib/python3.7/site-packages (from requests->torch-geometric) (3.0.1)\n",
      "Requirement already satisfied: idna<4,>=2.5 in /home/pc/anaconda3/envs/tor/lib/python3.7/site-packages (from requests->torch-geometric) (3.4)\n",
      "Requirement already satisfied: urllib3<1.27,>=1.21.1 in /home/pc/anaconda3/envs/tor/lib/python3.7/site-packages (from requests->torch-geometric) (1.26.14)\n",
      "Requirement already satisfied: certifi>=2017.4.17 in /home/pc/anaconda3/envs/tor/lib/python3.7/site-packages (from requests->torch-geometric) (2022.12.7)\n",
      "Requirement already satisfied: joblib>=0.11 in /home/pc/anaconda3/envs/tor/lib/python3.7/site-packages (from scikit-learn->torch-geometric) (1.1.1)\n",
      "Requirement already satisfied: threadpoolctl>=2.0.0 in /home/pc/anaconda3/envs/tor/lib/python3.7/site-packages (from scikit-learn->torch-geometric) (2.2.0)\n",
      "Building wheels for collected packages: torch-geometric\n",
      "  Building wheel for torch-geometric (setup.py) ... \u001b[?25ldone\n",
      "\u001b[?25h  Created wheel for torch-geometric: filename=torch_geometric-2.2.0-py3-none-any.whl size=773285 sha256=0633bb5f70c5574f404b6046f94bf9a8393776f21b32fca538758ddeb53accca\n",
      "  Stored in directory: /home/pc/.cache/pip/wheels/10/ac/4c/22ba1900c19bbc0e47b7eaa1e29e03f87fcef772f31aabe680\n",
      "Successfully built torch-geometric\n",
      "Installing collected packages: torch-geometric\n",
      "Successfully installed torch-geometric-2.2.0\n"
     ]
    }
   ],
   "source": [
    "# torch geometric\n",
    "try: \n",
    "    import torch_geometric\n",
    "except ModuleNotFoundError:\n",
    "    # Installing torch geometric packages with specific CUDA+PyTorch version. \n",
    "    # See https://pytorch-geometric.readthedocs.io/en/latest/notes/installation.html for details \n",
    "    TORCH = torch.__version__.split('+')[0]\n",
    "    CUDA = 'cu' + torch.version.cuda.replace('.','')\n",
    "\n",
    "    !pip install torch-scatter     -f https://pytorch-geometric.com/whl/torch-{TORCH}+{CUDA}.html\n",
    "    !pip install torch-sparse      -f https://pytorch-geometric.com/whl/torch-{TORCH}+{CUDA}.html\n",
    "    !pip install torch-cluster     -f https://pytorch-geometric.com/whl/torch-{TORCH}+{CUDA}.html\n",
    "    !pip install torch-spline-conv -f https://pytorch-geometric.com/whl/torch-{TORCH}+{CUDA}.html\n",
    "    !pip install torch-geometric \n",
    "    import torch_geometric\n",
    "import torch_geometric.nn as geom_nn\n",
    "import torch_geometric.data as geom_data"
   ]
  },
  {
   "cell_type": "code",
   "execution_count": 4,
   "metadata": {
    "colab": {
     "base_uri": "https://localhost:8080/"
    },
    "id": "VQwSuNICOdZX",
    "outputId": "5bf028ff-d922-4690-e027-088fb1123419"
   },
   "outputs": [
    {
     "name": "stdout",
     "output_type": "stream",
     "text": [
      "Requirement already satisfied: gdown in /home/pc/anaconda3/envs/tor/lib/python3.7/site-packages (4.6.4)\n",
      "Requirement already satisfied: beautifulsoup4 in /home/pc/anaconda3/envs/tor/lib/python3.7/site-packages (from gdown) (4.11.2)\n",
      "Requirement already satisfied: six in /home/pc/anaconda3/envs/tor/lib/python3.7/site-packages (from gdown) (1.16.0)\n",
      "Requirement already satisfied: requests[socks] in /home/pc/anaconda3/envs/tor/lib/python3.7/site-packages (from gdown) (2.28.2)\n",
      "Requirement already satisfied: filelock in /home/pc/anaconda3/envs/tor/lib/python3.7/site-packages (from gdown) (3.9.0)\n",
      "Requirement already satisfied: tqdm in /home/pc/anaconda3/envs/tor/lib/python3.7/site-packages (from gdown) (4.64.1)\n",
      "Requirement already satisfied: soupsieve>1.2 in /home/pc/anaconda3/envs/tor/lib/python3.7/site-packages (from beautifulsoup4->gdown) (2.4)\n",
      "Requirement already satisfied: charset-normalizer<4,>=2 in /home/pc/anaconda3/envs/tor/lib/python3.7/site-packages (from requests[socks]->gdown) (3.0.1)\n",
      "Requirement already satisfied: idna<4,>=2.5 in /home/pc/anaconda3/envs/tor/lib/python3.7/site-packages (from requests[socks]->gdown) (3.4)\n",
      "Requirement already satisfied: urllib3<1.27,>=1.21.1 in /home/pc/anaconda3/envs/tor/lib/python3.7/site-packages (from requests[socks]->gdown) (1.26.14)\n",
      "Requirement already satisfied: certifi>=2017.4.17 in /home/pc/anaconda3/envs/tor/lib/python3.7/site-packages (from requests[socks]->gdown) (2022.12.7)\n",
      "Requirement already satisfied: PySocks!=1.5.7,>=1.5.6 in /home/pc/anaconda3/envs/tor/lib/python3.7/site-packages (from requests[socks]->gdown) (1.7.1)\n"
     ]
    }
   ],
   "source": [
    "!pip install --upgrade --no-cache-dir gdown"
   ]
  },
  {
   "cell_type": "code",
   "execution_count": 6,
   "metadata": {
    "colab": {
     "base_uri": "https://localhost:8080/"
    },
    "id": "ghq9lR1iOTvW",
    "outputId": "0af765db-e56e-4f1d-9003-5e4b88d4bb47"
   },
   "outputs": [
    {
     "name": "stdout",
     "output_type": "stream",
     "text": [
      "Downloading...\n",
      "From: https://drive.google.com/uc?id=1f30APlPxmKuQHJW6xRFP1g7RZwc0f8nf\n",
      "To: /content/graph_data.zip\n",
      "100% 184M/184M [00:04<00:00, 38.8MB/s]\n"
     ]
    }
   ],
   "source": [
    "!gdown 1f30APlPxmKuQHJW6xRFP1g7RZwc0f8nf"
   ]
  },
  {
   "cell_type": "code",
   "execution_count": 7,
   "metadata": {
    "colab": {
     "base_uri": "https://localhost:8080/"
    },
    "id": "yvMqi9ZgOkwP",
    "outputId": "84ead2c9-74bc-4797-91df-8b2c56955861"
   },
   "outputs": [
    {
     "name": "stdout",
     "output_type": "stream",
     "text": [
      "Archive:  graph_data.zip\n",
      "  inflating: graph_data              \n"
     ]
    }
   ],
   "source": [
    "!unzip graph_data.zip"
   ]
  },
  {
   "cell_type": "code",
   "execution_count": 6,
   "metadata": {
    "id": "CZ9PdnnoPs6_"
   },
   "outputs": [],
   "source": [
    "import pickle"
   ]
  },
  {
   "cell_type": "code",
   "execution_count": 8,
   "metadata": {
    "id": "GgdQtzKhOnP_"
   },
   "outputs": [],
   "source": [
    "data = pickle.load(open('./data/graph_data', 'rb'))"
   ]
  },
  {
   "cell_type": "code",
   "execution_count": 9,
   "metadata": {
    "id": "SjczF1GaQKjk"
   },
   "outputs": [],
   "source": [
    "import pandas as pd\n",
    "import random"
   ]
  },
  {
   "cell_type": "code",
   "execution_count": 10,
   "metadata": {
    "id": "engbYPD9PyxN"
   },
   "outputs": [],
   "source": [
    "# sorted(data.items(), key=lambda x: random.random())[:5]"
   ]
  },
  {
   "cell_type": "code",
   "execution_count": 11,
   "metadata": {
    "colab": {
     "base_uri": "https://localhost:8080/"
    },
    "id": "0O2ZBmPFPyhw",
    "outputId": "87ea8599-ccea-4747-d0e6-ecb0a0439add"
   },
   "outputs": [
    {
     "data": {
      "text/plain": [
       "1815066"
      ]
     },
     "execution_count": 11,
     "metadata": {},
     "output_type": "execute_result"
    }
   ],
   "source": [
    "len(data['دوچرخه'])"
   ]
  },
  {
   "cell_type": "code",
   "execution_count": 12,
   "metadata": {
    "colab": {
     "base_uri": "https://localhost:8080/"
    },
    "id": "w4QqQknfUXtY",
    "outputId": "77f8f20e-109b-4a1e-84e9-20ea13a4b625"
   },
   "outputs": [
    {
     "data": {
      "text/plain": [
       "270099"
      ]
     },
     "execution_count": 12,
     "metadata": {},
     "output_type": "execute_result"
    }
   ],
   "source": [
    "len(data)"
   ]
  },
  {
   "cell_type": "code",
   "execution_count": null,
   "metadata": {
    "id": "o59ttrPyRiVn"
   },
   "outputs": [],
   "source": [
    "import numpy as np\n",
    "import networkx as nx\n",
    "from gensim.models import Word2Vec\n",
    "import torch\n",
    "from torch_geometric.data import Data\n",
    "from torch_geometric.nn import Node2Vec"
   ]
  },
  {
   "cell_type": "code",
   "execution_count": null,
   "metadata": {
    "id": "RFlSP6teRiKs"
   },
   "outputs": [],
   "source": [
    "queries = list(data.keys())\n",
    "products = list(set([product for query in data.values() for product in query]))\n",
    "query2id = {query: i for i, query in enumerate(queries)}\n",
    "product2id = {product: i for i, product in enumerate(products)}"
   ]
  },
  {
   "cell_type": "code",
   "execution_count": null,
   "metadata": {
    "id": "4DjoRno1RsvV"
   },
   "outputs": [],
   "source": [
    "edges = []\n",
    "for i, q1 in enumerate(queries):\n",
    "    for j, q2 in enumerate(queries):\n",
    "        if i != j:\n",
    "            common_products = set(data[q1]).intersection(set(data[q2]))\n",
    "            if len(common_products) > 50:\n",
    "                edges.append((i, j, len(common_products)))\n"
   ]
  },
  {
   "cell_type": "code",
   "execution_count": null,
   "metadata": {
    "id": "Q8-mnlyNSASv"
   },
   "outputs": [],
   "source": [
    "G = nx.Graph()\n",
    "G.add_nodes_from(queries)\n",
    "G.add_weighted_edges_from(edges)\n",
    "adj_matrix = np.zeros((len(queries), len(queries)))\n",
    "for i, query_i in enumerate(queries):\n",
    "    for j, query_j in enumerate(queries):\n",
    "        if G.has_edge(query_i, query_j):\n",
    "            adj_matrix[i][j] = G[query_i][query_j]['weight']"
   ]
  },
  {
   "cell_type": "code",
   "execution_count": null,
   "metadata": {
    "id": "wxn1EHtLUp4H"
   },
   "outputs": [],
   "source": [
    "print(G)"
   ]
  },
  {
   "cell_type": "code",
   "execution_count": null,
   "metadata": {
    "id": "Rn3VCRFQUpye"
   },
   "outputs": [],
   "source": [
    "# Step 3: Node2Vec Embedding\n",
    "edge_index = torch.tensor(np.array(G.edges()).T, dtype=torch.long)\n",
    "x = torch.tensor(np.eye(len(queries)), dtype=torch.float)\n",
    "data = Data(x=x, edge_index=edge_index)\n",
    "model = Node2Vec(data.edge_index, embedding_dim=128, walk_length=10,\n",
    "                 context_size=5, walks_per_node=10, num_negative_samples=1,\n",
    "                 p=1, q=1, sparse=True)\n",
    "loader = model.loader(batch_size=128, shuffle=True, num_workers=4)\n",
    "optimizer = torch.optim.SparseAdam(list(model.parameters()), lr=0.01)\n"
   ]
  },
  {
   "cell_type": "code",
   "execution_count": null,
   "metadata": {
    "id": "6mLQwq7MUppY"
   },
   "outputs": [],
   "source": [
    "# Get embeddings of queries\n",
    "model.train()\n",
    "for epoch in range(10):\n",
    "    for pos_rw, neg_rw in loader:\n",
    "        optimizer.zero_grad()\n",
    "        loss = model.loss(pos_rw.to(device), neg_rw.to(device))\n",
    "        loss.backward()\n",
    "        optimizer.step()\n",
    "    model.eval()\n",
    "    z = model()\n",
    "    model.train()\n",
    "\n",
    "query_embeddings = z.detach().numpy()[:len(queries)]"
   ]
  },
  {
   "cell_type": "code",
   "execution_count": null,
   "metadata": {
    "id": "x1012hQDU1Yl"
   },
   "outputs": [],
   "source": [
    "query_embeddings.shape"
   ]
  },
  {
   "cell_type": "code",
   "execution_count": null,
   "metadata": {
    "id": "pp_dclcnU4Hx"
   },
   "outputs": [],
   "source": [
    "from sklearn.cluster import KMeans\n",
    "from sklearn.metrics import silhouette_score\n",
    "\n",
    "# Cluster the queries using KMeans\n",
    "kmeans = KMeans(n_clusters=3, random_state=0).fit(query_embeddings)\n",
    "\n",
    "# Evaluate the clustering performance\n",
    "silhouette_avg = silhouette_score(query_embeddings, kmeans.labels_)\n",
    "print(f\"Silhouette Score: {silhouette_avg}\")\n"
   ]
  },
  {
   "cell_type": "code",
   "execution_count": null,
   "metadata": {
    "id": "QqkVfCjWkqKj"
   },
   "outputs": [],
   "source": [
    "# save node edge and graph into drive\n",
    "import pickle\n",
    "\n",
    "with open('edges.pkl', 'wb') as f:\n",
    "    pickle.dump(edges, f)\n",
    "\n",
    "with open('query2id.pkl', 'wb') as f:\n",
    "    pickle.dump(query2id, f)\n",
    "\n",
    "with open('product2id.pkl', 'wb') as f:\n",
    "    pickle.dump(product2id, f)\n",
    "\n",
    "with open('queries.pkl', 'wb') as f:\n",
    "    pickle.dump(queries, f)\n",
    "\n",
    "with open('products.pkl', 'wb') as f:\n",
    "    pickle.dump(products, f)"
   ]
  },
  {
   "cell_type": "code",
   "execution_count": null,
   "metadata": {
    "id": "sMDtRUnnuIIC"
   },
   "outputs": [],
   "source": [
    "# save node edge and graph into drive\n",
    "\n",
    "with open('adj_matrix', 'wb') as f:\n",
    "    pickle.dump(adj_matrix, f)\n",
    "\n",
    "with open('G.pkl', 'wb') as f:\n",
    "    pickle.dump(G, f)\n",
    "    "
   ]
  },
  {
   "cell_type": "code",
   "execution_count": null,
   "metadata": {
    "id": "YPypIBQ7uS9w"
   },
   "outputs": [],
   "source": []
  },
  {
   "cell_type": "code",
   "execution_count": 13,
   "metadata": {
    "id": "Z5PO2O9CuKFT"
   },
   "outputs": [],
   "source": [
    "import numpy as np\n",
    "import networkx as nx\n",
    "import torch\n",
    "from torch_geometric.data import Data\n",
    "from torch_geometric.nn import Node2Vec\n",
    "from scipy.sparse import lil_matrix"
   ]
  },
  {
   "cell_type": "code",
   "execution_count": 14,
   "metadata": {
    "id": "rGDiG--IQp6X"
   },
   "outputs": [],
   "source": [
    "queries = set(data.keys())\n",
    "products = set(product for query in data.values() for product in query)\n",
    "query2id = {query: i for i, query in enumerate(queries)}\n",
    "product2id = {product: i for i, product in enumerate(products)}"
   ]
  },
  {
   "cell_type": "code",
   "execution_count": 15,
   "metadata": {
    "id": "Hvq99JEVQrUP"
   },
   "outputs": [],
   "source": [
    "# Compute the product sets for each query\n",
    "query_products = {query2id[query]: set([product2id[product] for product in data[query]]) for query in queries}"
   ]
  },
  {
   "cell_type": "code",
   "execution_count": 16,
   "metadata": {
    "id": "_23z5jNhQtIm"
   },
   "outputs": [],
   "source": [
    "# Compute the intersection of product sets for pairs of queries\n",
    "edges = []\n",
    "for i, q1 in enumerate(queries):\n",
    "    for j, q2 in enumerate(queries):\n",
    "        if i < j:\n",
    "            common_products = query_products[i].intersection(query_products[j])\n",
    "            if len(common_products) > 50:\n",
    "                edges.append((i, j, len(common_products)))"
   ]
  },
  {
   "cell_type": "code",
   "execution_count": null,
   "metadata": {
    "id": "BQNZEVuYQvHh"
   },
   "outputs": [],
   "source": [
    "# Create the graph and adjacency matrix\n",
    "G = nx.Graph()\n",
    "G.add_nodes_from(queries)\n",
    "G.add_weighted_edges_from(edges)\n",
    "adj_matrix = lil_matrix((len(queries), len(queries)))\n",
    "for i, query_i in enumerate(queries):\n",
    "    for j, query_j in enumerate(queries):\n",
    "        if i < j and G.has_edge(query_i, query_j):\n",
    "            adj_matrix[i, j] = G[query_i][query_j]['weight']"
   ]
  },
  {
   "cell_type": "code",
   "execution_count": null,
   "metadata": {
    "id": "TcrIjqaKQw8O"
   },
   "outputs": [],
   "source": [
    "# Convert adjacency matrix to PyTorch sparse tensor\n",
    "edge_index = torch.tensor(adj_matrix.nonzero(), dtype=torch.long).t().contiguous()\n",
    "edge_weight = torch.tensor(adj_matrix.data, dtype=torch.float)\n",
    "data = Data(edge_index=edge_index, edge_attr=edge_weight, num_nodes=len(queries))"
   ]
  },
  {
   "cell_type": "code",
   "execution_count": null,
   "metadata": {
    "id": "tmZOaP4kQye6"
   },
   "outputs": [],
   "source": [
    "# Use PyTorch sparse tensor instead of NumPy array for x\n",
    "x = torch.eye(len(queries)).to_sparse()\n"
   ]
  },
  {
   "cell_type": "code",
   "execution_count": null,
   "metadata": {
    "id": "-NDwXndGQzpW"
   },
   "outputs": [],
   "source": [
    "# Train Node2Vec model\n",
    "model = Node2Vec(data.edge_index, embedding_dim=128, walk_length=10,\n",
    "                 context_size=5, walks_per_node=10, num_negative_samples=1,\n",
    "                 p=1, q=1, sparse=True)\n",
    "loader = model.loader(batch_size=128, shuffle=True, num_workers=4)\n",
    "optimizer = torch.optim.SparseAdam(list(model.parameters()), lr=0.01)\n"
   ]
  },
  {
   "cell_type": "code",
   "execution_count": null,
   "metadata": {
    "id": "A4Yen7iyQ112"
   },
   "outputs": [],
   "source": [
    "model.train()\n",
    "for epoch in range(10):\n",
    "    for pos_rw, neg_rw in loader:\n",
    "        optimizer.zero_grad()\n",
    "        loss = model.loss(pos_rw.to(device), neg_rw.to(device))\n",
    "        loss.backward()\n",
    "        optimizer.step()\n",
    "    model.eval()\n",
    "    z = model()\n",
    "    model.train()\n"
   ]
  },
  {
   "cell_type": "code",
   "execution_count": null,
   "metadata": {
    "id": "n8_-UYF7Q4lP"
   },
   "outputs": [],
   "source": [
    "query_embeddings = z.detach().cpu().numpy()[:len(queries)]\n"
   ]
  },
  {
   "cell_type": "code",
   "execution_count": null,
   "metadata": {
    "id": "-wawnIyrQ5qm"
   },
   "outputs": [],
   "source": [
    "# Cluster the query embeddings\n",
    "from sklearn.cluster import KMeans\n",
    "from sklearn.metrics import silhouette_score\n",
    "\n",
    "kmeans = KMeans(n_clusters=3, random_state=0).fit(query_embeddings)\n",
    "silhouette_avg = silhouette_score(query_embeddings, kmeans.labels_)\n",
    "print(f\"Silhouette Score: {silhouette_avg}\")\n"
   ]
  },
  {
   "cell_type": "code",
   "execution_count": null,
   "metadata": {
    "id": "Lzv4RIRNRA2F"
   },
   "outputs": [],
   "source": []
  }
 ],
 "metadata": {
  "colab": {
   "provenance": []
  },
  "gpuClass": "standard",
  "kernelspec": {
   "display_name": "Python 3 (ipykernel)",
   "language": "python",
   "name": "python3"
  },
  "language_info": {
   "codemirror_mode": {
    "name": "ipython",
    "version": 3
   },
   "file_extension": ".py",
   "mimetype": "text/x-python",
   "name": "python",
   "nbconvert_exporter": "python",
   "pygments_lexer": "ipython3",
   "version": "3.7.16"
  }
 },
 "nbformat": 4,
 "nbformat_minor": 1
}
